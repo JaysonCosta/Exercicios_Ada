{
  "nbformat": 4,
  "nbformat_minor": 0,
  "metadata": {
    "colab": {
      "provenance": [],
      "toc_visible": true,
      "authorship_tag": "ABX9TyN6iwDSQlmvBCJ3d0qNKznM",
      "include_colab_link": true
    },
    "kernelspec": {
      "name": "python3",
      "display_name": "Python 3"
    },
    "language_info": {
      "name": "python"
    }
  },
  "cells": [
    {
      "cell_type": "markdown",
      "metadata": {
        "id": "view-in-github",
        "colab_type": "text"
      },
      "source": [
        "<a href=\"https://colab.research.google.com/github/JaysonCosta/Exercicios_Ada/blob/main/ExerciciosAda.ipynb\" target=\"_parent\"><img src=\"https://colab.research.google.com/assets/colab-badge.svg\" alt=\"Open In Colab\"/></a>"
      ]
    },
    {
      "cell_type": "markdown",
      "metadata": {
        "id": "apALrpLpJPJP"
      },
      "source": [
        "## Vamos praticar?"
      ]
    },
    {
      "cell_type": "markdown",
      "metadata": {
        "id": "fOQZutjuJPJP"
      },
      "source": [
        "Em grupos, resolvam os exercícios a seguir."
      ]
    },
    {
      "cell_type": "markdown",
      "metadata": {
        "id": "rhFjgNsOJPJP"
      },
      "source": [
        "**1.** Em uma **análise de regressão**, usualmente estamos interessados em descrever relações entre variáveis de um dado conjunto de dados por meio de uma **função** que descreva, o tanto quanto possível, estas relações.\n",
        "\n",
        "Por exemplo, no gráfico abaixo, os pontos vermelhos relacionam as medidas das duas variáveis sendo avaliadas (nos eixos x e y); e a linha azul aproxima a relação entre elas por uma função linear."
      ]
    },
    {
      "cell_type": "markdown",
      "metadata": {
        "id": "7ZE8h7tfJPJP"
      },
      "source": [
        "É possível ver que nem todos os pontos obedecem exatamente à relação ditada pela reta (isto é, há pontos que não estão exatamente \"sobre a reta\"; mas, sim, ligeraimente acima, ou abaixo, dela). Isto, contudo, é esperado em um modelo de regressão, por inúmeras fontes de incerteza associadas às medições."
      ]
    },
    {
      "cell_type": "markdown",
      "metadata": {
        "id": "8jGFkaQOJPJP"
      },
      "source": [
        "Uma das métricas que utilizamos para avaliar a qualidade de uma regressão é o **erro quadrático médio (EQM)**, que mensura a diferença total entre cada predição da regressão ($y_{prediction}$; que no nosso caso seriam os valores de y para a reta azul) com o valor real de cada i-ésima medida ($y_{i}$; que no nosso caso seriam as coordenadas y para cada ponto vermelho do gráfico). O EQM pode ser definido como:"
      ]
    },
    {
      "cell_type": "markdown",
      "metadata": {
        "id": "XxyJl0nxJPJP"
      },
      "source": [
        "$EQM = \\frac{1}{n}\\sum_{i=1}^{n}(y_{prediction} - y_{i})^2$."
      ]
    },
    {
      "cell_type": "markdown",
      "metadata": {
        "id": "WxqluFJIJPJQ"
      },
      "source": [
        "Isto posto, escreva uma função que calcule o EQM recebendo, como entrada, os vetores $y_{prediction}$ e $y_{i}$. Por exemplo, digamos que sua função se chame *calculate_eqm*, ela deve operar da seguinte forma:"
      ]
    },
    {
      "cell_type": "code",
      "execution_count": null,
      "metadata": {
        "colab": {
          "base_uri": "https://localhost:8080/",
          "height": 218
        },
        "id": "BCAMXZsTJPJQ",
        "outputId": "8db1a158-e332-4ed8-f11d-667f0fb57a98"
      },
      "outputs": [
        {
          "output_type": "error",
          "ename": "NameError",
          "evalue": "ignored",
          "traceback": [
            "\u001b[0;31m---------------------------------------------------------------------------\u001b[0m",
            "\u001b[0;31mNameError\u001b[0m                                 Traceback (most recent call last)",
            "\u001b[0;32m<ipython-input-1-4180816adfb3>\u001b[0m in \u001b[0;36m<module>\u001b[0;34m\u001b[0m\n\u001b[1;32m      1\u001b[0m \u001b[0;31m# dados dois arrays quaisquer de mesmo tamanho, a função deve retornar o EQM\u001b[0m\u001b[0;34m\u001b[0m\u001b[0;34m\u001b[0m\u001b[0;34m\u001b[0m\u001b[0m\n\u001b[0;32m----> 2\u001b[0;31m \u001b[0my_prediction\u001b[0m \u001b[0;34m=\u001b[0m \u001b[0mnp\u001b[0m\u001b[0;34m.\u001b[0m\u001b[0marray\u001b[0m\u001b[0;34m(\u001b[0m\u001b[0;34m[\u001b[0m\u001b[0;36m1\u001b[0m\u001b[0;34m,\u001b[0m\u001b[0;36m2\u001b[0m\u001b[0;34m,\u001b[0m\u001b[0;36m3\u001b[0m\u001b[0;34m]\u001b[0m\u001b[0;34m)\u001b[0m\u001b[0;34m\u001b[0m\u001b[0;34m\u001b[0m\u001b[0m\n\u001b[0m\u001b[1;32m      3\u001b[0m \u001b[0my_i\u001b[0m \u001b[0;34m=\u001b[0m \u001b[0mnp\u001b[0m\u001b[0;34m.\u001b[0m\u001b[0marray\u001b[0m\u001b[0;34m(\u001b[0m\u001b[0;34m[\u001b[0m\u001b[0;36m0\u001b[0m\u001b[0;34m,\u001b[0m\u001b[0;36m0\u001b[0m\u001b[0;34m,\u001b[0m\u001b[0;36m3\u001b[0m\u001b[0;34m]\u001b[0m\u001b[0;34m)\u001b[0m\u001b[0;34m\u001b[0m\u001b[0;34m\u001b[0m\u001b[0m\n\u001b[1;32m      4\u001b[0m \u001b[0mcalculate_eqm\u001b[0m\u001b[0;34m(\u001b[0m\u001b[0my_prediction\u001b[0m\u001b[0;34m,\u001b[0m\u001b[0my_i\u001b[0m\u001b[0;34m)\u001b[0m\u001b[0;34m\u001b[0m\u001b[0;34m\u001b[0m\u001b[0m\n",
            "\u001b[0;31mNameError\u001b[0m: name 'np' is not defined"
          ]
        }
      ],
      "source": [
        "# dados dois arrays quaisquer de mesmo tamanho, a função deve retornar o EQM\n",
        "y_prediction = np.array([1,2,3])\n",
        "y_i = np.array([0,0,3])\n",
        "calculate_eqm(y_prediction,y_i)"
      ]
    },
    {
      "cell_type": "markdown",
      "source": [
        "Solução Exercicio 1"
      ],
      "metadata": {
        "id": "de1nQ6RZAVLw"
      }
    },
    {
      "cell_type": "code",
      "execution_count": null,
      "metadata": {
        "id": "udTGOl5yJPJQ",
        "colab": {
          "base_uri": "https://localhost:8080/"
        },
        "outputId": "bc84f0aa-2bce-432a-d0ff-3c2f762ea513"
      },
      "outputs": [
        {
          "output_type": "execute_result",
          "data": {
            "text/plain": [
              "1.6666666666666665"
            ]
          },
          "metadata": {},
          "execution_count": 6
        }
      ],
      "source": [
        "# Solução\n",
        "import numpy as np\n",
        "\n",
        "y_pred = np.array([1,2,3])\n",
        "i = np.array([0,0,3])\n",
        "\n",
        "def cEQM(y_pred,i):\n",
        "\n",
        "  a = (1/len(y_pred)) * sum((y_pred-i)**2)\n",
        "  return a\n",
        "\n",
        "cEQM(y_pred,i)"
      ]
    },
    {
      "cell_type": "markdown",
      "metadata": {
        "id": "WLHpn-yDJPJQ"
      },
      "source": [
        "**2.** A eletroencefalografia (EEG) é uma técnica que mensura potenciais elétricos cerebrais em diversas regiões do escalpo do paciente. Suponha que você recebeu um conjunto de dados na forma de uma matriz de 64 x 512 elementos, em que cada linha contém o sinal gravado em um dos **eletrodos** espalhados pelo escalpo em um exame de EEG, e cada coluna contém um valor de potencial elétrico, em microvolts. "
      ]
    },
    {
      "cell_type": "markdown",
      "metadata": {
        "id": "y2rlYVHEJPJQ"
      },
      "source": [
        "Como o sinal de EEG é muito suscetível a ruídos externos (interferências na qualidade do sinal), uma operação comum para atenuar a interferência no sinal consiste em tirar a média do potencial elétrico de todos os eletrodos, e subtrair este valor de cada um deles. Isto atenua fontes de ruído ao sinal comuns a todos os eletrodos. Em termos matemáticos, o sinal processado por esta operação, $X_{e,i}$ para cada eletrodo (e) e amostra (i), é dado por:"
      ]
    },
    {
      "cell_type": "markdown",
      "metadata": {
        "id": "pvyBjldpJPJQ"
      },
      "source": [
        "$X_{e,i} = \\hat{X_{e,i}} - \\frac{1}{N}\\sum_{e=1}^{N}\\hat{X_{e,i}}$,\n",
        "\n",
        "em que $\\hat{X_{e,i}}$ representa o sinal original (ou seja, é a matriz de entrada de 64 x 512 elementos), e $N$ indica o total de eletrodos."
      ]
    },
    {
      "cell_type": "markdown",
      "metadata": {
        "id": "K2-8qBUMJPJQ"
      },
      "source": [
        "Com o exposto acima, escreva uma função que retorne uma matriz com os sinais de EEG processados conforme a operação mencionada. Sua função deve operar conforme o exemplo abaixo."
      ]
    },
    {
      "cell_type": "code",
      "execution_count": null,
      "metadata": {
        "id": "nrAE8_4CJPJQ",
        "outputId": "52808862-08c7-4d11-d71e-eebe91273114"
      },
      "outputs": [
        {
          "data": {
            "text/plain": [
              "(64, 512)"
            ]
          },
          "execution_count": 89,
          "metadata": {},
          "output_type": "execute_result"
        }
      ],
      "source": [
        "# vamos supor uma matriz de entrada gerada por dados aleatórios\n",
        "X = np.random.randn(64,512)\n",
        "X.shape # apenas para verificar as dimensões"
      ]
    },
    {
      "cell_type": "code",
      "execution_count": null,
      "metadata": {
        "id": "NL7LXb2sJPJR",
        "outputId": "f0f3ea31-8e8f-4eea-b3ec-ef9551b2247a"
      },
      "outputs": [
        {
          "data": {
            "text/plain": [
              "(64, 512)"
            ]
          },
          "execution_count": 92,
          "metadata": {},
          "output_type": "execute_result"
        }
      ],
      "source": [
        "# a função deve executar a operação equacionada anteriormente, retornando uma nova matriz\n",
        "X_processado = process_EEG_signal(X)\n",
        "X_processado.shape"
      ]
    },
    {
      "cell_type": "code",
      "execution_count": null,
      "metadata": {
        "id": "LizfYeoJJPJR",
        "outputId": "8f858708-e293-4327-9dba-bb54fe80cc20"
      },
      "outputs": [
        {
          "data": {
            "text/plain": [
              "-53.08727366483029"
            ]
          },
          "execution_count": 93,
          "metadata": {},
          "output_type": "execute_result"
        }
      ],
      "source": [
        "# Somando as diferenças entre cada elemento das duas matrizes, apenas para ilustrar que elas não são iguais\n",
        "(X_processado - X).sum()"
      ]
    },
    {
      "cell_type": "code",
      "execution_count": null,
      "metadata": {
        "id": "auWEVvW_JPJR",
        "outputId": "14d25a6d-e111-4986-eab6-9964c9c5ba66"
      },
      "outputs": [
        {
          "data": {
            "text/plain": [
              "array([[ 0.29305925,  0.89663038, -0.61032202, ..., -0.88086364,\n",
              "        -0.8818789 ,  0.51260497],\n",
              "       [-0.01274415,  1.05439522,  0.47958092, ..., -2.15387924,\n",
              "         0.70721168,  0.97029889],\n",
              "       [ 1.09478371, -0.16120847,  1.58400361, ...,  0.20981813,\n",
              "         2.17373837,  0.94032162],\n",
              "       ...,\n",
              "       [-0.45294842, -2.28939505,  1.10111998, ...,  1.63581703,\n",
              "        -0.39394924, -1.13400723],\n",
              "       [-0.22669886,  0.25413429, -1.17870637, ..., -0.09509442,\n",
              "         0.90733806,  0.37999411],\n",
              "       [ 0.15476933, -0.03654717, -1.09982762, ...,  0.67600047,\n",
              "        -0.84533328, -0.56433144]])"
            ]
          },
          "execution_count": 94,
          "metadata": {},
          "output_type": "execute_result"
        }
      ],
      "source": [
        "# Visualizando as matrizes, para verificar uma vez mais que, de fato, os elementos são diferentes\n",
        "X"
      ]
    },
    {
      "cell_type": "code",
      "execution_count": null,
      "metadata": {
        "id": "9I2fXaAcJPJR",
        "outputId": "3e9bf075-5e6d-4f32-fb37-5e9c8ba29939"
      },
      "outputs": [
        {
          "data": {
            "text/plain": [
              "array([[ 0.36713022,  0.85772513, -0.54902169, ..., -0.85626087,\n",
              "        -0.97611435,  0.51718998],\n",
              "       [ 0.06132682,  1.01548997,  0.54088126, ..., -2.12927647,\n",
              "         0.61297623,  0.97488389],\n",
              "       [ 1.16885469, -0.20011372,  1.64530394, ...,  0.23442091,\n",
              "         2.07950292,  0.94490663],\n",
              "       ...,\n",
              "       [-0.37887744, -2.3283003 ,  1.16242031, ...,  1.6604198 ,\n",
              "        -0.4881847 , -1.12942223],\n",
              "       [-0.15262788,  0.21522904, -1.11740604, ..., -0.07049164,\n",
              "         0.81310261,  0.38457911],\n",
              "       [ 0.22884031, -0.07545242, -1.03852729, ...,  0.70060324,\n",
              "        -0.93956874, -0.55974643]])"
            ]
          },
          "execution_count": 95,
          "metadata": {},
          "output_type": "execute_result"
        }
      ],
      "source": [
        "# Matriz após o processamento descrito no enunciado\n",
        "X_processado"
      ]
    },
    {
      "cell_type": "markdown",
      "source": [
        "Solução Exercicio 2"
      ],
      "metadata": {
        "id": "Nk1gaMNlAQDu"
      }
    },
    {
      "cell_type": "code",
      "execution_count": null,
      "metadata": {
        "id": "y9NipCEgJPJR",
        "colab": {
          "base_uri": "https://localhost:8080/"
        },
        "outputId": "8e08b1cd-75dd-4f9d-cdc6-4f246365a2c4"
      },
      "outputs": [
        {
          "output_type": "execute_result",
          "data": {
            "text/plain": [
              "-203.69388368377338"
            ]
          },
          "metadata": {},
          "execution_count": 16
        }
      ],
      "source": [
        "import numpy as np\n",
        "\n",
        "X = np.random.randn(64,512)\n",
        "\n",
        "def process_EEG_signal(X):\n",
        "\n",
        "  process = X - ((1/len(X)) * sum(X))\n",
        "  return process\n",
        "\n",
        "x_process = process_EEG_signal(X)\n",
        "x_process.shape\n",
        "x_process\n",
        "(x_process - X).sum()\n"
      ]
    },
    {
      "cell_type": "markdown",
      "metadata": {
        "id": "J_2P-Fo5JPJR"
      },
      "source": [
        "**3.** Em estatística, um **outlier** é um valor que destoa consideravelmente da distribuição à qual está associado. Um dos critérios para idenficar outliers consiste em encontrar a **distância interquantil** (IQR), ou seja, a diferença entre o terceiro (Q3) e o primeiro quartis (Q1) da distribuição, e tomar como outliers todos os pontos abaixo de 1.5*IQR - Q1, ou acima de 1.5*IQR + Q3."
      ]
    },
    {
      "cell_type": "markdown",
      "metadata": {
        "id": "l3Zm3sK4JPJR"
      },
      "source": [
        "Escreva uma função que, dada uma matriz de dados de entrada de dimensões $N_{observações} \\times N_{features}$ retorne três requisitos: \n",
        "- uma matriz booleana indicando a existência de outliers nos dados de entrada;\n",
        "- a quantidade de outliers\n",
        "- quem são os outliers (os valores)."
      ]
    },
    {
      "cell_type": "markdown",
      "metadata": {
        "id": "Ezu5UXPwJPJS"
      },
      "source": [
        "**Algumas definições:**\n",
        "- um *quantil* divide a distribuição, após ordenados os pontos, segundo algum ponto de corte;\n",
        "- o **primeiro quartil** é o ponto para o qual 25 % dos valores da distribuição estão abaixo dele;\n",
        "- o **terceiro quartil** é o ponto para o qual 75 % dos valores da distribuição estão abaixo dele.\n",
        "\n",
        "Pode ser útil consultar a função **numpy.quantile**."
      ]
    },
    {
      "cell_type": "markdown",
      "metadata": {
        "id": "88arMRO1JPJS"
      },
      "source": [
        "Exemplo de operação da função:"
      ]
    },
    {
      "cell_type": "code",
      "execution_count": null,
      "metadata": {
        "id": "rpNPzOAgJPJS",
        "outputId": "2592adcc-45e0-4471-90b8-410b784de220",
        "colab": {
          "base_uri": "https://localhost:8080/"
        }
      },
      "outputs": [
        {
          "output_type": "execute_result",
          "data": {
            "text/plain": [
              "33"
            ]
          },
          "metadata": {},
          "execution_count": 4
        }
      ],
      "source": [
        "# Geremos um conjunto de dados qualquer\n",
        "import numpy as np\n",
        "\n",
        "m_out = np.random.randn(300,15)\n",
        "\n",
        "def calcula_out(X):\n",
        "\n",
        "\n",
        "  q1,q3 = np.quantile(X,[0.25,0.75])\n",
        "  iqr =  q3 - q1\n",
        "  is_outliers = ((X<(q1-1.5*iqr)) | (X>(q3+1.5*iqr)))\n",
        "  outliers_count  = np.count_nonzero(is_outliers)\n",
        "\n",
        "  return is_outliers,outliers_count, X[is_outliers]\n",
        "\n",
        "\n",
        "is_outlier, outliers_count, outliers = calcula_out(m_out)\n",
        "\n"
      ]
    },
    {
      "cell_type": "code",
      "execution_count": null,
      "metadata": {
        "id": "aGjQRqA5JPJS"
      },
      "outputs": [],
      "source": [
        "# identificamos os requisitos com nossa com nossa função \"locate_outliers\"\n",
        "is_outlier, outliers_count, outliers = locate_outliers(X)"
      ]
    },
    {
      "cell_type": "code",
      "execution_count": null,
      "metadata": {
        "id": "2kYZ_b2yJPJS",
        "outputId": "04f0b2f0-aa8b-4256-ff0b-8803300a4d28",
        "colab": {
          "base_uri": "https://localhost:8080/"
        }
      },
      "outputs": [
        {
          "output_type": "execute_result",
          "data": {
            "text/plain": [
              "array([[False, False, False, ..., False, False, False],\n",
              "       [False, False, False, ..., False, False, False],\n",
              "       [False, False, False, ..., False, False, False],\n",
              "       ...,\n",
              "       [False, False, False, ..., False, False, False],\n",
              "       [False, False, False, ..., False, False, False],\n",
              "       [False, False, False, ..., False, False, False]])"
            ]
          },
          "metadata": {},
          "execution_count": 5
        }
      ],
      "source": [
        "is_outlier"
      ]
    },
    {
      "cell_type": "code",
      "execution_count": null,
      "metadata": {
        "id": "cFzwiyQZJPJS",
        "outputId": "5beb1c37-7556-48c2-9599-987a078dd47e",
        "colab": {
          "base_uri": "https://localhost:8080/"
        }
      },
      "outputs": [
        {
          "output_type": "execute_result",
          "data": {
            "text/plain": [
              "33"
            ]
          },
          "metadata": {},
          "execution_count": 6
        }
      ],
      "source": [
        "outliers_count"
      ]
    },
    {
      "cell_type": "code",
      "execution_count": null,
      "metadata": {
        "id": "DYOmshDGJPJS",
        "outputId": "d7380729-fb8e-4b2d-cb79-5e266358a3b3",
        "colab": {
          "base_uri": "https://localhost:8080/"
        }
      },
      "outputs": [
        {
          "output_type": "execute_result",
          "data": {
            "text/plain": [
              "array([-3.31540935, -2.79123959, -2.86008775,  2.76347528, -2.97158615,\n",
              "       -2.78404013, -3.16794537, -3.21537771, -3.66841292,  3.1358235 ,\n",
              "        2.78287618,  3.12544716, -2.77291162,  3.09981323,  2.78615565,\n",
              "        3.12169255, -2.97103909, -3.00236661, -2.95342426,  3.13367626,\n",
              "        2.92294545, -3.63526043,  3.0985199 , -2.75770621, -4.19720307,\n",
              "        2.89870372,  2.93274625, -2.85881597,  2.85303997,  2.82475213,\n",
              "        4.48473776,  2.80230062,  2.88133681])"
            ]
          },
          "metadata": {},
          "execution_count": 7
        }
      ],
      "source": [
        "outliers"
      ]
    },
    {
      "cell_type": "markdown",
      "source": [
        "Solução Exercicio 3"
      ],
      "metadata": {
        "id": "hVQ_12kfAhT8"
      }
    },
    {
      "cell_type": "code",
      "execution_count": null,
      "metadata": {
        "id": "i_U6j1K0JPJS"
      },
      "outputs": [],
      "source": [
        "# Solução\n",
        "import numpy as np\n",
        "\n",
        "m_out = np.random.randn(300,15)\n",
        "\n",
        "def calcula_out(X):\n",
        "\n",
        "\n",
        "  q1,q3 = np.quantile(X,[0.25,0.75])\n",
        "  iqr =  q3 - q1\n",
        "  is_outliers = ((X<(q1-1.5*iqr)) | (X>(q3+1.5*iqr)))\n",
        "  outliers_count  = np.count_nonzero(is_outliers)\n",
        "\n",
        "  return is_outliers,outliers_count, X[is_outliers]\n",
        "\n",
        "\n",
        "is_outlier, outliers_count, outliers = calcula_out(m_out)"
      ]
    },
    {
      "cell_type": "code",
      "source": [
        "is_outlier"
      ],
      "metadata": {
        "colab": {
          "base_uri": "https://localhost:8080/"
        },
        "id": "KfePK92Hzpk_",
        "outputId": "3a186432-31a1-4d7d-a271-4f20047b807d"
      },
      "execution_count": null,
      "outputs": [
        {
          "output_type": "execute_result",
          "data": {
            "text/plain": [
              "array([[False, False, False, ..., False, False, False],\n",
              "       [False, False, False, ..., False, False, False],\n",
              "       [False, False, False, ..., False, False, False],\n",
              "       ...,\n",
              "       [False, False, False, ..., False, False, False],\n",
              "       [False, False, False, ..., False, False, False],\n",
              "       [False, False, False, ..., False, False, False]])"
            ]
          },
          "metadata": {},
          "execution_count": 9
        }
      ]
    },
    {
      "cell_type": "code",
      "source": [
        "outliers_count"
      ],
      "metadata": {
        "colab": {
          "base_uri": "https://localhost:8080/"
        },
        "id": "-Jk676ayzq2C",
        "outputId": "d67cffc7-f3be-49bc-8afb-7d90d3d9eb81"
      },
      "execution_count": null,
      "outputs": [
        {
          "output_type": "execute_result",
          "data": {
            "text/plain": [
              "29"
            ]
          },
          "metadata": {},
          "execution_count": 10
        }
      ]
    },
    {
      "cell_type": "code",
      "source": [
        "outliers"
      ],
      "metadata": {
        "colab": {
          "base_uri": "https://localhost:8080/"
        },
        "id": "V_klg50Zzr_B",
        "outputId": "dca94df5-0413-436f-f23f-a38994412b2f"
      },
      "execution_count": null,
      "outputs": [
        {
          "output_type": "execute_result",
          "data": {
            "text/plain": [
              "array([-3.67954087, -3.42906066, -2.94740703,  3.6125385 ,  2.79249535,\n",
              "        3.06187311, -2.84623483,  2.76253433,  2.84825204, -3.31132205,\n",
              "       -2.96078052, -2.85114645, -2.93175854, -3.30936059, -3.05687933,\n",
              "       -3.00433801,  2.76674761, -3.30351927, -3.91695738,  2.91269921,\n",
              "        3.23258654,  3.15550228, -2.91414062, -3.17172715, -3.24205333,\n",
              "        2.7599971 , -3.14950425,  2.89521976,  2.77458356])"
            ]
          },
          "metadata": {},
          "execution_count": 11
        }
      ]
    }
  ]
}