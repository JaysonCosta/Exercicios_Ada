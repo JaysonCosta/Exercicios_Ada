{
  "nbformat": 4,
  "nbformat_minor": 0,
  "metadata": {
    "colab": {
      "provenance": [],
      "include_colab_link": true
    },
    "kernelspec": {
      "name": "python3",
      "display_name": "Python 3"
    },
    "language_info": {
      "name": "python"
    }
  },
  "cells": [
    {
      "cell_type": "markdown",
      "metadata": {
        "id": "view-in-github",
        "colab_type": "text"
      },
      "source": [
        "<a href=\"https://colab.research.google.com/github/JaysonCosta/Exercicios_Ada/blob/main/Projeto_Finalizado_modulo_3_grupo_2(salary_datascience).ipynb\" target=\"_parent\"><img src=\"https://colab.research.google.com/assets/colab-badge.svg\" alt=\"Open In Colab\"/></a>"
      ]
    },
    {
      "cell_type": "markdown",
      "source": [
        "# Etapa de Verificação e Tratamento do dataset"
      ],
      "metadata": {
        "id": "EcAc7cQEk7j3"
      }
    },
    {
      "cell_type": "markdown",
      "source": [
        "**Este collab tem como propósito a correção de incongruências do dataset**"
      ],
      "metadata": {
        "id": "gVgSzDbA6ZrS"
      }
    },
    {
      "cell_type": "markdown",
      "source": [
        "Anotações de problemas encontrados no datasets:\n",
        "- Valores nulos encontrados nas tabelas: \n",
        "company\n",
        "level\n",
        "tag\n",
        "gender\n",
        "other details\n",
        "Race\n",
        "Education\n",
        "\n",
        "- Repetição de valores encontrados na coluna \"company\",nomes das empresas contratantes se repetem em formas diferentes (ex: Microsoft e microsoft)\n",
        "\n",
        "- Coluna \"level\" apresenta muitos resultados, acredito ser uma coluna problemática\n",
        "\n",
        "- Em uma consulta a olho nu, percebi alguns outliers na coluna \"totalyearlycompensation\"\n",
        "\n",
        "- Valores estranhos nas colunas \"yearsofexperience\" e \"yearsatcompany\", necessario estudo sobre o dataset( conferir kaggle)\n",
        "\n",
        "- Coluna basesalary possui outliers e valores com 0\n",
        "\n",
        "-\n",
        "\n",
        "\n"
      ],
      "metadata": {
        "id": "4vucHmgIZOI-"
      }
    },
    {
      "cell_type": "markdown",
      "source": [
        "Correções do dataset:\n",
        "\n",
        "Valores nulos\n",
        "- company:\n",
        "- level: Dropar\n",
        "- tag: Dropar\n",
        "- gender: alterar \"Nan\" para \"Não informado\" (tirar dúvida com professor para ver se é utilizável ou não)\n",
        "- other details: Dropar\n",
        "- Race: alterar \"Nan\" para \"Não informado\" (tirar dúvida com professor para ver se é utilizável ou não)\n",
        "- Education: \"Nan\" para \"Não informado\" (tirar dúvida com professor para ver se é utilizável ou não)\n",
        "-location: Dividir em 3 colunas (cidade, estado e páis). Depois dropar colunas não importantes\n",
        "\n",
        "Tabelas que vão ser dropadas: (posteriormente explicar o motivo do drop)\n",
        "- timestamp\n",
        "- rownumber\n",
        "- Masters_Degree\n",
        "- Bachelors_Degree\n",
        "- Doctorate_Degree\n",
        "- Highschool\n",
        "- Some_College\n",
        "- Race_Asian\n",
        "- Race_White\n",
        "- Race_Two_Or_More\n",
        "- Race_Black \n",
        "- Race_Hispanic   \n",
        "\n",
        "Tabelas com correções especificas:\n",
        "- Company: usar função str.title()\n",
        "- basesalary: substituir os '0' pela média ou mediana ou moda dos valores sem outliers\n",
        "- totalyearlycompensation: substituir os '0' pela média ou mediana ou moda dos valores sem outliers\n",
        "\n",
        "Tabelas para análise:\n",
        "- cityid\n",
        "- dmaid\n",
        "- yearsofexperience: Conferir os valores abaixo de 0 e ver o quantidade\n",
        "- yearsatcompany: Conferir os valores abaixo de 0 e ver o quantidade"
      ],
      "metadata": {
        "id": "VJyYYePe17Q6"
      }
    },
    {
      "cell_type": "markdown",
      "source": [],
      "metadata": {
        "id": "Sa0CHX0BTCFN"
      }
    },
    {
      "cell_type": "markdown",
      "source": [
        "#Etapa de Verificação dos dados "
      ],
      "metadata": {
        "id": "_mXRWNi39yqZ"
      }
    },
    {
      "cell_type": "code",
      "execution_count": 144,
      "metadata": {
        "id": "tqNEncTSujmg",
        "colab": {
          "base_uri": "https://localhost:8080/",
          "height": 391
        },
        "outputId": "890e7290-123d-492d-b63a-f81afb5b0113"
      },
      "outputs": [
        {
          "output_type": "execute_result",
          "data": {
            "text/plain": [
              "            timestamp    company level                         title  \\\n",
              "0   6/7/2017 11:33:27     Oracle    L3               Product Manager   \n",
              "1  6/10/2017 17:11:29       eBay  SE 2             Software Engineer   \n",
              "2  6/11/2017 14:53:57     Amazon    L7               Product Manager   \n",
              "3   6/17/2017 0:23:14      Apple    M1  Software Engineering Manager   \n",
              "4  6/20/2017 10:58:51  Microsoft    60             Software Engineer   \n",
              "\n",
              "   totalyearlycompensation           location  yearsofexperience  \\\n",
              "0                   127000   Redwood City, CA                1.5   \n",
              "1                   100000  San Francisco, CA                5.0   \n",
              "2                   310000        Seattle, WA                8.0   \n",
              "3                   372000      Sunnyvale, CA                7.0   \n",
              "4                   157000  Mountain View, CA                5.0   \n",
              "\n",
              "   yearsatcompany  tag  basesalary  stockgrantvalue    bonus gender  \\\n",
              "0             1.5  NaN    107000.0          20000.0  10000.0    NaN   \n",
              "1             3.0  NaN         0.0              0.0      0.0    NaN   \n",
              "2             0.0  NaN    155000.0              0.0      0.0    NaN   \n",
              "3             5.0  NaN    157000.0         180000.0  35000.0    NaN   \n",
              "4             3.0  NaN         0.0              0.0      0.0    NaN   \n",
              "\n",
              "  otherdetails  cityid  dmaid  rowNumber  Masters_Degree  Bachelors_Degree  \\\n",
              "0          NaN    7392  807.0          1               0                 0   \n",
              "1          NaN    7419  807.0          2               0                 0   \n",
              "2          NaN   11527  819.0          3               0                 0   \n",
              "3          NaN    7472  807.0          7               0                 0   \n",
              "4          NaN    7322  807.0          9               0                 0   \n",
              "\n",
              "   Doctorate_Degree  Highschool  Some_College  Race_Asian  Race_White  \\\n",
              "0                 0           0             0           0           0   \n",
              "1                 0           0             0           0           0   \n",
              "2                 0           0             0           0           0   \n",
              "3                 0           0             0           0           0   \n",
              "4                 0           0             0           0           0   \n",
              "\n",
              "   Race_Two_Or_More  Race_Black  Race_Hispanic Race Education  \n",
              "0                 0           0              0  NaN       NaN  \n",
              "1                 0           0              0  NaN       NaN  \n",
              "2                 0           0              0  NaN       NaN  \n",
              "3                 0           0              0  NaN       NaN  \n",
              "4                 0           0              0  NaN       NaN  "
            ],
            "text/html": [
              "\n",
              "  <div id=\"df-d64d48d7-8945-43d6-8233-d8c739f6f1bf\">\n",
              "    <div class=\"colab-df-container\">\n",
              "      <div>\n",
              "<style scoped>\n",
              "    .dataframe tbody tr th:only-of-type {\n",
              "        vertical-align: middle;\n",
              "    }\n",
              "\n",
              "    .dataframe tbody tr th {\n",
              "        vertical-align: top;\n",
              "    }\n",
              "\n",
              "    .dataframe thead th {\n",
              "        text-align: right;\n",
              "    }\n",
              "</style>\n",
              "<table border=\"1\" class=\"dataframe\">\n",
              "  <thead>\n",
              "    <tr style=\"text-align: right;\">\n",
              "      <th></th>\n",
              "      <th>timestamp</th>\n",
              "      <th>company</th>\n",
              "      <th>level</th>\n",
              "      <th>title</th>\n",
              "      <th>totalyearlycompensation</th>\n",
              "      <th>location</th>\n",
              "      <th>yearsofexperience</th>\n",
              "      <th>yearsatcompany</th>\n",
              "      <th>tag</th>\n",
              "      <th>basesalary</th>\n",
              "      <th>stockgrantvalue</th>\n",
              "      <th>bonus</th>\n",
              "      <th>gender</th>\n",
              "      <th>otherdetails</th>\n",
              "      <th>cityid</th>\n",
              "      <th>dmaid</th>\n",
              "      <th>rowNumber</th>\n",
              "      <th>Masters_Degree</th>\n",
              "      <th>Bachelors_Degree</th>\n",
              "      <th>Doctorate_Degree</th>\n",
              "      <th>Highschool</th>\n",
              "      <th>Some_College</th>\n",
              "      <th>Race_Asian</th>\n",
              "      <th>Race_White</th>\n",
              "      <th>Race_Two_Or_More</th>\n",
              "      <th>Race_Black</th>\n",
              "      <th>Race_Hispanic</th>\n",
              "      <th>Race</th>\n",
              "      <th>Education</th>\n",
              "    </tr>\n",
              "  </thead>\n",
              "  <tbody>\n",
              "    <tr>\n",
              "      <th>0</th>\n",
              "      <td>6/7/2017 11:33:27</td>\n",
              "      <td>Oracle</td>\n",
              "      <td>L3</td>\n",
              "      <td>Product Manager</td>\n",
              "      <td>127000</td>\n",
              "      <td>Redwood City, CA</td>\n",
              "      <td>1.5</td>\n",
              "      <td>1.5</td>\n",
              "      <td>NaN</td>\n",
              "      <td>107000.0</td>\n",
              "      <td>20000.0</td>\n",
              "      <td>10000.0</td>\n",
              "      <td>NaN</td>\n",
              "      <td>NaN</td>\n",
              "      <td>7392</td>\n",
              "      <td>807.0</td>\n",
              "      <td>1</td>\n",
              "      <td>0</td>\n",
              "      <td>0</td>\n",
              "      <td>0</td>\n",
              "      <td>0</td>\n",
              "      <td>0</td>\n",
              "      <td>0</td>\n",
              "      <td>0</td>\n",
              "      <td>0</td>\n",
              "      <td>0</td>\n",
              "      <td>0</td>\n",
              "      <td>NaN</td>\n",
              "      <td>NaN</td>\n",
              "    </tr>\n",
              "    <tr>\n",
              "      <th>1</th>\n",
              "      <td>6/10/2017 17:11:29</td>\n",
              "      <td>eBay</td>\n",
              "      <td>SE 2</td>\n",
              "      <td>Software Engineer</td>\n",
              "      <td>100000</td>\n",
              "      <td>San Francisco, CA</td>\n",
              "      <td>5.0</td>\n",
              "      <td>3.0</td>\n",
              "      <td>NaN</td>\n",
              "      <td>0.0</td>\n",
              "      <td>0.0</td>\n",
              "      <td>0.0</td>\n",
              "      <td>NaN</td>\n",
              "      <td>NaN</td>\n",
              "      <td>7419</td>\n",
              "      <td>807.0</td>\n",
              "      <td>2</td>\n",
              "      <td>0</td>\n",
              "      <td>0</td>\n",
              "      <td>0</td>\n",
              "      <td>0</td>\n",
              "      <td>0</td>\n",
              "      <td>0</td>\n",
              "      <td>0</td>\n",
              "      <td>0</td>\n",
              "      <td>0</td>\n",
              "      <td>0</td>\n",
              "      <td>NaN</td>\n",
              "      <td>NaN</td>\n",
              "    </tr>\n",
              "    <tr>\n",
              "      <th>2</th>\n",
              "      <td>6/11/2017 14:53:57</td>\n",
              "      <td>Amazon</td>\n",
              "      <td>L7</td>\n",
              "      <td>Product Manager</td>\n",
              "      <td>310000</td>\n",
              "      <td>Seattle, WA</td>\n",
              "      <td>8.0</td>\n",
              "      <td>0.0</td>\n",
              "      <td>NaN</td>\n",
              "      <td>155000.0</td>\n",
              "      <td>0.0</td>\n",
              "      <td>0.0</td>\n",
              "      <td>NaN</td>\n",
              "      <td>NaN</td>\n",
              "      <td>11527</td>\n",
              "      <td>819.0</td>\n",
              "      <td>3</td>\n",
              "      <td>0</td>\n",
              "      <td>0</td>\n",
              "      <td>0</td>\n",
              "      <td>0</td>\n",
              "      <td>0</td>\n",
              "      <td>0</td>\n",
              "      <td>0</td>\n",
              "      <td>0</td>\n",
              "      <td>0</td>\n",
              "      <td>0</td>\n",
              "      <td>NaN</td>\n",
              "      <td>NaN</td>\n",
              "    </tr>\n",
              "    <tr>\n",
              "      <th>3</th>\n",
              "      <td>6/17/2017 0:23:14</td>\n",
              "      <td>Apple</td>\n",
              "      <td>M1</td>\n",
              "      <td>Software Engineering Manager</td>\n",
              "      <td>372000</td>\n",
              "      <td>Sunnyvale, CA</td>\n",
              "      <td>7.0</td>\n",
              "      <td>5.0</td>\n",
              "      <td>NaN</td>\n",
              "      <td>157000.0</td>\n",
              "      <td>180000.0</td>\n",
              "      <td>35000.0</td>\n",
              "      <td>NaN</td>\n",
              "      <td>NaN</td>\n",
              "      <td>7472</td>\n",
              "      <td>807.0</td>\n",
              "      <td>7</td>\n",
              "      <td>0</td>\n",
              "      <td>0</td>\n",
              "      <td>0</td>\n",
              "      <td>0</td>\n",
              "      <td>0</td>\n",
              "      <td>0</td>\n",
              "      <td>0</td>\n",
              "      <td>0</td>\n",
              "      <td>0</td>\n",
              "      <td>0</td>\n",
              "      <td>NaN</td>\n",
              "      <td>NaN</td>\n",
              "    </tr>\n",
              "    <tr>\n",
              "      <th>4</th>\n",
              "      <td>6/20/2017 10:58:51</td>\n",
              "      <td>Microsoft</td>\n",
              "      <td>60</td>\n",
              "      <td>Software Engineer</td>\n",
              "      <td>157000</td>\n",
              "      <td>Mountain View, CA</td>\n",
              "      <td>5.0</td>\n",
              "      <td>3.0</td>\n",
              "      <td>NaN</td>\n",
              "      <td>0.0</td>\n",
              "      <td>0.0</td>\n",
              "      <td>0.0</td>\n",
              "      <td>NaN</td>\n",
              "      <td>NaN</td>\n",
              "      <td>7322</td>\n",
              "      <td>807.0</td>\n",
              "      <td>9</td>\n",
              "      <td>0</td>\n",
              "      <td>0</td>\n",
              "      <td>0</td>\n",
              "      <td>0</td>\n",
              "      <td>0</td>\n",
              "      <td>0</td>\n",
              "      <td>0</td>\n",
              "      <td>0</td>\n",
              "      <td>0</td>\n",
              "      <td>0</td>\n",
              "      <td>NaN</td>\n",
              "      <td>NaN</td>\n",
              "    </tr>\n",
              "  </tbody>\n",
              "</table>\n",
              "</div>\n",
              "      <button class=\"colab-df-convert\" onclick=\"convertToInteractive('df-d64d48d7-8945-43d6-8233-d8c739f6f1bf')\"\n",
              "              title=\"Convert this dataframe to an interactive table.\"\n",
              "              style=\"display:none;\">\n",
              "        \n",
              "  <svg xmlns=\"http://www.w3.org/2000/svg\" height=\"24px\"viewBox=\"0 0 24 24\"\n",
              "       width=\"24px\">\n",
              "    <path d=\"M0 0h24v24H0V0z\" fill=\"none\"/>\n",
              "    <path d=\"M18.56 5.44l.94 2.06.94-2.06 2.06-.94-2.06-.94-.94-2.06-.94 2.06-2.06.94zm-11 1L8.5 8.5l.94-2.06 2.06-.94-2.06-.94L8.5 2.5l-.94 2.06-2.06.94zm10 10l.94 2.06.94-2.06 2.06-.94-2.06-.94-.94-2.06-.94 2.06-2.06.94z\"/><path d=\"M17.41 7.96l-1.37-1.37c-.4-.4-.92-.59-1.43-.59-.52 0-1.04.2-1.43.59L10.3 9.45l-7.72 7.72c-.78.78-.78 2.05 0 2.83L4 21.41c.39.39.9.59 1.41.59.51 0 1.02-.2 1.41-.59l7.78-7.78 2.81-2.81c.8-.78.8-2.07 0-2.86zM5.41 20L4 18.59l7.72-7.72 1.47 1.35L5.41 20z\"/>\n",
              "  </svg>\n",
              "      </button>\n",
              "      \n",
              "  <style>\n",
              "    .colab-df-container {\n",
              "      display:flex;\n",
              "      flex-wrap:wrap;\n",
              "      gap: 12px;\n",
              "    }\n",
              "\n",
              "    .colab-df-convert {\n",
              "      background-color: #E8F0FE;\n",
              "      border: none;\n",
              "      border-radius: 50%;\n",
              "      cursor: pointer;\n",
              "      display: none;\n",
              "      fill: #1967D2;\n",
              "      height: 32px;\n",
              "      padding: 0 0 0 0;\n",
              "      width: 32px;\n",
              "    }\n",
              "\n",
              "    .colab-df-convert:hover {\n",
              "      background-color: #E2EBFA;\n",
              "      box-shadow: 0px 1px 2px rgba(60, 64, 67, 0.3), 0px 1px 3px 1px rgba(60, 64, 67, 0.15);\n",
              "      fill: #174EA6;\n",
              "    }\n",
              "\n",
              "    [theme=dark] .colab-df-convert {\n",
              "      background-color: #3B4455;\n",
              "      fill: #D2E3FC;\n",
              "    }\n",
              "\n",
              "    [theme=dark] .colab-df-convert:hover {\n",
              "      background-color: #434B5C;\n",
              "      box-shadow: 0px 1px 3px 1px rgba(0, 0, 0, 0.15);\n",
              "      filter: drop-shadow(0px 1px 2px rgba(0, 0, 0, 0.3));\n",
              "      fill: #FFFFFF;\n",
              "    }\n",
              "  </style>\n",
              "\n",
              "      <script>\n",
              "        const buttonEl =\n",
              "          document.querySelector('#df-d64d48d7-8945-43d6-8233-d8c739f6f1bf button.colab-df-convert');\n",
              "        buttonEl.style.display =\n",
              "          google.colab.kernel.accessAllowed ? 'block' : 'none';\n",
              "\n",
              "        async function convertToInteractive(key) {\n",
              "          const element = document.querySelector('#df-d64d48d7-8945-43d6-8233-d8c739f6f1bf');\n",
              "          const dataTable =\n",
              "            await google.colab.kernel.invokeFunction('convertToInteractive',\n",
              "                                                     [key], {});\n",
              "          if (!dataTable) return;\n",
              "\n",
              "          const docLinkHtml = 'Like what you see? Visit the ' +\n",
              "            '<a target=\"_blank\" href=https://colab.research.google.com/notebooks/data_table.ipynb>data table notebook</a>'\n",
              "            + ' to learn more about interactive tables.';\n",
              "          element.innerHTML = '';\n",
              "          dataTable['output_type'] = 'display_data';\n",
              "          await google.colab.output.renderOutput(dataTable, element);\n",
              "          const docLink = document.createElement('div');\n",
              "          docLink.innerHTML = docLinkHtml;\n",
              "          element.appendChild(docLink);\n",
              "        }\n",
              "      </script>\n",
              "    </div>\n",
              "  </div>\n",
              "  "
            ]
          },
          "metadata": {},
          "execution_count": 144
        }
      ],
      "source": [
        "import pandas as pd\n",
        "import numpy as np\n",
        "\n",
        "df_salario = pd.read_csv(\"/content/Levels_Fyi_Salary_Data.csv\", sep = ',')\n",
        "df_salario.head()"
      ]
    },
    {
      "cell_type": "code",
      "source": [
        "df_salario.shape"
      ],
      "metadata": {
        "colab": {
          "base_uri": "https://localhost:8080/"
        },
        "id": "ByeHnJ9UZSJi",
        "outputId": "2ea9bf42-15ea-42cf-885d-c0917bcfb850"
      },
      "execution_count": 145,
      "outputs": [
        {
          "output_type": "execute_result",
          "data": {
            "text/plain": [
              "(62642, 29)"
            ]
          },
          "metadata": {},
          "execution_count": 145
        }
      ]
    },
    {
      "cell_type": "code",
      "source": [
        "df_salario.dtypes"
      ],
      "metadata": {
        "colab": {
          "base_uri": "https://localhost:8080/"
        },
        "id": "uDKrxAE2zwbG",
        "outputId": "3f505b2d-1a54-4f76-d51b-7bc5317e6ba3"
      },
      "execution_count": 146,
      "outputs": [
        {
          "output_type": "execute_result",
          "data": {
            "text/plain": [
              "timestamp                   object\n",
              "company                     object\n",
              "level                       object\n",
              "title                       object\n",
              "totalyearlycompensation      int64\n",
              "location                    object\n",
              "yearsofexperience          float64\n",
              "yearsatcompany             float64\n",
              "tag                         object\n",
              "basesalary                 float64\n",
              "stockgrantvalue            float64\n",
              "bonus                      float64\n",
              "gender                      object\n",
              "otherdetails                object\n",
              "cityid                       int64\n",
              "dmaid                      float64\n",
              "rowNumber                    int64\n",
              "Masters_Degree               int64\n",
              "Bachelors_Degree             int64\n",
              "Doctorate_Degree             int64\n",
              "Highschool                   int64\n",
              "Some_College                 int64\n",
              "Race_Asian                   int64\n",
              "Race_White                   int64\n",
              "Race_Two_Or_More             int64\n",
              "Race_Black                   int64\n",
              "Race_Hispanic                int64\n",
              "Race                        object\n",
              "Education                   object\n",
              "dtype: object"
            ]
          },
          "metadata": {},
          "execution_count": 146
        }
      ]
    },
    {
      "cell_type": "markdown",
      "source": [
        "Alteração para que consigamos visuzalizar no display do colab mais linhas e colunas"
      ],
      "metadata": {
        "id": "s2K3HgMBVeOs"
      }
    },
    {
      "cell_type": "code",
      "source": [
        "pd.set_option('display.max_columns', 30)"
      ],
      "metadata": {
        "id": "yH_5MpOG3aF1"
      },
      "execution_count": 147,
      "outputs": []
    },
    {
      "cell_type": "code",
      "source": [
        "pd.set_option('display.max_rows', 80000)"
      ],
      "metadata": {
        "id": "SkpNzCN4X3Xj"
      },
      "execution_count": 148,
      "outputs": []
    },
    {
      "cell_type": "code",
      "source": [
        "df_salario.head()"
      ],
      "metadata": {
        "colab": {
          "base_uri": "https://localhost:8080/",
          "height": 391
        },
        "id": "BJx7PuwpX7jR",
        "outputId": "218841ab-4b63-445a-89ce-0ffea92c2c2f"
      },
      "execution_count": 149,
      "outputs": [
        {
          "output_type": "execute_result",
          "data": {
            "text/plain": [
              "            timestamp    company level                         title  \\\n",
              "0   6/7/2017 11:33:27     Oracle    L3               Product Manager   \n",
              "1  6/10/2017 17:11:29       eBay  SE 2             Software Engineer   \n",
              "2  6/11/2017 14:53:57     Amazon    L7               Product Manager   \n",
              "3   6/17/2017 0:23:14      Apple    M1  Software Engineering Manager   \n",
              "4  6/20/2017 10:58:51  Microsoft    60             Software Engineer   \n",
              "\n",
              "   totalyearlycompensation           location  yearsofexperience  \\\n",
              "0                   127000   Redwood City, CA                1.5   \n",
              "1                   100000  San Francisco, CA                5.0   \n",
              "2                   310000        Seattle, WA                8.0   \n",
              "3                   372000      Sunnyvale, CA                7.0   \n",
              "4                   157000  Mountain View, CA                5.0   \n",
              "\n",
              "   yearsatcompany  tag  basesalary  stockgrantvalue    bonus gender  \\\n",
              "0             1.5  NaN    107000.0          20000.0  10000.0    NaN   \n",
              "1             3.0  NaN         0.0              0.0      0.0    NaN   \n",
              "2             0.0  NaN    155000.0              0.0      0.0    NaN   \n",
              "3             5.0  NaN    157000.0         180000.0  35000.0    NaN   \n",
              "4             3.0  NaN         0.0              0.0      0.0    NaN   \n",
              "\n",
              "  otherdetails  cityid  dmaid  rowNumber  Masters_Degree  Bachelors_Degree  \\\n",
              "0          NaN    7392  807.0          1               0                 0   \n",
              "1          NaN    7419  807.0          2               0                 0   \n",
              "2          NaN   11527  819.0          3               0                 0   \n",
              "3          NaN    7472  807.0          7               0                 0   \n",
              "4          NaN    7322  807.0          9               0                 0   \n",
              "\n",
              "   Doctorate_Degree  Highschool  Some_College  Race_Asian  Race_White  \\\n",
              "0                 0           0             0           0           0   \n",
              "1                 0           0             0           0           0   \n",
              "2                 0           0             0           0           0   \n",
              "3                 0           0             0           0           0   \n",
              "4                 0           0             0           0           0   \n",
              "\n",
              "   Race_Two_Or_More  Race_Black  Race_Hispanic Race Education  \n",
              "0                 0           0              0  NaN       NaN  \n",
              "1                 0           0              0  NaN       NaN  \n",
              "2                 0           0              0  NaN       NaN  \n",
              "3                 0           0              0  NaN       NaN  \n",
              "4                 0           0              0  NaN       NaN  "
            ],
            "text/html": [
              "\n",
              "  <div id=\"df-5cc94239-1682-428f-8058-367016d577ba\">\n",
              "    <div class=\"colab-df-container\">\n",
              "      <div>\n",
              "<style scoped>\n",
              "    .dataframe tbody tr th:only-of-type {\n",
              "        vertical-align: middle;\n",
              "    }\n",
              "\n",
              "    .dataframe tbody tr th {\n",
              "        vertical-align: top;\n",
              "    }\n",
              "\n",
              "    .dataframe thead th {\n",
              "        text-align: right;\n",
              "    }\n",
              "</style>\n",
              "<table border=\"1\" class=\"dataframe\">\n",
              "  <thead>\n",
              "    <tr style=\"text-align: right;\">\n",
              "      <th></th>\n",
              "      <th>timestamp</th>\n",
              "      <th>company</th>\n",
              "      <th>level</th>\n",
              "      <th>title</th>\n",
              "      <th>totalyearlycompensation</th>\n",
              "      <th>location</th>\n",
              "      <th>yearsofexperience</th>\n",
              "      <th>yearsatcompany</th>\n",
              "      <th>tag</th>\n",
              "      <th>basesalary</th>\n",
              "      <th>stockgrantvalue</th>\n",
              "      <th>bonus</th>\n",
              "      <th>gender</th>\n",
              "      <th>otherdetails</th>\n",
              "      <th>cityid</th>\n",
              "      <th>dmaid</th>\n",
              "      <th>rowNumber</th>\n",
              "      <th>Masters_Degree</th>\n",
              "      <th>Bachelors_Degree</th>\n",
              "      <th>Doctorate_Degree</th>\n",
              "      <th>Highschool</th>\n",
              "      <th>Some_College</th>\n",
              "      <th>Race_Asian</th>\n",
              "      <th>Race_White</th>\n",
              "      <th>Race_Two_Or_More</th>\n",
              "      <th>Race_Black</th>\n",
              "      <th>Race_Hispanic</th>\n",
              "      <th>Race</th>\n",
              "      <th>Education</th>\n",
              "    </tr>\n",
              "  </thead>\n",
              "  <tbody>\n",
              "    <tr>\n",
              "      <th>0</th>\n",
              "      <td>6/7/2017 11:33:27</td>\n",
              "      <td>Oracle</td>\n",
              "      <td>L3</td>\n",
              "      <td>Product Manager</td>\n",
              "      <td>127000</td>\n",
              "      <td>Redwood City, CA</td>\n",
              "      <td>1.5</td>\n",
              "      <td>1.5</td>\n",
              "      <td>NaN</td>\n",
              "      <td>107000.0</td>\n",
              "      <td>20000.0</td>\n",
              "      <td>10000.0</td>\n",
              "      <td>NaN</td>\n",
              "      <td>NaN</td>\n",
              "      <td>7392</td>\n",
              "      <td>807.0</td>\n",
              "      <td>1</td>\n",
              "      <td>0</td>\n",
              "      <td>0</td>\n",
              "      <td>0</td>\n",
              "      <td>0</td>\n",
              "      <td>0</td>\n",
              "      <td>0</td>\n",
              "      <td>0</td>\n",
              "      <td>0</td>\n",
              "      <td>0</td>\n",
              "      <td>0</td>\n",
              "      <td>NaN</td>\n",
              "      <td>NaN</td>\n",
              "    </tr>\n",
              "    <tr>\n",
              "      <th>1</th>\n",
              "      <td>6/10/2017 17:11:29</td>\n",
              "      <td>eBay</td>\n",
              "      <td>SE 2</td>\n",
              "      <td>Software Engineer</td>\n",
              "      <td>100000</td>\n",
              "      <td>San Francisco, CA</td>\n",
              "      <td>5.0</td>\n",
              "      <td>3.0</td>\n",
              "      <td>NaN</td>\n",
              "      <td>0.0</td>\n",
              "      <td>0.0</td>\n",
              "      <td>0.0</td>\n",
              "      <td>NaN</td>\n",
              "      <td>NaN</td>\n",
              "      <td>7419</td>\n",
              "      <td>807.0</td>\n",
              "      <td>2</td>\n",
              "      <td>0</td>\n",
              "      <td>0</td>\n",
              "      <td>0</td>\n",
              "      <td>0</td>\n",
              "      <td>0</td>\n",
              "      <td>0</td>\n",
              "      <td>0</td>\n",
              "      <td>0</td>\n",
              "      <td>0</td>\n",
              "      <td>0</td>\n",
              "      <td>NaN</td>\n",
              "      <td>NaN</td>\n",
              "    </tr>\n",
              "    <tr>\n",
              "      <th>2</th>\n",
              "      <td>6/11/2017 14:53:57</td>\n",
              "      <td>Amazon</td>\n",
              "      <td>L7</td>\n",
              "      <td>Product Manager</td>\n",
              "      <td>310000</td>\n",
              "      <td>Seattle, WA</td>\n",
              "      <td>8.0</td>\n",
              "      <td>0.0</td>\n",
              "      <td>NaN</td>\n",
              "      <td>155000.0</td>\n",
              "      <td>0.0</td>\n",
              "      <td>0.0</td>\n",
              "      <td>NaN</td>\n",
              "      <td>NaN</td>\n",
              "      <td>11527</td>\n",
              "      <td>819.0</td>\n",
              "      <td>3</td>\n",
              "      <td>0</td>\n",
              "      <td>0</td>\n",
              "      <td>0</td>\n",
              "      <td>0</td>\n",
              "      <td>0</td>\n",
              "      <td>0</td>\n",
              "      <td>0</td>\n",
              "      <td>0</td>\n",
              "      <td>0</td>\n",
              "      <td>0</td>\n",
              "      <td>NaN</td>\n",
              "      <td>NaN</td>\n",
              "    </tr>\n",
              "    <tr>\n",
              "      <th>3</th>\n",
              "      <td>6/17/2017 0:23:14</td>\n",
              "      <td>Apple</td>\n",
              "      <td>M1</td>\n",
              "      <td>Software Engineering Manager</td>\n",
              "      <td>372000</td>\n",
              "      <td>Sunnyvale, CA</td>\n",
              "      <td>7.0</td>\n",
              "      <td>5.0</td>\n",
              "      <td>NaN</td>\n",
              "      <td>157000.0</td>\n",
              "      <td>180000.0</td>\n",
              "      <td>35000.0</td>\n",
              "      <td>NaN</td>\n",
              "      <td>NaN</td>\n",
              "      <td>7472</td>\n",
              "      <td>807.0</td>\n",
              "      <td>7</td>\n",
              "      <td>0</td>\n",
              "      <td>0</td>\n",
              "      <td>0</td>\n",
              "      <td>0</td>\n",
              "      <td>0</td>\n",
              "      <td>0</td>\n",
              "      <td>0</td>\n",
              "      <td>0</td>\n",
              "      <td>0</td>\n",
              "      <td>0</td>\n",
              "      <td>NaN</td>\n",
              "      <td>NaN</td>\n",
              "    </tr>\n",
              "    <tr>\n",
              "      <th>4</th>\n",
              "      <td>6/20/2017 10:58:51</td>\n",
              "      <td>Microsoft</td>\n",
              "      <td>60</td>\n",
              "      <td>Software Engineer</td>\n",
              "      <td>157000</td>\n",
              "      <td>Mountain View, CA</td>\n",
              "      <td>5.0</td>\n",
              "      <td>3.0</td>\n",
              "      <td>NaN</td>\n",
              "      <td>0.0</td>\n",
              "      <td>0.0</td>\n",
              "      <td>0.0</td>\n",
              "      <td>NaN</td>\n",
              "      <td>NaN</td>\n",
              "      <td>7322</td>\n",
              "      <td>807.0</td>\n",
              "      <td>9</td>\n",
              "      <td>0</td>\n",
              "      <td>0</td>\n",
              "      <td>0</td>\n",
              "      <td>0</td>\n",
              "      <td>0</td>\n",
              "      <td>0</td>\n",
              "      <td>0</td>\n",
              "      <td>0</td>\n",
              "      <td>0</td>\n",
              "      <td>0</td>\n",
              "      <td>NaN</td>\n",
              "      <td>NaN</td>\n",
              "    </tr>\n",
              "  </tbody>\n",
              "</table>\n",
              "</div>\n",
              "      <button class=\"colab-df-convert\" onclick=\"convertToInteractive('df-5cc94239-1682-428f-8058-367016d577ba')\"\n",
              "              title=\"Convert this dataframe to an interactive table.\"\n",
              "              style=\"display:none;\">\n",
              "        \n",
              "  <svg xmlns=\"http://www.w3.org/2000/svg\" height=\"24px\"viewBox=\"0 0 24 24\"\n",
              "       width=\"24px\">\n",
              "    <path d=\"M0 0h24v24H0V0z\" fill=\"none\"/>\n",
              "    <path d=\"M18.56 5.44l.94 2.06.94-2.06 2.06-.94-2.06-.94-.94-2.06-.94 2.06-2.06.94zm-11 1L8.5 8.5l.94-2.06 2.06-.94-2.06-.94L8.5 2.5l-.94 2.06-2.06.94zm10 10l.94 2.06.94-2.06 2.06-.94-2.06-.94-.94-2.06-.94 2.06-2.06.94z\"/><path d=\"M17.41 7.96l-1.37-1.37c-.4-.4-.92-.59-1.43-.59-.52 0-1.04.2-1.43.59L10.3 9.45l-7.72 7.72c-.78.78-.78 2.05 0 2.83L4 21.41c.39.39.9.59 1.41.59.51 0 1.02-.2 1.41-.59l7.78-7.78 2.81-2.81c.8-.78.8-2.07 0-2.86zM5.41 20L4 18.59l7.72-7.72 1.47 1.35L5.41 20z\"/>\n",
              "  </svg>\n",
              "      </button>\n",
              "      \n",
              "  <style>\n",
              "    .colab-df-container {\n",
              "      display:flex;\n",
              "      flex-wrap:wrap;\n",
              "      gap: 12px;\n",
              "    }\n",
              "\n",
              "    .colab-df-convert {\n",
              "      background-color: #E8F0FE;\n",
              "      border: none;\n",
              "      border-radius: 50%;\n",
              "      cursor: pointer;\n",
              "      display: none;\n",
              "      fill: #1967D2;\n",
              "      height: 32px;\n",
              "      padding: 0 0 0 0;\n",
              "      width: 32px;\n",
              "    }\n",
              "\n",
              "    .colab-df-convert:hover {\n",
              "      background-color: #E2EBFA;\n",
              "      box-shadow: 0px 1px 2px rgba(60, 64, 67, 0.3), 0px 1px 3px 1px rgba(60, 64, 67, 0.15);\n",
              "      fill: #174EA6;\n",
              "    }\n",
              "\n",
              "    [theme=dark] .colab-df-convert {\n",
              "      background-color: #3B4455;\n",
              "      fill: #D2E3FC;\n",
              "    }\n",
              "\n",
              "    [theme=dark] .colab-df-convert:hover {\n",
              "      background-color: #434B5C;\n",
              "      box-shadow: 0px 1px 3px 1px rgba(0, 0, 0, 0.15);\n",
              "      filter: drop-shadow(0px 1px 2px rgba(0, 0, 0, 0.3));\n",
              "      fill: #FFFFFF;\n",
              "    }\n",
              "  </style>\n",
              "\n",
              "      <script>\n",
              "        const buttonEl =\n",
              "          document.querySelector('#df-5cc94239-1682-428f-8058-367016d577ba button.colab-df-convert');\n",
              "        buttonEl.style.display =\n",
              "          google.colab.kernel.accessAllowed ? 'block' : 'none';\n",
              "\n",
              "        async function convertToInteractive(key) {\n",
              "          const element = document.querySelector('#df-5cc94239-1682-428f-8058-367016d577ba');\n",
              "          const dataTable =\n",
              "            await google.colab.kernel.invokeFunction('convertToInteractive',\n",
              "                                                     [key], {});\n",
              "          if (!dataTable) return;\n",
              "\n",
              "          const docLinkHtml = 'Like what you see? Visit the ' +\n",
              "            '<a target=\"_blank\" href=https://colab.research.google.com/notebooks/data_table.ipynb>data table notebook</a>'\n",
              "            + ' to learn more about interactive tables.';\n",
              "          element.innerHTML = '';\n",
              "          dataTable['output_type'] = 'display_data';\n",
              "          await google.colab.output.renderOutput(dataTable, element);\n",
              "          const docLink = document.createElement('div');\n",
              "          docLink.innerHTML = docLinkHtml;\n",
              "          element.appendChild(docLink);\n",
              "        }\n",
              "      </script>\n",
              "    </div>\n",
              "  </div>\n",
              "  "
            ]
          },
          "metadata": {},
          "execution_count": 149
        }
      ]
    },
    {
      "cell_type": "markdown",
      "source": [
        "Verificação do tamanho da base em questão com todas as linhas e colunas"
      ],
      "metadata": {
        "id": "TWq_FRQ9Vo7P"
      }
    },
    {
      "cell_type": "code",
      "source": [
        "df_salario.shape"
      ],
      "metadata": {
        "colab": {
          "base_uri": "https://localhost:8080/"
        },
        "id": "q9-EI95RtvZ1",
        "outputId": "00ac2504-1a77-47bd-e65d-978d9c7b64f3"
      },
      "execution_count": 150,
      "outputs": [
        {
          "output_type": "execute_result",
          "data": {
            "text/plain": [
              "(62642, 29)"
            ]
          },
          "metadata": {},
          "execution_count": 150
        }
      ]
    },
    {
      "cell_type": "markdown",
      "source": [
        "Verificando quantos valores NA temos dentro da base em questão, foi um ponto crucial onde tivemos que decidir o que fariamos com algumas colunas, exemplo gender otherdetails e afins"
      ],
      "metadata": {
        "id": "_Q-hKXJYVwCi"
      }
    },
    {
      "cell_type": "code",
      "source": [
        "df_salario.isnull().sum()"
      ],
      "metadata": {
        "colab": {
          "base_uri": "https://localhost:8080/"
        },
        "id": "6lGO4bd8YHGR",
        "outputId": "1df121fb-ff96-4aa2-ce8e-2d0cd437441b"
      },
      "execution_count": 151,
      "outputs": [
        {
          "output_type": "execute_result",
          "data": {
            "text/plain": [
              "timestamp                      0\n",
              "company                        5\n",
              "level                        119\n",
              "title                          0\n",
              "totalyearlycompensation        0\n",
              "location                       0\n",
              "yearsofexperience              0\n",
              "yearsatcompany                 0\n",
              "tag                          854\n",
              "basesalary                     0\n",
              "stockgrantvalue                0\n",
              "bonus                          0\n",
              "gender                     19540\n",
              "otherdetails               22505\n",
              "cityid                         0\n",
              "dmaid                          2\n",
              "rowNumber                      0\n",
              "Masters_Degree                 0\n",
              "Bachelors_Degree               0\n",
              "Doctorate_Degree               0\n",
              "Highschool                     0\n",
              "Some_College                   0\n",
              "Race_Asian                     0\n",
              "Race_White                     0\n",
              "Race_Two_Or_More               0\n",
              "Race_Black                     0\n",
              "Race_Hispanic                  0\n",
              "Race                       40215\n",
              "Education                  32272\n",
              "dtype: int64"
            ]
          },
          "metadata": {},
          "execution_count": 151
        }
      ]
    },
    {
      "cell_type": "markdown",
      "source": [
        "Foi verificado nas principais tabelas quantas valores diferentes tinhamos nos 62 mil registros"
      ],
      "metadata": {
        "id": "Qh_zakQiV930"
      }
    },
    {
      "cell_type": "code",
      "source": [
        "df_salario['company'].value_counts()"
      ],
      "metadata": {
        "id": "34oS-sXuYP6m"
      },
      "execution_count": null,
      "outputs": []
    },
    {
      "cell_type": "code",
      "source": [
        "df_salario['level'].value_counts()"
      ],
      "metadata": {
        "id": "KwN4iNlBaDc1"
      },
      "execution_count": null,
      "outputs": []
    },
    {
      "cell_type": "code",
      "source": [
        "df_salario['title'].value_counts()"
      ],
      "metadata": {
        "id": "Jbs1_JPSajL7"
      },
      "execution_count": null,
      "outputs": []
    },
    {
      "cell_type": "code",
      "source": [
        "df_salario['totalyearlycompensation'].value_counts()     "
      ],
      "metadata": {
        "id": "YB4OljohaoJt"
      },
      "execution_count": null,
      "outputs": []
    },
    {
      "cell_type": "code",
      "source": [
        "df_salario['location'].value_counts()     "
      ],
      "metadata": {
        "id": "xb0dRMmva2k6"
      },
      "execution_count": null,
      "outputs": []
    },
    {
      "cell_type": "code",
      "source": [
        "df_salario['yearsofexperience'].value_counts()     "
      ],
      "metadata": {
        "id": "bSNAjDQ_bX6e"
      },
      "execution_count": null,
      "outputs": []
    },
    {
      "cell_type": "code",
      "source": [
        "df_salario['yearsatcompany'].value_counts()  "
      ],
      "metadata": {
        "id": "_Ve01c4Qbykq"
      },
      "execution_count": null,
      "outputs": []
    },
    {
      "cell_type": "code",
      "source": [
        "df_salario['tag'].value_counts()  "
      ],
      "metadata": {
        "id": "yVqGKztZcAQq"
      },
      "execution_count": null,
      "outputs": []
    },
    {
      "cell_type": "code",
      "source": [
        "df_salario['basesalary'].value_counts()  "
      ],
      "metadata": {
        "id": "PehVUn5FckRm"
      },
      "execution_count": null,
      "outputs": []
    },
    {
      "cell_type": "code",
      "source": [
        "df_salario['Race'].value_counts()  "
      ],
      "metadata": {
        "id": "uM8Tf62VdIiS"
      },
      "execution_count": null,
      "outputs": []
    },
    {
      "cell_type": "code",
      "source": [
        "df_salario['Education'].value_counts()  "
      ],
      "metadata": {
        "id": "jW0iRmV2dRn4"
      },
      "execution_count": null,
      "outputs": []
    },
    {
      "cell_type": "code",
      "source": [
        "df_salario['gender'].value_counts()  "
      ],
      "metadata": {
        "id": "q5GL15xodfKp"
      },
      "execution_count": null,
      "outputs": []
    },
    {
      "cell_type": "code",
      "source": [
        "df_salario['otherdetails'].value_counts()  "
      ],
      "metadata": {
        "id": "_4ZzRmKQdmp_"
      },
      "execution_count": null,
      "outputs": []
    },
    {
      "cell_type": "code",
      "source": [
        "df_salario['cityid'].unique()"
      ],
      "metadata": {
        "id": "hQNhreZ7d1np"
      },
      "execution_count": null,
      "outputs": []
    },
    {
      "cell_type": "markdown",
      "source": [
        "Copiando o data set original para fazer alterações sem fazer a alteração na nossa fonte em questão"
      ],
      "metadata": {
        "id": "o0J_CPOpWKgM"
      }
    },
    {
      "cell_type": "code",
      "source": [
        "df_salario_teste = df_salario.copy()"
      ],
      "metadata": {
        "id": "eYaChigGpCH2"
      },
      "execution_count": 153,
      "outputs": []
    },
    {
      "cell_type": "code",
      "source": [
        "df_salario_teste.isna().sum()"
      ],
      "metadata": {
        "id": "abWPhnR1t17W",
        "colab": {
          "base_uri": "https://localhost:8080/"
        },
        "outputId": "106bcbf3-3670-4c22-9b71-874782372be5"
      },
      "execution_count": 154,
      "outputs": [
        {
          "output_type": "execute_result",
          "data": {
            "text/plain": [
              "timestamp                      0\n",
              "company                        5\n",
              "level                        119\n",
              "title                          0\n",
              "totalyearlycompensation        0\n",
              "location                       0\n",
              "yearsofexperience              0\n",
              "yearsatcompany                 0\n",
              "tag                          854\n",
              "basesalary                     0\n",
              "stockgrantvalue                0\n",
              "bonus                          0\n",
              "gender                     19540\n",
              "otherdetails               22505\n",
              "cityid                         0\n",
              "dmaid                          2\n",
              "rowNumber                      0\n",
              "Masters_Degree                 0\n",
              "Bachelors_Degree               0\n",
              "Doctorate_Degree               0\n",
              "Highschool                     0\n",
              "Some_College                   0\n",
              "Race_Asian                     0\n",
              "Race_White                     0\n",
              "Race_Two_Or_More               0\n",
              "Race_Black                     0\n",
              "Race_Hispanic                  0\n",
              "Race                       40215\n",
              "Education                  32272\n",
              "dtype: int64"
            ]
          },
          "metadata": {},
          "execution_count": 154
        }
      ]
    },
    {
      "cell_type": "markdown",
      "source": [
        "Verificação de quantos outliers tinhamos na coluna base de salario que junto com a coluna Ano salario são as principais do nosso data set"
      ],
      "metadata": {
        "id": "ojkGCrBoXr5Q"
      }
    },
    {
      "cell_type": "code",
      "source": [
        "import numpy as np\n",
        "\n",
        "\n",
        "\n",
        "def calcula_out(X):\n",
        "\n",
        "\n",
        "  q1,q3 = np.quantile(X,[0.25,0.75])\n",
        "  iqr =  q3 - q1\n",
        "  is_outliers = ((X<(q1-1.5*iqr)) | (X>(q3+1.5*iqr)))\n",
        "  outliers_count  = np.count_nonzero(is_outliers)\n",
        "\n",
        "  return is_outliers,outliers_count, X[is_outliers]\n",
        "\n",
        "\n",
        "is_outlier, outliers_count, outliers = calcula_out(df_salario_teste['basesalary'])\n",
        "print(outliers_count)\n",
        "#print(outliers)\n"
      ],
      "metadata": {
        "colab": {
          "base_uri": "https://localhost:8080/"
        },
        "id": "6xqQY-yg8bve",
        "outputId": "2bf18ec7-220d-4b9a-b856-51e4bbcc11b8"
      },
      "execution_count": 155,
      "outputs": [
        {
          "output_type": "stream",
          "name": "stdout",
          "text": [
            "3509\n"
          ]
        }
      ]
    },
    {
      "cell_type": "code",
      "source": [
        "import numpy as np\n",
        "\n",
        "\n",
        "\n",
        "def calcula_out(X):\n",
        "\n",
        "\n",
        "  q1,q3 = np.quantile(X,[0.25,0.75])\n",
        "  iqr =  q3 - q1\n",
        "  is_outliers = ((X<(q1-1.5*iqr)) | (X>(q3+1.5*iqr)))\n",
        "  outliers_count  = np.count_nonzero(is_outliers)\n",
        "\n",
        "  return is_outliers,outliers_count, X[is_outliers]\n",
        "\n",
        "\n",
        "is_outlier, outliers_count, outliers = calcula_out(df_salario_teste['totalyearlycompensation'])\n",
        "print(outliers_count)\n",
        "#print(outliers)"
      ],
      "metadata": {
        "colab": {
          "base_uri": "https://localhost:8080/"
        },
        "id": "acaeGbbe-lsq",
        "outputId": "307c8fb9-914e-44cb-c3df-cc94bcfce837"
      },
      "execution_count": 156,
      "outputs": [
        {
          "output_type": "stream",
          "name": "stdout",
          "text": [
            "3133\n"
          ]
        }
      ]
    },
    {
      "cell_type": "markdown",
      "source": [
        "Usamos a função .corr() que nos traz a matriz de correlação para termos uma ideia de quais colunas se relacionavam entre si"
      ],
      "metadata": {
        "id": "4rPqtRrBYZ3r"
      }
    },
    {
      "cell_type": "code",
      "source": [
        "# Matriz de correlação\n",
        "df_salario.corr()"
      ],
      "metadata": {
        "colab": {
          "base_uri": "https://localhost:8080/",
          "height": 709
        },
        "id": "G1lrt0H2zjzZ",
        "outputId": "d22b7e5a-0070-4912-f866-4d16e1b889a1"
      },
      "execution_count": 157,
      "outputs": [
        {
          "output_type": "execute_result",
          "data": {
            "text/plain": [
              "                         totalyearlycompensation  yearsofexperience  \\\n",
              "totalyearlycompensation                 1.000000           0.422879   \n",
              "yearsofexperience                       0.422879           1.000000   \n",
              "yearsatcompany                          0.165802           0.522611   \n",
              "basesalary                              0.672865           0.374437   \n",
              "stockgrantvalue                         0.770756           0.289631   \n",
              "bonus                                   0.489454           0.261051   \n",
              "cityid                                 -0.110204          -0.014100   \n",
              "dmaid                                   0.376346           0.030903   \n",
              "rowNumber                              -0.092622          -0.002836   \n",
              "Masters_Degree                          0.018320           0.060310   \n",
              "Bachelors_Degree                       -0.139866          -0.069468   \n",
              "Doctorate_Degree                        0.097179          -0.005380   \n",
              "Highschool                             -0.014831           0.011605   \n",
              "Some_College                           -0.003380           0.037925   \n",
              "Race_Asian                             -0.080072          -0.052659   \n",
              "Race_White                             -0.027802           0.064712   \n",
              "Race_Two_Or_More                       -0.009623          -0.013917   \n",
              "Race_Black                             -0.026741          -0.022675   \n",
              "Race_Hispanic                          -0.026145          -0.002232   \n",
              "\n",
              "                         yearsatcompany  basesalary  stockgrantvalue  \\\n",
              "totalyearlycompensation        0.165802    0.672865         0.770756   \n",
              "yearsofexperience              0.522611    0.374437         0.289631   \n",
              "yearsatcompany                 1.000000    0.145596         0.089492   \n",
              "basesalary                     0.145596    1.000000         0.468266   \n",
              "stockgrantvalue                0.089492    0.468266         1.000000   \n",
              "bonus                          0.108122    0.394352         0.248151   \n",
              "cityid                         0.002984   -0.118651        -0.072429   \n",
              "dmaid                          0.043946    0.425342         0.227608   \n",
              "rowNumber                     -0.012850    0.032603        -0.041226   \n",
              "Masters_Degree                 0.026109    0.084227         0.010720   \n",
              "Bachelors_Degree              -0.027487   -0.104111        -0.084676   \n",
              "Doctorate_Degree               0.001165    0.104320         0.080768   \n",
              "Highschool                    -0.005947   -0.008534        -0.008617   \n",
              "Some_College                   0.005718    0.006494        -0.001778   \n",
              "Race_Asian                    -0.025888   -0.053759        -0.040439   \n",
              "Race_White                     0.047267    0.020324        -0.020978   \n",
              "Race_Two_Or_More              -0.014926    0.002090        -0.006071   \n",
              "Race_Black                    -0.027812   -0.008836        -0.029244   \n",
              "Race_Hispanic                 -0.007511   -0.008976        -0.020412   \n",
              "\n",
              "                            bonus    cityid     dmaid  rowNumber  \\\n",
              "totalyearlycompensation  0.489454 -0.110204  0.376346  -0.092622   \n",
              "yearsofexperience        0.261051 -0.014100  0.030903  -0.002836   \n",
              "yearsatcompany           0.108122  0.002984  0.043946  -0.012850   \n",
              "basesalary               0.394352 -0.118651  0.425342   0.032603   \n",
              "stockgrantvalue          0.248151 -0.072429  0.227608  -0.041226   \n",
              "bonus                    1.000000 -0.036119  0.143506  -0.014753   \n",
              "cityid                  -0.036119  1.000000 -0.104870   0.041289   \n",
              "dmaid                    0.143506 -0.104870  1.000000  -0.202626   \n",
              "rowNumber               -0.014753  0.041289 -0.202626   1.000000   \n",
              "Masters_Degree           0.031538 -0.012902  0.003325   0.181295   \n",
              "Bachelors_Degree        -0.062881  0.053934 -0.159571   0.351730   \n",
              "Doctorate_Degree         0.071844 -0.018686  0.040339   0.029668   \n",
              "Highschool              -0.006916 -0.012253 -0.038118   0.052255   \n",
              "Some_College            -0.001873 -0.005339 -0.009232   0.050012   \n",
              "Race_Asian              -0.022997  0.056143 -0.093969   0.358515   \n",
              "Race_White              -0.007798 -0.019097 -0.087129   0.261340   \n",
              "Race_Two_Or_More         0.001773 -0.002999 -0.009182   0.076943   \n",
              "Race_Black              -0.004026  0.012547 -0.005076   0.068616   \n",
              "Race_Hispanic           -0.006983 -0.003174 -0.010163   0.086191   \n",
              "\n",
              "                         Masters_Degree  Bachelors_Degree  Doctorate_Degree  \\\n",
              "totalyearlycompensation        0.018320         -0.139866          0.097179   \n",
              "yearsofexperience              0.060310         -0.069468         -0.005380   \n",
              "yearsatcompany                 0.026109         -0.027487          0.001165   \n",
              "basesalary                     0.084227         -0.104111          0.104320   \n",
              "stockgrantvalue                0.010720         -0.084676          0.080768   \n",
              "bonus                          0.031538         -0.062881          0.071844   \n",
              "cityid                        -0.012902          0.053934         -0.018686   \n",
              "dmaid                          0.003325         -0.159571          0.040339   \n",
              "rowNumber                      0.181295          0.351730          0.029668   \n",
              "Masters_Degree                 1.000000         -0.286083         -0.076072   \n",
              "Bachelors_Degree              -0.286083          1.000000         -0.086404   \n",
              "Doctorate_Degree              -0.076072         -0.086404          1.000000   \n",
              "Highschool                    -0.040896         -0.035965         -0.012336   \n",
              "Some_College                  -0.043087         -0.037891         -0.012996   \n",
              "Race_Asian                     0.305903          0.249846          0.034015   \n",
              "Race_White                     0.036552          0.352620          0.040215   \n",
              "Race_Two_Or_More               0.011023          0.110800          0.000728   \n",
              "Race_Black                     0.014023          0.104210         -0.006276   \n",
              "Race_Hispanic                  0.002330          0.137807          0.006080   \n",
              "\n",
              "                         Highschool  Some_College  Race_Asian  Race_White  \\\n",
              "totalyearlycompensation   -0.014831     -0.003380   -0.080072   -0.027802   \n",
              "yearsofexperience          0.011605      0.037925   -0.052659    0.064712   \n",
              "yearsatcompany            -0.005947      0.005718   -0.025888    0.047267   \n",
              "basesalary                -0.008534      0.006494   -0.053759    0.020324   \n",
              "stockgrantvalue           -0.008617     -0.001778   -0.040439   -0.020978   \n",
              "bonus                     -0.006916     -0.001873   -0.022997   -0.007798   \n",
              "cityid                    -0.012253     -0.005339    0.056143   -0.019097   \n",
              "dmaid                     -0.038118     -0.009232   -0.093969   -0.087129   \n",
              "rowNumber                  0.052255      0.050012    0.358515    0.261340   \n",
              "Masters_Degree            -0.040896     -0.043087    0.305903    0.036552   \n",
              "Bachelors_Degree          -0.035965     -0.037891    0.249846    0.352620   \n",
              "Doctorate_Degree          -0.012336     -0.012996    0.034015    0.040215   \n",
              "Highschool                 1.000000     -0.005410   -0.015555    0.113839   \n",
              "Some_College              -0.005410      1.000000   -0.019441    0.122432   \n",
              "Race_Asian                -0.015555     -0.019441    1.000000   -0.184489   \n",
              "Race_White                 0.113839      0.122432   -0.184489    1.000000   \n",
              "Race_Two_Or_More           0.025649      0.034845   -0.054852   -0.043730   \n",
              "Race_Black                 0.013892      0.036858   -0.050768   -0.040474   \n",
              "Race_Hispanic              0.042445      0.029714   -0.064894   -0.051980   \n",
              "\n",
              "                         Race_Two_Or_More  Race_Black  Race_Hispanic  \n",
              "totalyearlycompensation         -0.009623   -0.026741      -0.026145  \n",
              "yearsofexperience               -0.013917   -0.022675      -0.002232  \n",
              "yearsatcompany                  -0.014926   -0.027812      -0.007511  \n",
              "basesalary                       0.002090   -0.008836      -0.008976  \n",
              "stockgrantvalue                 -0.006071   -0.029244      -0.020412  \n",
              "bonus                            0.001773   -0.004026      -0.006983  \n",
              "cityid                          -0.002999    0.012547      -0.003174  \n",
              "dmaid                           -0.009182   -0.005076      -0.010163  \n",
              "rowNumber                        0.076943    0.068616       0.086191  \n",
              "Masters_Degree                   0.011023    0.014023       0.002330  \n",
              "Bachelors_Degree                 0.110800    0.104210       0.137807  \n",
              "Doctorate_Degree                 0.000728   -0.006276       0.006080  \n",
              "Highschool                       0.025649    0.013892       0.042445  \n",
              "Some_College                     0.034845    0.036858       0.029714  \n",
              "Race_Asian                      -0.054852   -0.050768      -0.064894  \n",
              "Race_White                      -0.043730   -0.040474      -0.051980  \n",
              "Race_Two_Or_More                 1.000000   -0.012034      -0.015455  \n",
              "Race_Black                      -0.012034    1.000000      -0.014304  \n",
              "Race_Hispanic                   -0.015455   -0.014304       1.000000  "
            ],
            "text/html": [
              "\n",
              "  <div id=\"df-d747c47f-ee2f-4a88-89f0-5cc5dd6bc01f\">\n",
              "    <div class=\"colab-df-container\">\n",
              "      <div>\n",
              "<style scoped>\n",
              "    .dataframe tbody tr th:only-of-type {\n",
              "        vertical-align: middle;\n",
              "    }\n",
              "\n",
              "    .dataframe tbody tr th {\n",
              "        vertical-align: top;\n",
              "    }\n",
              "\n",
              "    .dataframe thead th {\n",
              "        text-align: right;\n",
              "    }\n",
              "</style>\n",
              "<table border=\"1\" class=\"dataframe\">\n",
              "  <thead>\n",
              "    <tr style=\"text-align: right;\">\n",
              "      <th></th>\n",
              "      <th>totalyearlycompensation</th>\n",
              "      <th>yearsofexperience</th>\n",
              "      <th>yearsatcompany</th>\n",
              "      <th>basesalary</th>\n",
              "      <th>stockgrantvalue</th>\n",
              "      <th>bonus</th>\n",
              "      <th>cityid</th>\n",
              "      <th>dmaid</th>\n",
              "      <th>rowNumber</th>\n",
              "      <th>Masters_Degree</th>\n",
              "      <th>Bachelors_Degree</th>\n",
              "      <th>Doctorate_Degree</th>\n",
              "      <th>Highschool</th>\n",
              "      <th>Some_College</th>\n",
              "      <th>Race_Asian</th>\n",
              "      <th>Race_White</th>\n",
              "      <th>Race_Two_Or_More</th>\n",
              "      <th>Race_Black</th>\n",
              "      <th>Race_Hispanic</th>\n",
              "    </tr>\n",
              "  </thead>\n",
              "  <tbody>\n",
              "    <tr>\n",
              "      <th>totalyearlycompensation</th>\n",
              "      <td>1.000000</td>\n",
              "      <td>0.422879</td>\n",
              "      <td>0.165802</td>\n",
              "      <td>0.672865</td>\n",
              "      <td>0.770756</td>\n",
              "      <td>0.489454</td>\n",
              "      <td>-0.110204</td>\n",
              "      <td>0.376346</td>\n",
              "      <td>-0.092622</td>\n",
              "      <td>0.018320</td>\n",
              "      <td>-0.139866</td>\n",
              "      <td>0.097179</td>\n",
              "      <td>-0.014831</td>\n",
              "      <td>-0.003380</td>\n",
              "      <td>-0.080072</td>\n",
              "      <td>-0.027802</td>\n",
              "      <td>-0.009623</td>\n",
              "      <td>-0.026741</td>\n",
              "      <td>-0.026145</td>\n",
              "    </tr>\n",
              "    <tr>\n",
              "      <th>yearsofexperience</th>\n",
              "      <td>0.422879</td>\n",
              "      <td>1.000000</td>\n",
              "      <td>0.522611</td>\n",
              "      <td>0.374437</td>\n",
              "      <td>0.289631</td>\n",
              "      <td>0.261051</td>\n",
              "      <td>-0.014100</td>\n",
              "      <td>0.030903</td>\n",
              "      <td>-0.002836</td>\n",
              "      <td>0.060310</td>\n",
              "      <td>-0.069468</td>\n",
              "      <td>-0.005380</td>\n",
              "      <td>0.011605</td>\n",
              "      <td>0.037925</td>\n",
              "      <td>-0.052659</td>\n",
              "      <td>0.064712</td>\n",
              "      <td>-0.013917</td>\n",
              "      <td>-0.022675</td>\n",
              "      <td>-0.002232</td>\n",
              "    </tr>\n",
              "    <tr>\n",
              "      <th>yearsatcompany</th>\n",
              "      <td>0.165802</td>\n",
              "      <td>0.522611</td>\n",
              "      <td>1.000000</td>\n",
              "      <td>0.145596</td>\n",
              "      <td>0.089492</td>\n",
              "      <td>0.108122</td>\n",
              "      <td>0.002984</td>\n",
              "      <td>0.043946</td>\n",
              "      <td>-0.012850</td>\n",
              "      <td>0.026109</td>\n",
              "      <td>-0.027487</td>\n",
              "      <td>0.001165</td>\n",
              "      <td>-0.005947</td>\n",
              "      <td>0.005718</td>\n",
              "      <td>-0.025888</td>\n",
              "      <td>0.047267</td>\n",
              "      <td>-0.014926</td>\n",
              "      <td>-0.027812</td>\n",
              "      <td>-0.007511</td>\n",
              "    </tr>\n",
              "    <tr>\n",
              "      <th>basesalary</th>\n",
              "      <td>0.672865</td>\n",
              "      <td>0.374437</td>\n",
              "      <td>0.145596</td>\n",
              "      <td>1.000000</td>\n",
              "      <td>0.468266</td>\n",
              "      <td>0.394352</td>\n",
              "      <td>-0.118651</td>\n",
              "      <td>0.425342</td>\n",
              "      <td>0.032603</td>\n",
              "      <td>0.084227</td>\n",
              "      <td>-0.104111</td>\n",
              "      <td>0.104320</td>\n",
              "      <td>-0.008534</td>\n",
              "      <td>0.006494</td>\n",
              "      <td>-0.053759</td>\n",
              "      <td>0.020324</td>\n",
              "      <td>0.002090</td>\n",
              "      <td>-0.008836</td>\n",
              "      <td>-0.008976</td>\n",
              "    </tr>\n",
              "    <tr>\n",
              "      <th>stockgrantvalue</th>\n",
              "      <td>0.770756</td>\n",
              "      <td>0.289631</td>\n",
              "      <td>0.089492</td>\n",
              "      <td>0.468266</td>\n",
              "      <td>1.000000</td>\n",
              "      <td>0.248151</td>\n",
              "      <td>-0.072429</td>\n",
              "      <td>0.227608</td>\n",
              "      <td>-0.041226</td>\n",
              "      <td>0.010720</td>\n",
              "      <td>-0.084676</td>\n",
              "      <td>0.080768</td>\n",
              "      <td>-0.008617</td>\n",
              "      <td>-0.001778</td>\n",
              "      <td>-0.040439</td>\n",
              "      <td>-0.020978</td>\n",
              "      <td>-0.006071</td>\n",
              "      <td>-0.029244</td>\n",
              "      <td>-0.020412</td>\n",
              "    </tr>\n",
              "    <tr>\n",
              "      <th>bonus</th>\n",
              "      <td>0.489454</td>\n",
              "      <td>0.261051</td>\n",
              "      <td>0.108122</td>\n",
              "      <td>0.394352</td>\n",
              "      <td>0.248151</td>\n",
              "      <td>1.000000</td>\n",
              "      <td>-0.036119</td>\n",
              "      <td>0.143506</td>\n",
              "      <td>-0.014753</td>\n",
              "      <td>0.031538</td>\n",
              "      <td>-0.062881</td>\n",
              "      <td>0.071844</td>\n",
              "      <td>-0.006916</td>\n",
              "      <td>-0.001873</td>\n",
              "      <td>-0.022997</td>\n",
              "      <td>-0.007798</td>\n",
              "      <td>0.001773</td>\n",
              "      <td>-0.004026</td>\n",
              "      <td>-0.006983</td>\n",
              "    </tr>\n",
              "    <tr>\n",
              "      <th>cityid</th>\n",
              "      <td>-0.110204</td>\n",
              "      <td>-0.014100</td>\n",
              "      <td>0.002984</td>\n",
              "      <td>-0.118651</td>\n",
              "      <td>-0.072429</td>\n",
              "      <td>-0.036119</td>\n",
              "      <td>1.000000</td>\n",
              "      <td>-0.104870</td>\n",
              "      <td>0.041289</td>\n",
              "      <td>-0.012902</td>\n",
              "      <td>0.053934</td>\n",
              "      <td>-0.018686</td>\n",
              "      <td>-0.012253</td>\n",
              "      <td>-0.005339</td>\n",
              "      <td>0.056143</td>\n",
              "      <td>-0.019097</td>\n",
              "      <td>-0.002999</td>\n",
              "      <td>0.012547</td>\n",
              "      <td>-0.003174</td>\n",
              "    </tr>\n",
              "    <tr>\n",
              "      <th>dmaid</th>\n",
              "      <td>0.376346</td>\n",
              "      <td>0.030903</td>\n",
              "      <td>0.043946</td>\n",
              "      <td>0.425342</td>\n",
              "      <td>0.227608</td>\n",
              "      <td>0.143506</td>\n",
              "      <td>-0.104870</td>\n",
              "      <td>1.000000</td>\n",
              "      <td>-0.202626</td>\n",
              "      <td>0.003325</td>\n",
              "      <td>-0.159571</td>\n",
              "      <td>0.040339</td>\n",
              "      <td>-0.038118</td>\n",
              "      <td>-0.009232</td>\n",
              "      <td>-0.093969</td>\n",
              "      <td>-0.087129</td>\n",
              "      <td>-0.009182</td>\n",
              "      <td>-0.005076</td>\n",
              "      <td>-0.010163</td>\n",
              "    </tr>\n",
              "    <tr>\n",
              "      <th>rowNumber</th>\n",
              "      <td>-0.092622</td>\n",
              "      <td>-0.002836</td>\n",
              "      <td>-0.012850</td>\n",
              "      <td>0.032603</td>\n",
              "      <td>-0.041226</td>\n",
              "      <td>-0.014753</td>\n",
              "      <td>0.041289</td>\n",
              "      <td>-0.202626</td>\n",
              "      <td>1.000000</td>\n",
              "      <td>0.181295</td>\n",
              "      <td>0.351730</td>\n",
              "      <td>0.029668</td>\n",
              "      <td>0.052255</td>\n",
              "      <td>0.050012</td>\n",
              "      <td>0.358515</td>\n",
              "      <td>0.261340</td>\n",
              "      <td>0.076943</td>\n",
              "      <td>0.068616</td>\n",
              "      <td>0.086191</td>\n",
              "    </tr>\n",
              "    <tr>\n",
              "      <th>Masters_Degree</th>\n",
              "      <td>0.018320</td>\n",
              "      <td>0.060310</td>\n",
              "      <td>0.026109</td>\n",
              "      <td>0.084227</td>\n",
              "      <td>0.010720</td>\n",
              "      <td>0.031538</td>\n",
              "      <td>-0.012902</td>\n",
              "      <td>0.003325</td>\n",
              "      <td>0.181295</td>\n",
              "      <td>1.000000</td>\n",
              "      <td>-0.286083</td>\n",
              "      <td>-0.076072</td>\n",
              "      <td>-0.040896</td>\n",
              "      <td>-0.043087</td>\n",
              "      <td>0.305903</td>\n",
              "      <td>0.036552</td>\n",
              "      <td>0.011023</td>\n",
              "      <td>0.014023</td>\n",
              "      <td>0.002330</td>\n",
              "    </tr>\n",
              "    <tr>\n",
              "      <th>Bachelors_Degree</th>\n",
              "      <td>-0.139866</td>\n",
              "      <td>-0.069468</td>\n",
              "      <td>-0.027487</td>\n",
              "      <td>-0.104111</td>\n",
              "      <td>-0.084676</td>\n",
              "      <td>-0.062881</td>\n",
              "      <td>0.053934</td>\n",
              "      <td>-0.159571</td>\n",
              "      <td>0.351730</td>\n",
              "      <td>-0.286083</td>\n",
              "      <td>1.000000</td>\n",
              "      <td>-0.086404</td>\n",
              "      <td>-0.035965</td>\n",
              "      <td>-0.037891</td>\n",
              "      <td>0.249846</td>\n",
              "      <td>0.352620</td>\n",
              "      <td>0.110800</td>\n",
              "      <td>0.104210</td>\n",
              "      <td>0.137807</td>\n",
              "    </tr>\n",
              "    <tr>\n",
              "      <th>Doctorate_Degree</th>\n",
              "      <td>0.097179</td>\n",
              "      <td>-0.005380</td>\n",
              "      <td>0.001165</td>\n",
              "      <td>0.104320</td>\n",
              "      <td>0.080768</td>\n",
              "      <td>0.071844</td>\n",
              "      <td>-0.018686</td>\n",
              "      <td>0.040339</td>\n",
              "      <td>0.029668</td>\n",
              "      <td>-0.076072</td>\n",
              "      <td>-0.086404</td>\n",
              "      <td>1.000000</td>\n",
              "      <td>-0.012336</td>\n",
              "      <td>-0.012996</td>\n",
              "      <td>0.034015</td>\n",
              "      <td>0.040215</td>\n",
              "      <td>0.000728</td>\n",
              "      <td>-0.006276</td>\n",
              "      <td>0.006080</td>\n",
              "    </tr>\n",
              "    <tr>\n",
              "      <th>Highschool</th>\n",
              "      <td>-0.014831</td>\n",
              "      <td>0.011605</td>\n",
              "      <td>-0.005947</td>\n",
              "      <td>-0.008534</td>\n",
              "      <td>-0.008617</td>\n",
              "      <td>-0.006916</td>\n",
              "      <td>-0.012253</td>\n",
              "      <td>-0.038118</td>\n",
              "      <td>0.052255</td>\n",
              "      <td>-0.040896</td>\n",
              "      <td>-0.035965</td>\n",
              "      <td>-0.012336</td>\n",
              "      <td>1.000000</td>\n",
              "      <td>-0.005410</td>\n",
              "      <td>-0.015555</td>\n",
              "      <td>0.113839</td>\n",
              "      <td>0.025649</td>\n",
              "      <td>0.013892</td>\n",
              "      <td>0.042445</td>\n",
              "    </tr>\n",
              "    <tr>\n",
              "      <th>Some_College</th>\n",
              "      <td>-0.003380</td>\n",
              "      <td>0.037925</td>\n",
              "      <td>0.005718</td>\n",
              "      <td>0.006494</td>\n",
              "      <td>-0.001778</td>\n",
              "      <td>-0.001873</td>\n",
              "      <td>-0.005339</td>\n",
              "      <td>-0.009232</td>\n",
              "      <td>0.050012</td>\n",
              "      <td>-0.043087</td>\n",
              "      <td>-0.037891</td>\n",
              "      <td>-0.012996</td>\n",
              "      <td>-0.005410</td>\n",
              "      <td>1.000000</td>\n",
              "      <td>-0.019441</td>\n",
              "      <td>0.122432</td>\n",
              "      <td>0.034845</td>\n",
              "      <td>0.036858</td>\n",
              "      <td>0.029714</td>\n",
              "    </tr>\n",
              "    <tr>\n",
              "      <th>Race_Asian</th>\n",
              "      <td>-0.080072</td>\n",
              "      <td>-0.052659</td>\n",
              "      <td>-0.025888</td>\n",
              "      <td>-0.053759</td>\n",
              "      <td>-0.040439</td>\n",
              "      <td>-0.022997</td>\n",
              "      <td>0.056143</td>\n",
              "      <td>-0.093969</td>\n",
              "      <td>0.358515</td>\n",
              "      <td>0.305903</td>\n",
              "      <td>0.249846</td>\n",
              "      <td>0.034015</td>\n",
              "      <td>-0.015555</td>\n",
              "      <td>-0.019441</td>\n",
              "      <td>1.000000</td>\n",
              "      <td>-0.184489</td>\n",
              "      <td>-0.054852</td>\n",
              "      <td>-0.050768</td>\n",
              "      <td>-0.064894</td>\n",
              "    </tr>\n",
              "    <tr>\n",
              "      <th>Race_White</th>\n",
              "      <td>-0.027802</td>\n",
              "      <td>0.064712</td>\n",
              "      <td>0.047267</td>\n",
              "      <td>0.020324</td>\n",
              "      <td>-0.020978</td>\n",
              "      <td>-0.007798</td>\n",
              "      <td>-0.019097</td>\n",
              "      <td>-0.087129</td>\n",
              "      <td>0.261340</td>\n",
              "      <td>0.036552</td>\n",
              "      <td>0.352620</td>\n",
              "      <td>0.040215</td>\n",
              "      <td>0.113839</td>\n",
              "      <td>0.122432</td>\n",
              "      <td>-0.184489</td>\n",
              "      <td>1.000000</td>\n",
              "      <td>-0.043730</td>\n",
              "      <td>-0.040474</td>\n",
              "      <td>-0.051980</td>\n",
              "    </tr>\n",
              "    <tr>\n",
              "      <th>Race_Two_Or_More</th>\n",
              "      <td>-0.009623</td>\n",
              "      <td>-0.013917</td>\n",
              "      <td>-0.014926</td>\n",
              "      <td>0.002090</td>\n",
              "      <td>-0.006071</td>\n",
              "      <td>0.001773</td>\n",
              "      <td>-0.002999</td>\n",
              "      <td>-0.009182</td>\n",
              "      <td>0.076943</td>\n",
              "      <td>0.011023</td>\n",
              "      <td>0.110800</td>\n",
              "      <td>0.000728</td>\n",
              "      <td>0.025649</td>\n",
              "      <td>0.034845</td>\n",
              "      <td>-0.054852</td>\n",
              "      <td>-0.043730</td>\n",
              "      <td>1.000000</td>\n",
              "      <td>-0.012034</td>\n",
              "      <td>-0.015455</td>\n",
              "    </tr>\n",
              "    <tr>\n",
              "      <th>Race_Black</th>\n",
              "      <td>-0.026741</td>\n",
              "      <td>-0.022675</td>\n",
              "      <td>-0.027812</td>\n",
              "      <td>-0.008836</td>\n",
              "      <td>-0.029244</td>\n",
              "      <td>-0.004026</td>\n",
              "      <td>0.012547</td>\n",
              "      <td>-0.005076</td>\n",
              "      <td>0.068616</td>\n",
              "      <td>0.014023</td>\n",
              "      <td>0.104210</td>\n",
              "      <td>-0.006276</td>\n",
              "      <td>0.013892</td>\n",
              "      <td>0.036858</td>\n",
              "      <td>-0.050768</td>\n",
              "      <td>-0.040474</td>\n",
              "      <td>-0.012034</td>\n",
              "      <td>1.000000</td>\n",
              "      <td>-0.014304</td>\n",
              "    </tr>\n",
              "    <tr>\n",
              "      <th>Race_Hispanic</th>\n",
              "      <td>-0.026145</td>\n",
              "      <td>-0.002232</td>\n",
              "      <td>-0.007511</td>\n",
              "      <td>-0.008976</td>\n",
              "      <td>-0.020412</td>\n",
              "      <td>-0.006983</td>\n",
              "      <td>-0.003174</td>\n",
              "      <td>-0.010163</td>\n",
              "      <td>0.086191</td>\n",
              "      <td>0.002330</td>\n",
              "      <td>0.137807</td>\n",
              "      <td>0.006080</td>\n",
              "      <td>0.042445</td>\n",
              "      <td>0.029714</td>\n",
              "      <td>-0.064894</td>\n",
              "      <td>-0.051980</td>\n",
              "      <td>-0.015455</td>\n",
              "      <td>-0.014304</td>\n",
              "      <td>1.000000</td>\n",
              "    </tr>\n",
              "  </tbody>\n",
              "</table>\n",
              "</div>\n",
              "      <button class=\"colab-df-convert\" onclick=\"convertToInteractive('df-d747c47f-ee2f-4a88-89f0-5cc5dd6bc01f')\"\n",
              "              title=\"Convert this dataframe to an interactive table.\"\n",
              "              style=\"display:none;\">\n",
              "        \n",
              "  <svg xmlns=\"http://www.w3.org/2000/svg\" height=\"24px\"viewBox=\"0 0 24 24\"\n",
              "       width=\"24px\">\n",
              "    <path d=\"M0 0h24v24H0V0z\" fill=\"none\"/>\n",
              "    <path d=\"M18.56 5.44l.94 2.06.94-2.06 2.06-.94-2.06-.94-.94-2.06-.94 2.06-2.06.94zm-11 1L8.5 8.5l.94-2.06 2.06-.94-2.06-.94L8.5 2.5l-.94 2.06-2.06.94zm10 10l.94 2.06.94-2.06 2.06-.94-2.06-.94-.94-2.06-.94 2.06-2.06.94z\"/><path d=\"M17.41 7.96l-1.37-1.37c-.4-.4-.92-.59-1.43-.59-.52 0-1.04.2-1.43.59L10.3 9.45l-7.72 7.72c-.78.78-.78 2.05 0 2.83L4 21.41c.39.39.9.59 1.41.59.51 0 1.02-.2 1.41-.59l7.78-7.78 2.81-2.81c.8-.78.8-2.07 0-2.86zM5.41 20L4 18.59l7.72-7.72 1.47 1.35L5.41 20z\"/>\n",
              "  </svg>\n",
              "      </button>\n",
              "      \n",
              "  <style>\n",
              "    .colab-df-container {\n",
              "      display:flex;\n",
              "      flex-wrap:wrap;\n",
              "      gap: 12px;\n",
              "    }\n",
              "\n",
              "    .colab-df-convert {\n",
              "      background-color: #E8F0FE;\n",
              "      border: none;\n",
              "      border-radius: 50%;\n",
              "      cursor: pointer;\n",
              "      display: none;\n",
              "      fill: #1967D2;\n",
              "      height: 32px;\n",
              "      padding: 0 0 0 0;\n",
              "      width: 32px;\n",
              "    }\n",
              "\n",
              "    .colab-df-convert:hover {\n",
              "      background-color: #E2EBFA;\n",
              "      box-shadow: 0px 1px 2px rgba(60, 64, 67, 0.3), 0px 1px 3px 1px rgba(60, 64, 67, 0.15);\n",
              "      fill: #174EA6;\n",
              "    }\n",
              "\n",
              "    [theme=dark] .colab-df-convert {\n",
              "      background-color: #3B4455;\n",
              "      fill: #D2E3FC;\n",
              "    }\n",
              "\n",
              "    [theme=dark] .colab-df-convert:hover {\n",
              "      background-color: #434B5C;\n",
              "      box-shadow: 0px 1px 3px 1px rgba(0, 0, 0, 0.15);\n",
              "      filter: drop-shadow(0px 1px 2px rgba(0, 0, 0, 0.3));\n",
              "      fill: #FFFFFF;\n",
              "    }\n",
              "  </style>\n",
              "\n",
              "      <script>\n",
              "        const buttonEl =\n",
              "          document.querySelector('#df-d747c47f-ee2f-4a88-89f0-5cc5dd6bc01f button.colab-df-convert');\n",
              "        buttonEl.style.display =\n",
              "          google.colab.kernel.accessAllowed ? 'block' : 'none';\n",
              "\n",
              "        async function convertToInteractive(key) {\n",
              "          const element = document.querySelector('#df-d747c47f-ee2f-4a88-89f0-5cc5dd6bc01f');\n",
              "          const dataTable =\n",
              "            await google.colab.kernel.invokeFunction('convertToInteractive',\n",
              "                                                     [key], {});\n",
              "          if (!dataTable) return;\n",
              "\n",
              "          const docLinkHtml = 'Like what you see? Visit the ' +\n",
              "            '<a target=\"_blank\" href=https://colab.research.google.com/notebooks/data_table.ipynb>data table notebook</a>'\n",
              "            + ' to learn more about interactive tables.';\n",
              "          element.innerHTML = '';\n",
              "          dataTable['output_type'] = 'display_data';\n",
              "          await google.colab.output.renderOutput(dataTable, element);\n",
              "          const docLink = document.createElement('div');\n",
              "          docLink.innerHTML = docLinkHtml;\n",
              "          element.appendChild(docLink);\n",
              "        }\n",
              "      </script>\n",
              "    </div>\n",
              "  </div>\n",
              "  "
            ]
          },
          "metadata": {},
          "execution_count": 157
        }
      ]
    },
    {
      "cell_type": "code",
      "source": [
        "df_salario_teste.shape"
      ],
      "metadata": {
        "colab": {
          "base_uri": "https://localhost:8080/"
        },
        "id": "1yMPIzKPhiw4",
        "outputId": "95e0a93f-910f-4d48-a424-01d89b4c6fba"
      },
      "execution_count": 158,
      "outputs": [
        {
          "output_type": "execute_result",
          "data": {
            "text/plain": [
              "(62642, 29)"
            ]
          },
          "metadata": {},
          "execution_count": 158
        }
      ]
    },
    {
      "cell_type": "markdown",
      "source": [
        "Após ponderações entre os menbros do grupo decidimos dropar as seguintes tabelas\n",
        "\n",
        "Drops:\n",
        "\n",
        "- timestamp\n",
        "- rownumber\n",
        "- Masters_Degree\n",
        "- Bachelors_Degree\n",
        "- Doctorate_Degree\n",
        "- Highschool\n",
        "- Some_College\n",
        "- Race_Asian\n",
        "- Race_White\n",
        "- Race_Two_Or_More\n",
        "- Race_Black \n",
        "- Race_Hispanic\n",
        "- otherdetails\n",
        "- level\n",
        "- tag "
      ],
      "metadata": {
        "id": "rv2zwW5LT_tz"
      }
    },
    {
      "cell_type": "markdown",
      "source": [
        "feito o drop de todas as tabelas em questão"
      ],
      "metadata": {
        "id": "zPjSBxpUZC4I"
      }
    },
    {
      "cell_type": "code",
      "source": [
        "# Drops de colunas\n",
        "df_salario_teste.drop(['timestamp', 'rowNumber','Masters_Degree','Bachelors_Degree','Doctorate_Degree','Highschool','Some_College','Race_Asian','Race_White','Race_Two_Or_More','Race_Black','Race_Hispanic','otherdetails','level','tag'], axis=1, inplace = True)"
      ],
      "metadata": {
        "id": "SYQVQgRfUVp8"
      },
      "execution_count": 159,
      "outputs": []
    },
    {
      "cell_type": "markdown",
      "source": [
        "Houve colunas que apesar de termos muitos valores nulos queriamos em nossa amostra para fazermos comparativos e verificações dessa forma resolvemos tratar os valores nulos substituindo pelo valor \"Não Informado\", houve tambem um caso onde o title acabou passando para a coluna gender fizemos a correção\n",
        "\n",
        "Correção valores nulos:\n",
        "\n",
        "- gender\n",
        "- Race\n",
        "- Education"
      ],
      "metadata": {
        "id": "N0beZGqdV3vJ"
      }
    },
    {
      "cell_type": "code",
      "source": [
        "# Correção de valores nulos\n",
        "df_salario_teste['gender'].fillna('Não informado', inplace = True)\n",
        "df_salario_teste['Race'].fillna('Não informado', inplace = True)\n",
        "df_salario_teste['Education'].fillna('Não informado', inplace = True)\n",
        "df_salario_teste['company'].fillna('Não informado', inplace = True)\n",
        "# Replace na coluna gender\n",
        "df_salario_teste['gender'].replace('Title: Senior Software Engineer','Não informado', inplace = True)"
      ],
      "metadata": {
        "id": "PFJJ3zkEWDMh"
      },
      "execution_count": 160,
      "outputs": []
    },
    {
      "cell_type": "markdown",
      "source": [
        "Houve a necessidade de dividirmos a coluna locations em mais de uma para que tivessemos cidade, estado, pais.\n",
        "\n",
        "Após muita ponderação sobre a questão dos valores 0 decidimos substituir pela media, mediana ou moda porem existiam os outliers que poderiam trazer uma ideia erroneas dos dados, dessa forma decidimos fazer esses calculos somente com os valores que não eram outliers \n",
        "\n",
        "correções especificas:\n",
        "- location: Fazer split da coluna em 3, depois dropar as sobresalentes "
      ],
      "metadata": {
        "id": "sA08jifXX5Pr"
      }
    },
    {
      "cell_type": "code",
      "source": [
        "df_salario_teste.head()"
      ],
      "metadata": {
        "colab": {
          "base_uri": "https://localhost:8080/",
          "height": 250
        },
        "id": "WvU_CM8X5Vtn",
        "outputId": "aa068646-168e-4e9f-aa3a-508914244c92"
      },
      "execution_count": 161,
      "outputs": [
        {
          "output_type": "execute_result",
          "data": {
            "text/plain": [
              "     company                         title  totalyearlycompensation  \\\n",
              "0     Oracle               Product Manager                   127000   \n",
              "1       eBay             Software Engineer                   100000   \n",
              "2     Amazon               Product Manager                   310000   \n",
              "3      Apple  Software Engineering Manager                   372000   \n",
              "4  Microsoft             Software Engineer                   157000   \n",
              "\n",
              "            location  yearsofexperience  yearsatcompany  basesalary  \\\n",
              "0   Redwood City, CA                1.5             1.5    107000.0   \n",
              "1  San Francisco, CA                5.0             3.0         0.0   \n",
              "2        Seattle, WA                8.0             0.0    155000.0   \n",
              "3      Sunnyvale, CA                7.0             5.0    157000.0   \n",
              "4  Mountain View, CA                5.0             3.0         0.0   \n",
              "\n",
              "   stockgrantvalue    bonus         gender  cityid  dmaid           Race  \\\n",
              "0          20000.0  10000.0  Não informado    7392  807.0  Não informado   \n",
              "1              0.0      0.0  Não informado    7419  807.0  Não informado   \n",
              "2              0.0      0.0  Não informado   11527  819.0  Não informado   \n",
              "3         180000.0  35000.0  Não informado    7472  807.0  Não informado   \n",
              "4              0.0      0.0  Não informado    7322  807.0  Não informado   \n",
              "\n",
              "       Education  \n",
              "0  Não informado  \n",
              "1  Não informado  \n",
              "2  Não informado  \n",
              "3  Não informado  \n",
              "4  Não informado  "
            ],
            "text/html": [
              "\n",
              "  <div id=\"df-8574e874-063a-4aed-9113-291f5e171a3c\">\n",
              "    <div class=\"colab-df-container\">\n",
              "      <div>\n",
              "<style scoped>\n",
              "    .dataframe tbody tr th:only-of-type {\n",
              "        vertical-align: middle;\n",
              "    }\n",
              "\n",
              "    .dataframe tbody tr th {\n",
              "        vertical-align: top;\n",
              "    }\n",
              "\n",
              "    .dataframe thead th {\n",
              "        text-align: right;\n",
              "    }\n",
              "</style>\n",
              "<table border=\"1\" class=\"dataframe\">\n",
              "  <thead>\n",
              "    <tr style=\"text-align: right;\">\n",
              "      <th></th>\n",
              "      <th>company</th>\n",
              "      <th>title</th>\n",
              "      <th>totalyearlycompensation</th>\n",
              "      <th>location</th>\n",
              "      <th>yearsofexperience</th>\n",
              "      <th>yearsatcompany</th>\n",
              "      <th>basesalary</th>\n",
              "      <th>stockgrantvalue</th>\n",
              "      <th>bonus</th>\n",
              "      <th>gender</th>\n",
              "      <th>cityid</th>\n",
              "      <th>dmaid</th>\n",
              "      <th>Race</th>\n",
              "      <th>Education</th>\n",
              "    </tr>\n",
              "  </thead>\n",
              "  <tbody>\n",
              "    <tr>\n",
              "      <th>0</th>\n",
              "      <td>Oracle</td>\n",
              "      <td>Product Manager</td>\n",
              "      <td>127000</td>\n",
              "      <td>Redwood City, CA</td>\n",
              "      <td>1.5</td>\n",
              "      <td>1.5</td>\n",
              "      <td>107000.0</td>\n",
              "      <td>20000.0</td>\n",
              "      <td>10000.0</td>\n",
              "      <td>Não informado</td>\n",
              "      <td>7392</td>\n",
              "      <td>807.0</td>\n",
              "      <td>Não informado</td>\n",
              "      <td>Não informado</td>\n",
              "    </tr>\n",
              "    <tr>\n",
              "      <th>1</th>\n",
              "      <td>eBay</td>\n",
              "      <td>Software Engineer</td>\n",
              "      <td>100000</td>\n",
              "      <td>San Francisco, CA</td>\n",
              "      <td>5.0</td>\n",
              "      <td>3.0</td>\n",
              "      <td>0.0</td>\n",
              "      <td>0.0</td>\n",
              "      <td>0.0</td>\n",
              "      <td>Não informado</td>\n",
              "      <td>7419</td>\n",
              "      <td>807.0</td>\n",
              "      <td>Não informado</td>\n",
              "      <td>Não informado</td>\n",
              "    </tr>\n",
              "    <tr>\n",
              "      <th>2</th>\n",
              "      <td>Amazon</td>\n",
              "      <td>Product Manager</td>\n",
              "      <td>310000</td>\n",
              "      <td>Seattle, WA</td>\n",
              "      <td>8.0</td>\n",
              "      <td>0.0</td>\n",
              "      <td>155000.0</td>\n",
              "      <td>0.0</td>\n",
              "      <td>0.0</td>\n",
              "      <td>Não informado</td>\n",
              "      <td>11527</td>\n",
              "      <td>819.0</td>\n",
              "      <td>Não informado</td>\n",
              "      <td>Não informado</td>\n",
              "    </tr>\n",
              "    <tr>\n",
              "      <th>3</th>\n",
              "      <td>Apple</td>\n",
              "      <td>Software Engineering Manager</td>\n",
              "      <td>372000</td>\n",
              "      <td>Sunnyvale, CA</td>\n",
              "      <td>7.0</td>\n",
              "      <td>5.0</td>\n",
              "      <td>157000.0</td>\n",
              "      <td>180000.0</td>\n",
              "      <td>35000.0</td>\n",
              "      <td>Não informado</td>\n",
              "      <td>7472</td>\n",
              "      <td>807.0</td>\n",
              "      <td>Não informado</td>\n",
              "      <td>Não informado</td>\n",
              "    </tr>\n",
              "    <tr>\n",
              "      <th>4</th>\n",
              "      <td>Microsoft</td>\n",
              "      <td>Software Engineer</td>\n",
              "      <td>157000</td>\n",
              "      <td>Mountain View, CA</td>\n",
              "      <td>5.0</td>\n",
              "      <td>3.0</td>\n",
              "      <td>0.0</td>\n",
              "      <td>0.0</td>\n",
              "      <td>0.0</td>\n",
              "      <td>Não informado</td>\n",
              "      <td>7322</td>\n",
              "      <td>807.0</td>\n",
              "      <td>Não informado</td>\n",
              "      <td>Não informado</td>\n",
              "    </tr>\n",
              "  </tbody>\n",
              "</table>\n",
              "</div>\n",
              "      <button class=\"colab-df-convert\" onclick=\"convertToInteractive('df-8574e874-063a-4aed-9113-291f5e171a3c')\"\n",
              "              title=\"Convert this dataframe to an interactive table.\"\n",
              "              style=\"display:none;\">\n",
              "        \n",
              "  <svg xmlns=\"http://www.w3.org/2000/svg\" height=\"24px\"viewBox=\"0 0 24 24\"\n",
              "       width=\"24px\">\n",
              "    <path d=\"M0 0h24v24H0V0z\" fill=\"none\"/>\n",
              "    <path d=\"M18.56 5.44l.94 2.06.94-2.06 2.06-.94-2.06-.94-.94-2.06-.94 2.06-2.06.94zm-11 1L8.5 8.5l.94-2.06 2.06-.94-2.06-.94L8.5 2.5l-.94 2.06-2.06.94zm10 10l.94 2.06.94-2.06 2.06-.94-2.06-.94-.94-2.06-.94 2.06-2.06.94z\"/><path d=\"M17.41 7.96l-1.37-1.37c-.4-.4-.92-.59-1.43-.59-.52 0-1.04.2-1.43.59L10.3 9.45l-7.72 7.72c-.78.78-.78 2.05 0 2.83L4 21.41c.39.39.9.59 1.41.59.51 0 1.02-.2 1.41-.59l7.78-7.78 2.81-2.81c.8-.78.8-2.07 0-2.86zM5.41 20L4 18.59l7.72-7.72 1.47 1.35L5.41 20z\"/>\n",
              "  </svg>\n",
              "      </button>\n",
              "      \n",
              "  <style>\n",
              "    .colab-df-container {\n",
              "      display:flex;\n",
              "      flex-wrap:wrap;\n",
              "      gap: 12px;\n",
              "    }\n",
              "\n",
              "    .colab-df-convert {\n",
              "      background-color: #E8F0FE;\n",
              "      border: none;\n",
              "      border-radius: 50%;\n",
              "      cursor: pointer;\n",
              "      display: none;\n",
              "      fill: #1967D2;\n",
              "      height: 32px;\n",
              "      padding: 0 0 0 0;\n",
              "      width: 32px;\n",
              "    }\n",
              "\n",
              "    .colab-df-convert:hover {\n",
              "      background-color: #E2EBFA;\n",
              "      box-shadow: 0px 1px 2px rgba(60, 64, 67, 0.3), 0px 1px 3px 1px rgba(60, 64, 67, 0.15);\n",
              "      fill: #174EA6;\n",
              "    }\n",
              "\n",
              "    [theme=dark] .colab-df-convert {\n",
              "      background-color: #3B4455;\n",
              "      fill: #D2E3FC;\n",
              "    }\n",
              "\n",
              "    [theme=dark] .colab-df-convert:hover {\n",
              "      background-color: #434B5C;\n",
              "      box-shadow: 0px 1px 3px 1px rgba(0, 0, 0, 0.15);\n",
              "      filter: drop-shadow(0px 1px 2px rgba(0, 0, 0, 0.3));\n",
              "      fill: #FFFFFF;\n",
              "    }\n",
              "  </style>\n",
              "\n",
              "      <script>\n",
              "        const buttonEl =\n",
              "          document.querySelector('#df-8574e874-063a-4aed-9113-291f5e171a3c button.colab-df-convert');\n",
              "        buttonEl.style.display =\n",
              "          google.colab.kernel.accessAllowed ? 'block' : 'none';\n",
              "\n",
              "        async function convertToInteractive(key) {\n",
              "          const element = document.querySelector('#df-8574e874-063a-4aed-9113-291f5e171a3c');\n",
              "          const dataTable =\n",
              "            await google.colab.kernel.invokeFunction('convertToInteractive',\n",
              "                                                     [key], {});\n",
              "          if (!dataTable) return;\n",
              "\n",
              "          const docLinkHtml = 'Like what you see? Visit the ' +\n",
              "            '<a target=\"_blank\" href=https://colab.research.google.com/notebooks/data_table.ipynb>data table notebook</a>'\n",
              "            + ' to learn more about interactive tables.';\n",
              "          element.innerHTML = '';\n",
              "          dataTable['output_type'] = 'display_data';\n",
              "          await google.colab.output.renderOutput(dataTable, element);\n",
              "          const docLink = document.createElement('div');\n",
              "          docLink.innerHTML = docLinkHtml;\n",
              "          element.appendChild(docLink);\n",
              "        }\n",
              "      </script>\n",
              "    </div>\n",
              "  </div>\n",
              "  "
            ]
          },
          "metadata": {},
          "execution_count": 161
        }
      ]
    },
    {
      "cell_type": "code",
      "source": [
        "#Com o split, forma criados 4 colunas. São 4 colunas por que um dos valores esta como \"Korea, South\"\n",
        "df_salario_teste[['Col1', 'Col2', 'Col3', 'Col4']] = df_salario_teste['location'].str.split(r',', expand = True)\n"
      ],
      "metadata": {
        "id": "P2kcKrfsNrZ0"
      },
      "execution_count": 162,
      "outputs": []
    },
    {
      "cell_type": "markdown",
      "source": [],
      "metadata": {
        "id": "gB5fLShfT9Sx"
      }
    },
    {
      "cell_type": "markdown",
      "source": [
        "\n",
        "- totalyearlycompensation: substituir os '0' pela média ou mediana ou moda dos valores sem outliers"
      ],
      "metadata": {
        "id": "nKsJ3DRzeBlr"
      }
    },
    {
      "cell_type": "code",
      "source": [
        "def calcula_out(X):\n",
        "\n",
        "\n",
        "  q1,q3 = np.quantile(X,[0.25,0.75])\n",
        "  iqr =  q3 - q1\n",
        "  is_outliers = ((X<(q1-1.5*iqr)) | (X>(q3+1.5*iqr)))\n",
        "  not_outliers = ((X>(q1-1.5*iqr)) & (X<(q3+1.5*iqr)))\n",
        "  outliers_count  = np.count_nonzero(is_outliers)\n",
        "\n",
        "  return is_outliers,outliers_count, X[is_outliers], X[not_outliers]\n",
        "\n",
        "\n",
        "is_outlier, outliers_count, outliers, not_outliers = calcula_out(df_salario_teste['totalyearlycompensation'])\n",
        "print(outliers_count)\n",
        "print(outliers.count())"
      ],
      "metadata": {
        "colab": {
          "base_uri": "https://localhost:8080/"
        },
        "id": "yOHVIdlrX8oa",
        "outputId": "e60c909e-4fe4-4a8c-f469-48d6ce388c31"
      },
      "execution_count": 163,
      "outputs": [
        {
          "output_type": "stream",
          "name": "stdout",
          "text": [
            "3133\n",
            "3133\n"
          ]
        }
      ]
    },
    {
      "cell_type": "code",
      "source": [
        "media_totalyearlycompensation = not_outliers.mean()\n",
        "print(media_totalyearlycompensation)"
      ],
      "metadata": {
        "colab": {
          "base_uri": "https://localhost:8080/"
        },
        "id": "cfKJv8VjYz-m",
        "outputId": "e6a6459a-093c-48c4-d8b5-f5839d80dfcb"
      },
      "execution_count": 164,
      "outputs": [
        {
          "output_type": "stream",
          "name": "stdout",
          "text": [
            "195320.57345947673\n"
          ]
        }
      ]
    },
    {
      "cell_type": "markdown",
      "source": [
        "- basesalary: substituir os '0' pela média ou mediana ou moda dos valores sem outliers"
      ],
      "metadata": {
        "id": "eEPnZsbQd_aq"
      }
    },
    {
      "cell_type": "code",
      "source": [
        "def calcula_out(X):\n",
        "\n",
        "\n",
        "  q1,q3 = np.quantile(X,[0.25,0.75])\n",
        "  iqr =  q3 - q1\n",
        "  is_outliers = ((X<(q1-1.5*iqr)) | (X>(q3+1.5*iqr)))\n",
        "  not_outliers = ((X>(q1-1.5*iqr)) & (X<(q3+1.5*iqr)))\n",
        "  outliers_count  = np.count_nonzero(is_outliers)\n",
        "\n",
        "  return is_outliers,outliers_count, X[is_outliers], X[not_outliers]\n",
        "\n",
        "\n",
        "is_outlier, outliers_count, outliers, not_outliers = calcula_out(df_salario_teste['basesalary'])\n",
        "print(outliers_count)\n",
        "print(outliers.count())"
      ],
      "metadata": {
        "colab": {
          "base_uri": "https://localhost:8080/"
        },
        "id": "N9lB4DhJc7sJ",
        "outputId": "cdfe0d0f-4679-443e-edc3-8363bf4a42ea"
      },
      "execution_count": 165,
      "outputs": [
        {
          "output_type": "stream",
          "name": "stdout",
          "text": [
            "3509\n",
            "3509\n"
          ]
        }
      ]
    },
    {
      "cell_type": "code",
      "source": [
        "media_basesalary = not_outliers.mean()\n",
        "print(media_basesalary)"
      ],
      "metadata": {
        "colab": {
          "base_uri": "https://localhost:8080/"
        },
        "id": "8rtIkL6kYpfY",
        "outputId": "50d4cc79-6adc-4590-e36a-6fbe3477cd78"
      },
      "execution_count": 166,
      "outputs": [
        {
          "output_type": "stream",
          "name": "stdout",
          "text": [
            "139077.5540414727\n"
          ]
        }
      ]
    },
    {
      "cell_type": "code",
      "source": [
        "# Trocar valores 0 pela média sem os outliers\n",
        "df_salario_teste['totalyearlycompensation'].replace(0,media_totalyearlycompensation, inplace = True)\n",
        "df_salario_teste['basesalary'].replace(0,media_basesalary, inplace = True)"
      ],
      "metadata": {
        "id": "e530PhAVgtJu"
      },
      "execution_count": 167,
      "outputs": []
    },
    {
      "cell_type": "code",
      "source": [
        "df_salario_teste['basesalary'].replace(0,media_basesalary, inplace = True)"
      ],
      "metadata": {
        "id": "M5HUmGqqhJaj"
      },
      "execution_count": 168,
      "outputs": []
    },
    {
      "cell_type": "code",
      "source": [
        "df_salario_teste.to_csv('Levels_Fyi_Salary_Data_tratado.csv' , index = False)"
      ],
      "metadata": {
        "id": "Vg6Qq4PxhWRg"
      },
      "execution_count": 169,
      "outputs": []
    },
    {
      "cell_type": "code",
      "source": [
        "df_salario_teste.dtypes"
      ],
      "metadata": {
        "colab": {
          "base_uri": "https://localhost:8080/"
        },
        "id": "oe1Mz5AeVliU",
        "outputId": "560f71bb-446c-4b45-fc41-c9cd212d6795"
      },
      "execution_count": 170,
      "outputs": [
        {
          "output_type": "execute_result",
          "data": {
            "text/plain": [
              "company                     object\n",
              "title                       object\n",
              "totalyearlycompensation      int64\n",
              "location                    object\n",
              "yearsofexperience          float64\n",
              "yearsatcompany             float64\n",
              "basesalary                 float64\n",
              "stockgrantvalue            float64\n",
              "bonus                      float64\n",
              "gender                      object\n",
              "cityid                       int64\n",
              "dmaid                      float64\n",
              "Race                        object\n",
              "Education                   object\n",
              "Col1                        object\n",
              "Col2                        object\n",
              "Col3                        object\n",
              "Col4                        object\n",
              "dtype: object"
            ]
          },
          "metadata": {},
          "execution_count": 170
        }
      ]
    },
    {
      "cell_type": "code",
      "source": [
        "df_salario_teste.isnull().sum()"
      ],
      "metadata": {
        "id": "mM78V6xci24H",
        "colab": {
          "base_uri": "https://localhost:8080/"
        },
        "outputId": "831c1570-2bb5-4dd3-ca9a-00469f6db6fc"
      },
      "execution_count": 171,
      "outputs": [
        {
          "output_type": "execute_result",
          "data": {
            "text/plain": [
              "company                        0\n",
              "title                          0\n",
              "totalyearlycompensation        0\n",
              "location                       0\n",
              "yearsofexperience              0\n",
              "yearsatcompany                 0\n",
              "basesalary                     0\n",
              "stockgrantvalue                0\n",
              "bonus                          0\n",
              "gender                         0\n",
              "cityid                         0\n",
              "dmaid                          2\n",
              "Race                           0\n",
              "Education                      0\n",
              "Col1                           0\n",
              "Col2                           0\n",
              "Col3                       52840\n",
              "Col4                       62618\n",
              "dtype: int64"
            ]
          },
          "metadata": {},
          "execution_count": 171
        }
      ]
    },
    {
      "cell_type": "code",
      "source": [
        "df_salario_teste['location'].unique()"
      ],
      "metadata": {
        "colab": {
          "base_uri": "https://localhost:8080/"
        },
        "id": "N5dGOVrn0SMl",
        "outputId": "18efe528-0918-42ac-ee4a-0d8894b1f5a8"
      },
      "execution_count": 172,
      "outputs": [
        {
          "output_type": "execute_result",
          "data": {
            "text/plain": [
              "array(['Redwood City, CA', 'San Francisco, CA', 'Seattle, WA', ...,\n",
              "       'Pasir Ris, SG, Singapore', 'Richmond, VA, United States',\n",
              "       'Hilbert, WI'], dtype=object)"
            ]
          },
          "metadata": {},
          "execution_count": 172
        }
      ]
    },
    {
      "cell_type": "code",
      "source": [
        "df_salario_teste['location'].unique().sum()"
      ],
      "metadata": {
        "id": "VBFGVd2JyDuz",
        "colab": {
          "base_uri": "https://localhost:8080/",
          "height": 108
        },
        "outputId": "31a39054-294d-493f-ad00-0c0e24065c68"
      },
      "execution_count": 173,
      "outputs": [
        {
          "output_type": "execute_result",
          "data": {
            "text/plain": [
              "\"Redwood City, CASan Francisco, CASeattle, WASunnyvale, CAMountain View, CARedmond, WABellevue, WAMenlo Park, CALondon, EN, United KingdomCupertino, CANew York, NYLos Gatos, CADublin, DN, IrelandBaltimore, MDSacramento, CAHillsboro, ORCambridge, EN, United KingdomAliso Viejo, CASan Jose, CABangalore, KA, IndiaMinsk, HM, BelarusPalo Alto, CAKirkland, WAWashington, DCVancouver, BC, CanadaAustin, TXBoston, MASan Diego, CANew Orleans, LASanta Clara, CAIrvine, CAPittsburgh, PASan Ramon, CALos Angeles, CAFolsom, CACharleston, SCMoscow, MC, RussiaCulver City, CAMc Lean, VAPortland, ORBoulder, COPleasanton, CAFremont, CABeaverton, OROmaha, NEWaltham, MAPhiladelphia, PAIndianapolis, INMilwaukee, WIMinneapolis, MNAmsterdam, NH, NetherlandsZurich, ZH, SwitzerlandSingapore, SG, SingaporeChicago, ILHerndon, VADenver, COBerlin, BE, GermanyHyderabad, TS, IndiaAlbany, NYHoboken, NJTokyo, TY, JapanWaterloo, ON, CanadaNewark, NJChandler, AZColorado Springs, COStockholm, ST, SwedenCosta Mesa, CASan Bruno, CASan Mateo, CAPlano, TXRichmond, VAPhoenix, AZDallas, TXRound Rock, TXOakland, CAMelbourne, VI, AustraliaSaint Petersburg, SP, RussiaMadison, WIBedford, MABroomfield, COMonroe, LA, United StatesHarrisburg, PATel Aviv, TA, IsraelWarsaw, MZ, PolandCincinnati, OHMunich, BY, GermanyJersey City, NJBeijing, BJ, ChinaDurham, NCTelford, EN, United KingdomHangzhou, ZJ, ChinaVienna, WI, AustriaBurlington, MAPune, MH, IndiaRaleigh, NCLeixlip, KE, IrelandLuxembourg, LU, LuxembourgFort Lauderdale, FLRedlands, CAShanghai, SH, ChinaOrlando, FLCambridge, MA, United StatesToronto, ON, CanadaOregon City, ORRenton, WAAtlanta, GAEden Prairie, MNRoseland, NJReston, VASanta Monica, CASt. Louis, MOChantilly, VANew York Mills, NYNeedham, MAFoster City, CAPrague, PR, Czech RepublicBloomington, MNLos Altos, CAWoonsocket, RIMilpitas, CAGurgaon, HR, IndiaChampaign, ILSalt Lake City, UTPoughkeepsie, NYSydney, NS, AustraliaCharlotte, NCParis, IL, FranceVenice, CAIslamabad, IS, PakistanWinston Salem, NCMorrisville, NCRoswell, GAMontreal, QC, CanadaCambridge, MAChennai, undefined, IndiaAuckland, AU, New ZealandCopenhagen , SK, DenmarkColumbus, OHDetroit, MILille, NO, FranceMarkham, ON, CanadaHong Kong, HK, Hong Kong (SAR)Redondo Beach, CACape Town, WC, South AfricaWhippany, NJBrooklyn, NYMadrid, MD, SpainStamford, CTSan Antonio, TXDubai, DU, United Arab EmiratesAlbuquerque, NMTempe, AZNewtown Square, PAYorktown Heights, NYGdansk, PM, PolandBoxborough, MAHopkinton, MACary, NCTampa, FLBentonville, ARSnoqualmie, WAMiddletown, NJHartford, CTBurlington, VTBothell, WAPlantation Acres, FLBudapest, BU, HungaryLongmont, COHouston, TXCedar Rapids, IAColorado City, COEmeryville, CAHaifa, HA, IsraelVancouver, WASao Paulo, SP, BrazilLehi, UTBerkeley, CASofia, SF, BulgariaBrisbane, QL, AustraliaHudson, MAKansas City, KSVienna, VADulles, VAManhattan, NYAnn Arbor, MIBristol, EN, United KingdomSanta Rosa, CAAllentown, PASanta Barbara, CABarcelona, CT, SpainCleveland, OHWroclaw, DS, PolandGrand Rapids, MINashua, NHNatick, MASandy, UTMount Laurel, NJBoise, IDArlington, VAEllicott City, MDSan Fernando, LB, PhilippinesNorwalk, CTSterling, VAManchester, NHBristol, CTDuluth, GANashville, TNCollege Station, TXJakarta, JK, IndonesiaKitchener, ON, CanadaLong Beach, CALittleton, MAChengdu, SC, ChinaSan Juan, PR, Puerto RicoTaipei, TP, TaiwanWilmington, DELebanon, NHIasi, IS, RomaniaNew Delhi, DL, IndiaHuntsville, ALGlendale, CAChennai, TN, IndiaLodz, LD, PolandWarren, MIKansas City, MOCanberra, CT, AustraliaFort Mill, SCSindelfingen, BW, GermanyWalldorf, BW, GermanyWausau, WICalgary, AB, CanadaLausanne, VD, SwitzerlandHeidelberg, BW, GermanyPoint Richmond, CAFrankfurt, HE, GermanyReading, EN, United KingdomCologne, NW, GermanyWarren, NJFrankford, DEMilford, MIWalnut Creek, CAWatertown, MALos Alamitos, CAGuadalajara, JA, MexicoArmonk, NYLenexa, KSMill Valley, CACanonsburg, PABridgewater, NJArlington, TXMurfreesboro, TNLittleton, COLayton, UTIrving, TXKrakow, MA, PolandCalifornia City, CASparks, NVDes Moines, IADearborn, MIBuffalo Grove, ILSan Rafael, CAFarmington, UTCarlsbad, CALake Forest, CASt. Petersburg, FLSilver Spring, MDNazareth Illit, HZ, IsraelHeredia, HE, Costa RicaWuppertal, NW, GermanyBasking Ridge, NJKwajalein, MH, Marshall IslandsJerusalem, JM, IsraelHanoi, HN, VietnamDeerfield Beach, FLLas Tablas, LS, PanamaStratford, CTBeverly, MAWindsor, CTMedan, SU, IndonesiaScottsdale, AZLexington, KYFort Collins, CORaanana, HM, IsraelNorth Reading, MAOttawa, ON, CanadaClearwater, FLHollywood, CAFairfax, VAShenzhen, GD, ChinaThiruvananthapuram, KL, IndiaPiscataway, NJCampbell, CABrooklyn Park, MNIssaquah, WAKing of Prussia, PAAspen, COCork, CK, IrelandCollege Park, MDBucharest, BU, RomaniaGlasgow, SC, United KingdomNYCHUM, QL, AustraliaNorfolk, VAFrisco, TXRocklin, CAEdinburgh, SC, United KingdomSan Dimas, CAMarietta, GAPortsmouth, RISouth San Francisco, CASugar Land, TXNewark, DEBuenos Aires, DF, ArgentinaTel Aviv, IsraelFort Worth, TXSouth Jordan, UTOslo, OS, NorwaySanta Cruz, CATewksbury, MASaint Charles, MOChisinau, CE, MoldovaReno, NVTucson, AZRidgefield Park, NJWestminster, COProvo, UTAachen, NW, GermanyDraper, UTDelhi, DL, IndiaEindhoven, NB, NetherlandsKanata, ON, CanadaEverett, WADover, NHBend, ORAlpharetta, GAVerona, WIGoshen, INPasadena, CARochester, MNManchester, EN, United KingdomPrinceton, NJColumbia, MDBengaluru, KA, IndiaAmerican Fork, UTEnglewood, COMumbai, MH, IndiaIndore, MP, IndiaTallinn, HA, EstoniaWeston, FLHyderabad, AP, IndiaAarhus, AR, DenmarkWinchester, EN, United KingdomFriday Harbor, WAManhattan Beach, CARaritan, NJHunt Valley, MDNairobi, NA, KenyaNoida, UP, IndiaIstanbul, IB, TurkeyBuda, TXBaton Rouge, LAFulton, MDMilano, LO, ItalyExton, PAMalvern, PAWimborne Minster, EN, United KingdomVilnius, VL, LithuaniaFramingham, MALagos, LA, NigeriaFalls Church, VABrampton, ON, CanadaBelgium, WIYeovil, EN, United KingdomRoseville, MNLondonderry, VTMontvale, NJAdelaide, SA, AustraliaMechanicsburg, PAMinnetonka, MNMorgantown, WVCorvallis, ORKent, WAWestford, MASeoul, KG, Korea, SouthHerzliyya, TA, IsraelJacksonville, FLIllinois City, ILRichardson, TXKiev, KC, UkraineEl Segundo, CAWilmington, MAMiami, FLPetach Tikva, HM, IsraelGoleta, CAHannover, NI, GermanyNanjing, JS, ChinaHoltsville, NYProvidence, RICharlottesville, VASouthbury, CTSan Carlos, CARoseville, CAHoffman Estates, ILCluj-Napoca, CJ, RomaniaMarlborough, MAAmman, AM, JordanBelfast, NI, United KingdomFlorham Park, NJAlexandria, VALake Mary, FLClaymont, DESan Jose, SJ, Costa RicaSumner, WAKokomo, INHawthorne, CABasingstoke, EN, United KingdomBangkok, BM, ThailandGreenwich, CTOntario, CABurbank, CALeeds, EN, United KingdomWindsor Locks, CTBrno, JM, Czech RepublicSpringfield, VAMalmo, NEBeloit, WITulsa, OKQueretaro, QE, MexicoSan Luis Obispo, CAMoorestown, NJSaint Paul, MNRome, NYSt Paul, MNLanghorne, PARotterdam, ZH, NetherlandsMississauga, ON, CanadaParker, COUsaquen, CU, ColombiaLyon, RH, FranceWest Chester, PASan Fernando, CACampinas, SP, BrazilCanada, KYBogota, DC, ColombiaStuttgart, BW, GermanyOwego, NYOxford, EN, United KingdomBala Cynwyd, PASkillman, NJBelgrade, SR, SerbiaNewport Beach, CAMemphis, TNO Fallon, MODublin, CAAmersfoort, UT, NetherlandsFribourg, FR, SwitzerlandAndover, MANewton, MANeedham Heights, MASeabrook, NHKyoto, KY, JapanToulouse, MI, FranceBasel, BS, SwitzerlandZaragoza, AR, SpainBern, BE, SwitzerlandLisbon, LI, PortugalPeterborough, NHGuatemala, GU, GuatemalaNovi Sad, VO, YugoslaviaMontevideo, MO, UruguayHamburg, HH, GermanyWichita, KSGreenville, TXNottingham, EN, United KingdomPlymouth Meeting, PAPortsmouth, NHJohnston, IAFredericton, NB, CanadaUrbandale, IAGalway, GY, IrelandTromso, TR, NorwayGuangzhou, GD, ChinaBratislava, BL, SlovakiaDresden, SN, GermanyBrazil, INLafayette, LABuffalo, NYDowningtown, PAMedellin, AN, ColombiaUtrecht, UT, NetherlandsDhaka, DA, BangladeshGie, HE, GermanyFairmont, WVLake Charles, LAAnnapolis Junction, MDSunrise, FLBelo Horizonte, MG, BrazilGreenville, SCLas Vegas, NVMeriden, CTOlathe, KSGlen Allen, VAAurora, COPascagoula, MSIowa City, IABallston Spa, NYWesterville, OHEdmonton, AB, CanadaCarpinteria, CAFeltham, EN, United KingdomChicago Heights, ILVirginia Beach, VAMurray Hill, NJHelsinki, ES, FinlandMiami Beach, FLDaly City, CASecaucus, NJChina, MELouisville, COGreenwood Village, COGeneva, GE, SwitzerlandSan Juan Bautista, CALondon Mills, ILHolmdel, NJPetah Tiqva, HM, IsraelNaperville, ILSouthlake, TXMontreal, MOWayne, NJFlorida, NYNorth Charleston, SCNewark, CABoca Raton, FLMenomonee Falls, WIPennington, NJNurnberg, BY, GermanyMelbourne, FLVictoria, BC, CanadaSophia-Antipolis, PR, FranceOgden, UTGainesville, FLAllen, TXLimerick, LK, IrelandSeal Beach, CAColumbus, INOklahoma City, OKReidsville, NCMurray, UTAguadilla, PR, Puerto RicoHanover, MDDelaware City, DEPurchase, NYLouisville, KYEdison, NJDusseldorf, NW, GermanySaint Peters, MOTexas City, TXSantiago, RM, ChileArizona City, AZNew Hampton, NHHalifax, NS, CanadaGermantown, ILTitusville, NJClaremont, CAPalm Bay, FLWest Valley City, UTPrineville, ORItaly, TXWarrenville, ILMinsk, MI, BelarusSochi, KD, RussiaMenomonie, WIBerlin Center, OHBloomington, ILLansing, MIRehovot, HM, IsraelNewport News, VAAmes, IASarasota, FLGilroy, CATemple, TXBurnaby, BC, CanadaBethesda, MDLondonderry, OHLynn, MAMoscow Mills, MOEagan, MNTorino, PI, ItalyLivermore, CAVirgilina, VARockford, ILHelena, MTPittsburg, CAJohnston, RISchaumburg, ILBirmingham, EN, United KingdomMinnesota City, MNManassas, VARolling Meadows, ILSummit, NJMckinney, TXAshburn, VAEast Hartford, CTSpring, TXOrange, CANorthridge, CAEkaterinburg, SV, RussiaMunich, NDDearborn Heights, MIAlameda, CAGoa, GA, IndiaBoone, NCGuildford, EN, United KingdomWhite Plains, NYDalian, LN, ChinaBanganapalle, AP, IndiaNew Brunswick, NJBoston, ARPalmdale, CABowling Green, OHPerth, WA, AustraliaWilton, CTBraga, BR, PortugalColumbia, MOAzusa, CASuzhou, JS, ChinaWinnipeg, MB, CanadaLviv, LV, UkraineMason, OHZug, ZG, SwitzerlandSanta Rosa Beach, FLElkridge, MDEugene, ORIndiana, PAAmsterdam, NYSaratoga Springs, NYPlymouth, MIRome, LA, ItalyPorto, PO, PortugalKuala Lumpur, KL, MalaysiaFullerton, CASaint Louis, MIDebrecen, HB, HungaryAntioch, TNMorristown, NJRoanoke, TXFayetteville, NCTualatin, ORGandhinagar, GJ, IndiaBrasilia, DF, BrazilTrumbull, CTIreland, INDublin, GARIGA, RI, LatviaRiyadh, RI, Saudi ArabiaRaleigh, NDKolkata, WB, IndiaHatfield, EN, United KingdomSchenectady, NYFukuoka, FK, JapanTrivandrum, KL, IndiaSan Francisco De Dos Rios, SJ, Costa RicaWoodland Hills, CAShelton, CTSheffield, EN, United KingdomWaukesha, WIBloomfield, CTHahira, GADallas Center, IANeuchatel, NE, SwitzerlandElk Grove, CALima, LI, PeruMandaluyong City, MM, PhilippinesNice, PR, FranceTrondheim, ST, NorwayNorthampton, EN, United KingdomTeaneck, NJKarlsruhe, BW, GermanyThousand Oaks, CATorrance, CAWestport, CTBerlin, CTMexico, DF, MexicoIselin, NJGraz, ST, AustriaCoppell, TXSuwon, KG, Korea, SouthBielefeld, NW, GermanySan Marcos, CATracy, CAOulu, OU, FinlandYavne, JM, IsraelDeerfield, ILKfar saba, HM, IsraelFranklin, TNSammamish, WASwindon, EN, United KingdomPhilipsburg, SM, Netherlands AntillesOldsmar, FLRialto, CAWayne, PAOxford, MSSuwanee, GADortmund, NW, GermanyPensacola, FLGarner, NCBloomington, INHo Chi Minh City, HC, VietnamAnkara, AN, TurkeyPortland, MELiverpool, NYPelham, NHBrussels, BU, BelgiumYangon, YA, BurmaNaples, FLRochester, NYDublin, OHSchwieberdingen, BW, GermanyShawnee Mission, KSManila, MM, PhilippinesLeamington, EN, United KingdomBerwyn, PABelmont, CATacoma, WADoha, DA, QatarCypress, CATemecula, CAMerrimack, NHOverland Park, KSLund, SN, SwedenIndian Lake, NYCiudad de Mexico, MX, MexicoAuburn Hills, MINorthbrook, ILKharkiv, KK, UkraineMountain View, ARLondon, KYPalm Beach, FLWest Orange, NJWilsonville, ORClearfield, UTHorsham, PAOwings Mills, MDNovosibirsk, NS, RussiaNizhniy Novgorod, NZ, RussiaDenver City, TXNew York Mills, MNSaskatoon, SK, CanadaValdosta, GATroy, MIVenice, VE, ItalyMontpellier, LA, FranceHonolulu, HIHayward, CAKaliningrad, KN, RussiaMcLean, TXGilbert, AZFranklin, WIZapopan, JA, MexicoNewcastle Upon Tyne, EN, United KingdomThe Hague, ZH, NetherlandsMartinsburg, WVRichmond, CAAthens, GAAlphen Aan Den Rijn, ZH, NetherlandsBerlin, GAWest Palm Beach, FLKalamazoo, MIInwood, WVColumbia, SCKherson, MY, UkraineTrenton, NJButte, MTJohor Baharu, JH, MalaysiaLindau, BY, GermanyBirmingham, ALSaratov, SR, RussiaDavie, FLErlangen, BY, GermanyBrighton, EN, United KingdomHermitage, TNMonroe, LARio Rancho, NMJeddah, MK, Saudi ArabiaVermont, ILPenang, PG, MalaysiaMcLean, NEFresno, CATampere, ES, FinlandVan Nuys, CAWestborough, MAParsippany, NJMesa, AZArvada, CORahway, NJStaines, EN, United KingdomChapel Hill, NCPlacerville, CALindon, UTSteubenville, OHIngolstadt, BY, GermanyFall River, MAGermantown, MDSan Diego, TXNorwich, EN, United KingdomKochi, KL, IndiaSabinsville, PABeer-Sheva, HD, IsraelOsaka, OS, JapanCentreville, VAGliwice, SL, PolandFlorianopolis, SC, BrazilVacaville, CASuitland, MDReedsville, PABournemouth, EN, United KingdomBolivia, NCEatontown, NJBurnsville, MNQuebec, QC, CanadaDublin, INTraverse City, MIRegensburg, BY, GermanySuffolk, VAMoline, ILWest Hollywood, CAWellesley, MANebraska City, NEMahwah, NJSouth Bend, INPlymouth, MNEndicott, NYSao Leopoldo, RS, BrazilCollierville, TNCape Girardeau, MORoy, UTEgypt, ARLoveland, COPaterson, NJJamaica Beach, TXWaterloo, ALAugusta, GAMalaga, AN, SpainWest Chester, OHFargo, NDSpokane, WAMichigan Center, MIYork, PAOhio City, OHEnglewood Cliffs, NJSyracuse, NYColumbus, GALa Jolla, CABozeman, MTHauppauge, NYNorth Haven, CTGdynia, PM, PolandAbingdon, MDFort Bragg, NCGaithersburg, MDHopewell, NJToronto, OHAngeles City, PM, PhilippinesGold Coast, QL, AustraliaSorrento, FLFountain Inn, SCHighland Park, NJFrederick, MDCrapo, MDOdessa, OD, UkraineTustin, CABossier City, LAMiramar, FLJohnson City, TNAnnandale, VAPeachtree City, GAFarmington, CTShingle Springs, CAWorcester, MAHudson, NHFairfield, CTLinthicum Heights, MDPalm Springs, CAAthlone, WH, IrelandMidvale, UTMobile, ALArlington Heights, ILMissouri City, MOMaple Shade, NJWhitehouse Station, NJHiawatha, IANew Braunfels, TXClifton, NJBurlingame, CALa Canada Flintridge, CAThornton, CORogers, ARSomerville, MASherbrooke, QC, CanadaLod, HM, IsraelArchbald, PAHazelwood, MOFredericksburg, VANagoya, AI, JapanPoland, INPorto Alegre, RS, BrazilAberdeen Proving Ground, MDSanta Maria, CAIssy-les-Moulineaux, IL, FranceFort Knox, KYMonterey, CAPoway, CAEvanston, ILKaneohe, HIMoscow, IDSimsbury, CTAtlanta, NYBellevue, OHFairfax Station, VAVeldhoven, NB, NetherlandsCheyenne, WYNantes, PA, FranceColumbus Grove, OHGothenburg, VG, SwedenBonn, NW, GermanyIrvine, PABrea, CAHuntington Beach, CACalifornia Hot Springs, CARedmond, UTHopewell Junction, NYLa Crosse, WIAccra, AA, GhanaRockville, MDMoscow, PAParis, ILBridgeport, CTDayton, OHNavi Mumbai, MH, IndiaSunnyvale, TXCochin, KL, IndiaHamilton, NJWashington, VALondon, WVSan Jose, ILHillsboro, OHMississippi State, MSHolon, TA, IsraelNew Providence, NJColorado City, AZCamas, WASacramento, PAHawaiian Gardens, CADublin, NHEast Rutherford, NJJohannesburg, GT, South AfricaHsin-chu, TP, TaiwanToledo, OHTaoyuan, TA, TaiwanNew Haven, CTWatford, EN, United KingdomAlmaty, AC, KazakhstanAmstelveen, NH, NetherlandsDnepropetrovsk, DP, UkraineSmithfield, RIWaukegan, ILLexington Park, MDDublin, PABergenfield, NJBerkeley Heights, NJhod hasharon, HM, IsraelAnaheim, CASaint Petersburg, FLWoodstock, ON, CanadaKazan, TT, RussiaOregon, OHFort Myers, FLDublin, TXPennsylvania Furnace, PAStockport, EN, United KingdomOshawa, ON, CanadaConcord, NCUlm, BW, GermanyDetroit, MEValbonne, PR, FrancePontiac, MIMar del Plata, BA, ArgentinaNeuquen, NQ, ArgentinaWilmington, NCChester Springs, PAChandler Heights, AZSan Leandro, CACharleston, WVTashkent, TO, UzbekistanCali, VC, ColombiaSandisfield, MAPlymouth, MASan Mateo, FLLevis, QC, CanadaAltrincham, EN, United KingdomCovington, KYTaunton, MACalifornia, PAAllen Park, MIBellevue, IDRidley Park, PACourbevoic, IL, FranceMorris Plains, NJHsin-Chu County, CN, ChinaYerevan, ER, ArmeniaMonument, COTainan, KH, TaiwanTaichung City, TP, TaiwanMaryland Heights, MOLake Saint Louis, MOChu-nan, TW, TaiwanJulianadorp, NH, NetherlandsClementi, SG, SingaporeHoofddorp, NH, NetherlandsWest McLean, VAAnnapolis, MDTampines, SG, SingaporeWoodlands, SG, SingaporeBad Homburg, HE, GermanyNorth Houston, TXYulee, FLFort Wayne, INMountain View, MORabat, RA, MoroccoPanchiao, TP, TaiwanSembawang, SG, SingaporeSanta Clarita, CAShevlin, MNNineveh, NI, IraqEdgewater, NJShreveport, LAFort George G Meade, MDBedok, SG, SingaporeRaffles Park, SG, SingaporeCape Canaveral, FLGeorgiana, ALLondon, OHT'ai-chung, TA, TaiwanPort of Spain, PO, Trinidad and TobagoNew City, NYRichmond, BC, CanadaTaichung City, CN, ChinaGiza, JZ, EgyptPasir Ris, SG, SingaporeRichmond, VA, United StatesHilbert, WI\""
            ],
            "application/vnd.google.colaboratory.intrinsic+json": {
              "type": "string"
            }
          },
          "metadata": {},
          "execution_count": 173
        }
      ]
    },
    {
      "cell_type": "code",
      "source": [
        "df_salario_teste['Col3'].replace(' Korea','South Korea', inplace = True)"
      ],
      "metadata": {
        "id": "FNkiXqz5ehrA"
      },
      "execution_count": 174,
      "outputs": []
    },
    {
      "cell_type": "code",
      "source": [
        "df_salario_teste.drop(['Col4'], axis=1, inplace = True)"
      ],
      "metadata": {
        "id": "F-ATH1aElWtV"
      },
      "execution_count": 175,
      "outputs": []
    },
    {
      "cell_type": "code",
      "source": [
        "df_salario_teste['Col3'].fillna('United States', inplace = True)"
      ],
      "metadata": {
        "id": "LZ71m4kjlsrj"
      },
      "execution_count": 176,
      "outputs": []
    },
    {
      "cell_type": "code",
      "source": [
        "df_salario_teste.rename(columns ={\"company\": \"compania\",\n",
        "                          \"title\": \"profissao\",\n",
        "                          \"totalyearlycompensation\":\"ganhoAnual\",\n",
        "                          \"yearsatcompany\":\"temponaEmpresa\",\n",
        "                          \"yearsofexperience\":\"anosExperiencia\",\n",
        "                          \"basesalary\":\"salarioBase\",\n",
        "                          \"stockgrantvalue\":\"SGV\",\n",
        "                          \"gender\":\"genero\",\n",
        "                          \"Race\":\"raca\",\n",
        "                          \"Education\":\"educacao\",\n",
        "                          \"Col1\":\"cidade\",\n",
        "                          \"Col2\":\"estado\",\n",
        "                          \"Col3\":\"pais\",},\n",
        "                inplace=True )"
      ],
      "metadata": {
        "id": "3nZ9pUaYQxWN"
      },
      "execution_count": 177,
      "outputs": []
    },
    {
      "cell_type": "markdown",
      "source": [
        "Verificação dos dados após tratamento"
      ],
      "metadata": {
        "id": "TlXi0Ggxj_Zk"
      }
    },
    {
      "cell_type": "code",
      "source": [
        "df_salario_teste.head()"
      ],
      "metadata": {
        "id": "5sg1PEF83-ed",
        "colab": {
          "base_uri": "https://localhost:8080/",
          "height": 337
        },
        "outputId": "a445cd01-22e1-42ec-d420-002bc9f53d54"
      },
      "execution_count": 178,
      "outputs": [
        {
          "output_type": "execute_result",
          "data": {
            "text/plain": [
              "    compania                     profissao  ganhoAnual           location  \\\n",
              "0     Oracle               Product Manager      127000   Redwood City, CA   \n",
              "1       eBay             Software Engineer      100000  San Francisco, CA   \n",
              "2     Amazon               Product Manager      310000        Seattle, WA   \n",
              "3      Apple  Software Engineering Manager      372000      Sunnyvale, CA   \n",
              "4  Microsoft             Software Engineer      157000  Mountain View, CA   \n",
              "\n",
              "   anosExperiencia  temponaEmpresa    salarioBase       SGV    bonus  \\\n",
              "0              1.5             1.5  107000.000000   20000.0  10000.0   \n",
              "1              5.0             3.0  139077.554041       0.0      0.0   \n",
              "2              8.0             0.0  155000.000000       0.0      0.0   \n",
              "3              7.0             5.0  157000.000000  180000.0  35000.0   \n",
              "4              5.0             3.0  139077.554041       0.0      0.0   \n",
              "\n",
              "          genero  cityid  dmaid           raca       educacao         cidade  \\\n",
              "0  Não informado    7392  807.0  Não informado  Não informado   Redwood City   \n",
              "1  Não informado    7419  807.0  Não informado  Não informado  San Francisco   \n",
              "2  Não informado   11527  819.0  Não informado  Não informado        Seattle   \n",
              "3  Não informado    7472  807.0  Não informado  Não informado      Sunnyvale   \n",
              "4  Não informado    7322  807.0  Não informado  Não informado  Mountain View   \n",
              "\n",
              "  estado           pais  \n",
              "0     CA  United States  \n",
              "1     CA  United States  \n",
              "2     WA  United States  \n",
              "3     CA  United States  \n",
              "4     CA  United States  "
            ],
            "text/html": [
              "\n",
              "  <div id=\"df-0c65555d-bb18-408d-beb4-1d3c785e1cf6\">\n",
              "    <div class=\"colab-df-container\">\n",
              "      <div>\n",
              "<style scoped>\n",
              "    .dataframe tbody tr th:only-of-type {\n",
              "        vertical-align: middle;\n",
              "    }\n",
              "\n",
              "    .dataframe tbody tr th {\n",
              "        vertical-align: top;\n",
              "    }\n",
              "\n",
              "    .dataframe thead th {\n",
              "        text-align: right;\n",
              "    }\n",
              "</style>\n",
              "<table border=\"1\" class=\"dataframe\">\n",
              "  <thead>\n",
              "    <tr style=\"text-align: right;\">\n",
              "      <th></th>\n",
              "      <th>compania</th>\n",
              "      <th>profissao</th>\n",
              "      <th>ganhoAnual</th>\n",
              "      <th>location</th>\n",
              "      <th>anosExperiencia</th>\n",
              "      <th>temponaEmpresa</th>\n",
              "      <th>salarioBase</th>\n",
              "      <th>SGV</th>\n",
              "      <th>bonus</th>\n",
              "      <th>genero</th>\n",
              "      <th>cityid</th>\n",
              "      <th>dmaid</th>\n",
              "      <th>raca</th>\n",
              "      <th>educacao</th>\n",
              "      <th>cidade</th>\n",
              "      <th>estado</th>\n",
              "      <th>pais</th>\n",
              "    </tr>\n",
              "  </thead>\n",
              "  <tbody>\n",
              "    <tr>\n",
              "      <th>0</th>\n",
              "      <td>Oracle</td>\n",
              "      <td>Product Manager</td>\n",
              "      <td>127000</td>\n",
              "      <td>Redwood City, CA</td>\n",
              "      <td>1.5</td>\n",
              "      <td>1.5</td>\n",
              "      <td>107000.000000</td>\n",
              "      <td>20000.0</td>\n",
              "      <td>10000.0</td>\n",
              "      <td>Não informado</td>\n",
              "      <td>7392</td>\n",
              "      <td>807.0</td>\n",
              "      <td>Não informado</td>\n",
              "      <td>Não informado</td>\n",
              "      <td>Redwood City</td>\n",
              "      <td>CA</td>\n",
              "      <td>United States</td>\n",
              "    </tr>\n",
              "    <tr>\n",
              "      <th>1</th>\n",
              "      <td>eBay</td>\n",
              "      <td>Software Engineer</td>\n",
              "      <td>100000</td>\n",
              "      <td>San Francisco, CA</td>\n",
              "      <td>5.0</td>\n",
              "      <td>3.0</td>\n",
              "      <td>139077.554041</td>\n",
              "      <td>0.0</td>\n",
              "      <td>0.0</td>\n",
              "      <td>Não informado</td>\n",
              "      <td>7419</td>\n",
              "      <td>807.0</td>\n",
              "      <td>Não informado</td>\n",
              "      <td>Não informado</td>\n",
              "      <td>San Francisco</td>\n",
              "      <td>CA</td>\n",
              "      <td>United States</td>\n",
              "    </tr>\n",
              "    <tr>\n",
              "      <th>2</th>\n",
              "      <td>Amazon</td>\n",
              "      <td>Product Manager</td>\n",
              "      <td>310000</td>\n",
              "      <td>Seattle, WA</td>\n",
              "      <td>8.0</td>\n",
              "      <td>0.0</td>\n",
              "      <td>155000.000000</td>\n",
              "      <td>0.0</td>\n",
              "      <td>0.0</td>\n",
              "      <td>Não informado</td>\n",
              "      <td>11527</td>\n",
              "      <td>819.0</td>\n",
              "      <td>Não informado</td>\n",
              "      <td>Não informado</td>\n",
              "      <td>Seattle</td>\n",
              "      <td>WA</td>\n",
              "      <td>United States</td>\n",
              "    </tr>\n",
              "    <tr>\n",
              "      <th>3</th>\n",
              "      <td>Apple</td>\n",
              "      <td>Software Engineering Manager</td>\n",
              "      <td>372000</td>\n",
              "      <td>Sunnyvale, CA</td>\n",
              "      <td>7.0</td>\n",
              "      <td>5.0</td>\n",
              "      <td>157000.000000</td>\n",
              "      <td>180000.0</td>\n",
              "      <td>35000.0</td>\n",
              "      <td>Não informado</td>\n",
              "      <td>7472</td>\n",
              "      <td>807.0</td>\n",
              "      <td>Não informado</td>\n",
              "      <td>Não informado</td>\n",
              "      <td>Sunnyvale</td>\n",
              "      <td>CA</td>\n",
              "      <td>United States</td>\n",
              "    </tr>\n",
              "    <tr>\n",
              "      <th>4</th>\n",
              "      <td>Microsoft</td>\n",
              "      <td>Software Engineer</td>\n",
              "      <td>157000</td>\n",
              "      <td>Mountain View, CA</td>\n",
              "      <td>5.0</td>\n",
              "      <td>3.0</td>\n",
              "      <td>139077.554041</td>\n",
              "      <td>0.0</td>\n",
              "      <td>0.0</td>\n",
              "      <td>Não informado</td>\n",
              "      <td>7322</td>\n",
              "      <td>807.0</td>\n",
              "      <td>Não informado</td>\n",
              "      <td>Não informado</td>\n",
              "      <td>Mountain View</td>\n",
              "      <td>CA</td>\n",
              "      <td>United States</td>\n",
              "    </tr>\n",
              "  </tbody>\n",
              "</table>\n",
              "</div>\n",
              "      <button class=\"colab-df-convert\" onclick=\"convertToInteractive('df-0c65555d-bb18-408d-beb4-1d3c785e1cf6')\"\n",
              "              title=\"Convert this dataframe to an interactive table.\"\n",
              "              style=\"display:none;\">\n",
              "        \n",
              "  <svg xmlns=\"http://www.w3.org/2000/svg\" height=\"24px\"viewBox=\"0 0 24 24\"\n",
              "       width=\"24px\">\n",
              "    <path d=\"M0 0h24v24H0V0z\" fill=\"none\"/>\n",
              "    <path d=\"M18.56 5.44l.94 2.06.94-2.06 2.06-.94-2.06-.94-.94-2.06-.94 2.06-2.06.94zm-11 1L8.5 8.5l.94-2.06 2.06-.94-2.06-.94L8.5 2.5l-.94 2.06-2.06.94zm10 10l.94 2.06.94-2.06 2.06-.94-2.06-.94-.94-2.06-.94 2.06-2.06.94z\"/><path d=\"M17.41 7.96l-1.37-1.37c-.4-.4-.92-.59-1.43-.59-.52 0-1.04.2-1.43.59L10.3 9.45l-7.72 7.72c-.78.78-.78 2.05 0 2.83L4 21.41c.39.39.9.59 1.41.59.51 0 1.02-.2 1.41-.59l7.78-7.78 2.81-2.81c.8-.78.8-2.07 0-2.86zM5.41 20L4 18.59l7.72-7.72 1.47 1.35L5.41 20z\"/>\n",
              "  </svg>\n",
              "      </button>\n",
              "      \n",
              "  <style>\n",
              "    .colab-df-container {\n",
              "      display:flex;\n",
              "      flex-wrap:wrap;\n",
              "      gap: 12px;\n",
              "    }\n",
              "\n",
              "    .colab-df-convert {\n",
              "      background-color: #E8F0FE;\n",
              "      border: none;\n",
              "      border-radius: 50%;\n",
              "      cursor: pointer;\n",
              "      display: none;\n",
              "      fill: #1967D2;\n",
              "      height: 32px;\n",
              "      padding: 0 0 0 0;\n",
              "      width: 32px;\n",
              "    }\n",
              "\n",
              "    .colab-df-convert:hover {\n",
              "      background-color: #E2EBFA;\n",
              "      box-shadow: 0px 1px 2px rgba(60, 64, 67, 0.3), 0px 1px 3px 1px rgba(60, 64, 67, 0.15);\n",
              "      fill: #174EA6;\n",
              "    }\n",
              "\n",
              "    [theme=dark] .colab-df-convert {\n",
              "      background-color: #3B4455;\n",
              "      fill: #D2E3FC;\n",
              "    }\n",
              "\n",
              "    [theme=dark] .colab-df-convert:hover {\n",
              "      background-color: #434B5C;\n",
              "      box-shadow: 0px 1px 3px 1px rgba(0, 0, 0, 0.15);\n",
              "      filter: drop-shadow(0px 1px 2px rgba(0, 0, 0, 0.3));\n",
              "      fill: #FFFFFF;\n",
              "    }\n",
              "  </style>\n",
              "\n",
              "      <script>\n",
              "        const buttonEl =\n",
              "          document.querySelector('#df-0c65555d-bb18-408d-beb4-1d3c785e1cf6 button.colab-df-convert');\n",
              "        buttonEl.style.display =\n",
              "          google.colab.kernel.accessAllowed ? 'block' : 'none';\n",
              "\n",
              "        async function convertToInteractive(key) {\n",
              "          const element = document.querySelector('#df-0c65555d-bb18-408d-beb4-1d3c785e1cf6');\n",
              "          const dataTable =\n",
              "            await google.colab.kernel.invokeFunction('convertToInteractive',\n",
              "                                                     [key], {});\n",
              "          if (!dataTable) return;\n",
              "\n",
              "          const docLinkHtml = 'Like what you see? Visit the ' +\n",
              "            '<a target=\"_blank\" href=https://colab.research.google.com/notebooks/data_table.ipynb>data table notebook</a>'\n",
              "            + ' to learn more about interactive tables.';\n",
              "          element.innerHTML = '';\n",
              "          dataTable['output_type'] = 'display_data';\n",
              "          await google.colab.output.renderOutput(dataTable, element);\n",
              "          const docLink = document.createElement('div');\n",
              "          docLink.innerHTML = docLinkHtml;\n",
              "          element.appendChild(docLink);\n",
              "        }\n",
              "      </script>\n",
              "    </div>\n",
              "  </div>\n",
              "  "
            ]
          },
          "metadata": {},
          "execution_count": 178
        }
      ]
    },
    {
      "cell_type": "code",
      "source": [
        "df_salario_teste.isna().sum()"
      ],
      "metadata": {
        "id": "6dVMto8zjy6y",
        "colab": {
          "base_uri": "https://localhost:8080/"
        },
        "outputId": "ae743754-0d2e-4a5a-f948-1c531d112389"
      },
      "execution_count": 179,
      "outputs": [
        {
          "output_type": "execute_result",
          "data": {
            "text/plain": [
              "compania           0\n",
              "profissao          0\n",
              "ganhoAnual         0\n",
              "location           0\n",
              "anosExperiencia    0\n",
              "temponaEmpresa     0\n",
              "salarioBase        0\n",
              "SGV                0\n",
              "bonus              0\n",
              "genero             0\n",
              "cityid             0\n",
              "dmaid              2\n",
              "raca               0\n",
              "educacao           0\n",
              "cidade             0\n",
              "estado             0\n",
              "pais               0\n",
              "dtype: int64"
            ]
          },
          "metadata": {},
          "execution_count": 179
        }
      ]
    },
    {
      "cell_type": "code",
      "source": [
        "df_salario_teste.groupby(['pais'])['salarioBase'].mean().sort_values(ascending = False)"
      ],
      "metadata": {
        "id": "_zc2_Yw44aJk",
        "colab": {
          "base_uri": "https://localhost:8080/"
        },
        "outputId": "7ff493ea-813c-4694-bb63-ce6bb1dd5cfb"
      },
      "execution_count": 180,
      "outputs": [
        {
          "output_type": "execute_result",
          "data": {
            "text/plain": [
              "pais\n",
              " Switzerland             164094.550747\n",
              "United States            153011.695380\n",
              " Marshall Islands        150000.000000\n",
              " United Arab Emirates    149471.836936\n",
              " Panama                  135000.000000\n",
              " Belgium                 133333.333333\n",
              " Philippines             127615.510808\n",
              " Denmark                 127181.818182\n",
              " Israel                  127037.841731\n",
              " Saudi Arabia            126250.000000\n",
              " Hong Kong (SAR)         117451.612903\n",
              " United States           113000.000000\n",
              " Australia               112334.631949\n",
              " United Kingdom          109282.281691\n",
              " Singapore               103464.402027\n",
              " Canada                  102827.567018\n",
              " New Zealand             102111.111111\n",
              " Netherlands Antilles    100000.000000\n",
              " Morocco                 100000.000000\n",
              " Iraq                    100000.000000\n",
              " Turkey                   99025.851347\n",
              " Netherlands              98690.529455\n",
              " Ireland                  96677.807793\n",
              " Japan                    96577.324324\n",
              " Norway                   95871.836936\n",
              " Luxembourg               95502.040896\n",
              " Germany                  93544.749202\n",
              " South Africa             93434.111003\n",
              " Finland                  92666.666667\n",
              " Austria                  92165.015440\n",
              " Sweden                   86759.694255\n",
              " France                   86745.339298\n",
              " Puerto Rico              85000.000000\n",
              "South Korea               84958.333333\n",
              " Estonia                  81666.666667\n",
              " Vietnam                  81038.777021\n",
              " China                    78676.204323\n",
              " Thailand                 74000.000000\n",
              " Uruguay                  73000.000000\n",
              " Chile                    71400.000000\n",
              " Ghana                    66000.000000\n",
              " Spain                    65901.551081\n",
              " Serbia                   61000.000000\n",
              " Costa Rica               60868.222006\n",
              " Italy                    60285.714286\n",
              " Belarus                  60011.633106\n",
              " Qatar                    60000.000000\n",
              " Bulgaria                 59500.000000\n",
              " Czech Republic           57676.222187\n",
              " Peru                     55666.666667\n",
              " Taiwan                   54964.743590\n",
              " Slovakia                 54200.000000\n",
              " Poland                   53725.969426\n",
              " Kenya                    52800.000000\n",
              " Brazil                   52676.938851\n",
              " Malaysia                 51400.000000\n",
              " Ukraine                  48419.354839\n",
              " Colombia                 48266.666667\n",
              " Lithuania                46000.000000\n",
              " Romania                  45500.000000\n",
              " India                    44146.837508\n",
              " Kazakhstan               42000.000000\n",
              " Hungary                  39615.419669\n",
              " Mexico                   39470.588235\n",
              " Russia                   39093.213720\n",
              " Latvia                   38333.333333\n",
              " Portugal                 37625.000000\n",
              " Argentina                36161.976528\n",
              " Indonesia                30272.213617\n",
              " Trinidad and Tobago      30000.000000\n",
              " Armenia                  30000.000000\n",
              " Moldova                  30000.000000\n",
              " Jordan                   29000.000000\n",
              " Yugoslavia               27000.000000\n",
              " Guatemala                25000.000000\n",
              " Pakistan                 20000.000000\n",
              " Nigeria                  16571.428571\n",
              " Bangladesh               10000.000000\n",
              " Egypt                    10000.000000\n",
              " Burma                    10000.000000\n",
              " Uzbekistan                9000.000000\n",
              "Name: salarioBase, dtype: float64"
            ]
          },
          "metadata": {},
          "execution_count": 180
        }
      ]
    },
    {
      "cell_type": "code",
      "source": [
        "df_salario_teste.drop(['location'], axis=1, inplace=True)"
      ],
      "metadata": {
        "id": "fD2XrThMSK9K"
      },
      "execution_count": 181,
      "outputs": []
    },
    {
      "cell_type": "code",
      "source": [
        "df_salario_teste['compania'] = df_salario_teste['compania'].str.upper()"
      ],
      "metadata": {
        "id": "Wv5vP_GnSWju"
      },
      "execution_count": 182,
      "outputs": []
    },
    {
      "cell_type": "code",
      "source": [
        "df_salario_teste.to_csv('Base_normalizada_Leves_Fyi_Salary.csv', index= False)"
      ],
      "metadata": {
        "id": "Y5M2qOF30DBk"
      },
      "execution_count": 183,
      "outputs": []
    },
    {
      "cell_type": "markdown",
      "source": [
        "# Etapa de Manipulação e Plotagem \n"
      ],
      "metadata": {
        "id": "3q1R1c8Sk3jH"
      }
    },
    {
      "cell_type": "markdown",
      "source": [
        "Após normalizada Base, foi criado um novo dataFrame somente com o objetivo de manipulação e plotagem dos dados"
      ],
      "metadata": {
        "id": "EqdYwVvnzDyW"
      }
    },
    {
      "cell_type": "code",
      "source": [
        "import pandas as pd\n",
        "\n",
        "df_novo = pd.read_csv('/content/Base_normalizada_Leves_Fyi_Salary.csv')\n",
        "df_novo.head()"
      ],
      "metadata": {
        "colab": {
          "base_uri": "https://localhost:8080/",
          "height": 250
        },
        "id": "82RwhGL9jJBn",
        "outputId": "fe852221-ef5f-4d94-c470-f567215f2739"
      },
      "execution_count": 189,
      "outputs": [
        {
          "output_type": "execute_result",
          "data": {
            "text/plain": [
              "    compania                     profissao  ganhoAnual  anosExperiencia  \\\n",
              "0     ORACLE               Product Manager      127000              1.5   \n",
              "1       EBAY             Software Engineer      100000              5.0   \n",
              "2     AMAZON               Product Manager      310000              8.0   \n",
              "3      APPLE  Software Engineering Manager      372000              7.0   \n",
              "4  MICROSOFT             Software Engineer      157000              5.0   \n",
              "\n",
              "   temponaEmpresa    salarioBase       SGV    bonus         genero  cityid  \\\n",
              "0             1.5  107000.000000   20000.0  10000.0  Não informado    7392   \n",
              "1             3.0  139077.554041       0.0      0.0  Não informado    7419   \n",
              "2             0.0  155000.000000       0.0      0.0  Não informado   11527   \n",
              "3             5.0  157000.000000  180000.0  35000.0  Não informado    7472   \n",
              "4             3.0  139077.554041       0.0      0.0  Não informado    7322   \n",
              "\n",
              "   dmaid           raca       educacao         cidade estado           pais  \n",
              "0  807.0  Não informado  Não informado   Redwood City     CA  United States  \n",
              "1  807.0  Não informado  Não informado  San Francisco     CA  United States  \n",
              "2  819.0  Não informado  Não informado        Seattle     WA  United States  \n",
              "3  807.0  Não informado  Não informado      Sunnyvale     CA  United States  \n",
              "4  807.0  Não informado  Não informado  Mountain View     CA  United States  "
            ],
            "text/html": [
              "\n",
              "  <div id=\"df-7bd625fd-35f5-4cca-9834-440c9c5ede18\">\n",
              "    <div class=\"colab-df-container\">\n",
              "      <div>\n",
              "<style scoped>\n",
              "    .dataframe tbody tr th:only-of-type {\n",
              "        vertical-align: middle;\n",
              "    }\n",
              "\n",
              "    .dataframe tbody tr th {\n",
              "        vertical-align: top;\n",
              "    }\n",
              "\n",
              "    .dataframe thead th {\n",
              "        text-align: right;\n",
              "    }\n",
              "</style>\n",
              "<table border=\"1\" class=\"dataframe\">\n",
              "  <thead>\n",
              "    <tr style=\"text-align: right;\">\n",
              "      <th></th>\n",
              "      <th>compania</th>\n",
              "      <th>profissao</th>\n",
              "      <th>ganhoAnual</th>\n",
              "      <th>anosExperiencia</th>\n",
              "      <th>temponaEmpresa</th>\n",
              "      <th>salarioBase</th>\n",
              "      <th>SGV</th>\n",
              "      <th>bonus</th>\n",
              "      <th>genero</th>\n",
              "      <th>cityid</th>\n",
              "      <th>dmaid</th>\n",
              "      <th>raca</th>\n",
              "      <th>educacao</th>\n",
              "      <th>cidade</th>\n",
              "      <th>estado</th>\n",
              "      <th>pais</th>\n",
              "    </tr>\n",
              "  </thead>\n",
              "  <tbody>\n",
              "    <tr>\n",
              "      <th>0</th>\n",
              "      <td>ORACLE</td>\n",
              "      <td>Product Manager</td>\n",
              "      <td>127000</td>\n",
              "      <td>1.5</td>\n",
              "      <td>1.5</td>\n",
              "      <td>107000.000000</td>\n",
              "      <td>20000.0</td>\n",
              "      <td>10000.0</td>\n",
              "      <td>Não informado</td>\n",
              "      <td>7392</td>\n",
              "      <td>807.0</td>\n",
              "      <td>Não informado</td>\n",
              "      <td>Não informado</td>\n",
              "      <td>Redwood City</td>\n",
              "      <td>CA</td>\n",
              "      <td>United States</td>\n",
              "    </tr>\n",
              "    <tr>\n",
              "      <th>1</th>\n",
              "      <td>EBAY</td>\n",
              "      <td>Software Engineer</td>\n",
              "      <td>100000</td>\n",
              "      <td>5.0</td>\n",
              "      <td>3.0</td>\n",
              "      <td>139077.554041</td>\n",
              "      <td>0.0</td>\n",
              "      <td>0.0</td>\n",
              "      <td>Não informado</td>\n",
              "      <td>7419</td>\n",
              "      <td>807.0</td>\n",
              "      <td>Não informado</td>\n",
              "      <td>Não informado</td>\n",
              "      <td>San Francisco</td>\n",
              "      <td>CA</td>\n",
              "      <td>United States</td>\n",
              "    </tr>\n",
              "    <tr>\n",
              "      <th>2</th>\n",
              "      <td>AMAZON</td>\n",
              "      <td>Product Manager</td>\n",
              "      <td>310000</td>\n",
              "      <td>8.0</td>\n",
              "      <td>0.0</td>\n",
              "      <td>155000.000000</td>\n",
              "      <td>0.0</td>\n",
              "      <td>0.0</td>\n",
              "      <td>Não informado</td>\n",
              "      <td>11527</td>\n",
              "      <td>819.0</td>\n",
              "      <td>Não informado</td>\n",
              "      <td>Não informado</td>\n",
              "      <td>Seattle</td>\n",
              "      <td>WA</td>\n",
              "      <td>United States</td>\n",
              "    </tr>\n",
              "    <tr>\n",
              "      <th>3</th>\n",
              "      <td>APPLE</td>\n",
              "      <td>Software Engineering Manager</td>\n",
              "      <td>372000</td>\n",
              "      <td>7.0</td>\n",
              "      <td>5.0</td>\n",
              "      <td>157000.000000</td>\n",
              "      <td>180000.0</td>\n",
              "      <td>35000.0</td>\n",
              "      <td>Não informado</td>\n",
              "      <td>7472</td>\n",
              "      <td>807.0</td>\n",
              "      <td>Não informado</td>\n",
              "      <td>Não informado</td>\n",
              "      <td>Sunnyvale</td>\n",
              "      <td>CA</td>\n",
              "      <td>United States</td>\n",
              "    </tr>\n",
              "    <tr>\n",
              "      <th>4</th>\n",
              "      <td>MICROSOFT</td>\n",
              "      <td>Software Engineer</td>\n",
              "      <td>157000</td>\n",
              "      <td>5.0</td>\n",
              "      <td>3.0</td>\n",
              "      <td>139077.554041</td>\n",
              "      <td>0.0</td>\n",
              "      <td>0.0</td>\n",
              "      <td>Não informado</td>\n",
              "      <td>7322</td>\n",
              "      <td>807.0</td>\n",
              "      <td>Não informado</td>\n",
              "      <td>Não informado</td>\n",
              "      <td>Mountain View</td>\n",
              "      <td>CA</td>\n",
              "      <td>United States</td>\n",
              "    </tr>\n",
              "  </tbody>\n",
              "</table>\n",
              "</div>\n",
              "      <button class=\"colab-df-convert\" onclick=\"convertToInteractive('df-7bd625fd-35f5-4cca-9834-440c9c5ede18')\"\n",
              "              title=\"Convert this dataframe to an interactive table.\"\n",
              "              style=\"display:none;\">\n",
              "        \n",
              "  <svg xmlns=\"http://www.w3.org/2000/svg\" height=\"24px\"viewBox=\"0 0 24 24\"\n",
              "       width=\"24px\">\n",
              "    <path d=\"M0 0h24v24H0V0z\" fill=\"none\"/>\n",
              "    <path d=\"M18.56 5.44l.94 2.06.94-2.06 2.06-.94-2.06-.94-.94-2.06-.94 2.06-2.06.94zm-11 1L8.5 8.5l.94-2.06 2.06-.94-2.06-.94L8.5 2.5l-.94 2.06-2.06.94zm10 10l.94 2.06.94-2.06 2.06-.94-2.06-.94-.94-2.06-.94 2.06-2.06.94z\"/><path d=\"M17.41 7.96l-1.37-1.37c-.4-.4-.92-.59-1.43-.59-.52 0-1.04.2-1.43.59L10.3 9.45l-7.72 7.72c-.78.78-.78 2.05 0 2.83L4 21.41c.39.39.9.59 1.41.59.51 0 1.02-.2 1.41-.59l7.78-7.78 2.81-2.81c.8-.78.8-2.07 0-2.86zM5.41 20L4 18.59l7.72-7.72 1.47 1.35L5.41 20z\"/>\n",
              "  </svg>\n",
              "      </button>\n",
              "      \n",
              "  <style>\n",
              "    .colab-df-container {\n",
              "      display:flex;\n",
              "      flex-wrap:wrap;\n",
              "      gap: 12px;\n",
              "    }\n",
              "\n",
              "    .colab-df-convert {\n",
              "      background-color: #E8F0FE;\n",
              "      border: none;\n",
              "      border-radius: 50%;\n",
              "      cursor: pointer;\n",
              "      display: none;\n",
              "      fill: #1967D2;\n",
              "      height: 32px;\n",
              "      padding: 0 0 0 0;\n",
              "      width: 32px;\n",
              "    }\n",
              "\n",
              "    .colab-df-convert:hover {\n",
              "      background-color: #E2EBFA;\n",
              "      box-shadow: 0px 1px 2px rgba(60, 64, 67, 0.3), 0px 1px 3px 1px rgba(60, 64, 67, 0.15);\n",
              "      fill: #174EA6;\n",
              "    }\n",
              "\n",
              "    [theme=dark] .colab-df-convert {\n",
              "      background-color: #3B4455;\n",
              "      fill: #D2E3FC;\n",
              "    }\n",
              "\n",
              "    [theme=dark] .colab-df-convert:hover {\n",
              "      background-color: #434B5C;\n",
              "      box-shadow: 0px 1px 3px 1px rgba(0, 0, 0, 0.15);\n",
              "      filter: drop-shadow(0px 1px 2px rgba(0, 0, 0, 0.3));\n",
              "      fill: #FFFFFF;\n",
              "    }\n",
              "  </style>\n",
              "\n",
              "      <script>\n",
              "        const buttonEl =\n",
              "          document.querySelector('#df-7bd625fd-35f5-4cca-9834-440c9c5ede18 button.colab-df-convert');\n",
              "        buttonEl.style.display =\n",
              "          google.colab.kernel.accessAllowed ? 'block' : 'none';\n",
              "\n",
              "        async function convertToInteractive(key) {\n",
              "          const element = document.querySelector('#df-7bd625fd-35f5-4cca-9834-440c9c5ede18');\n",
              "          const dataTable =\n",
              "            await google.colab.kernel.invokeFunction('convertToInteractive',\n",
              "                                                     [key], {});\n",
              "          if (!dataTable) return;\n",
              "\n",
              "          const docLinkHtml = 'Like what you see? Visit the ' +\n",
              "            '<a target=\"_blank\" href=https://colab.research.google.com/notebooks/data_table.ipynb>data table notebook</a>'\n",
              "            + ' to learn more about interactive tables.';\n",
              "          element.innerHTML = '';\n",
              "          dataTable['output_type'] = 'display_data';\n",
              "          await google.colab.output.renderOutput(dataTable, element);\n",
              "          const docLink = document.createElement('div');\n",
              "          docLink.innerHTML = docLinkHtml;\n",
              "          element.appendChild(docLink);\n",
              "        }\n",
              "      </script>\n",
              "    </div>\n",
              "  </div>\n",
              "  "
            ]
          },
          "metadata": {},
          "execution_count": 189
        }
      ]
    },
    {
      "cell_type": "markdown",
      "source": [
        "Nova Matrix de Correlação Feita, para verificarmos quais colunas e tabela se correlacionam da melhor forma."
      ],
      "metadata": {
        "id": "jzxprLE5z84r"
      }
    },
    {
      "cell_type": "code",
      "source": [
        "df_novo.corr()"
      ],
      "metadata": {
        "id": "6EX-ggPik5Y5",
        "colab": {
          "base_uri": "https://localhost:8080/",
          "height": 300
        },
        "outputId": "f1f08db2-f16c-40ab-fc22-f283c484420b"
      },
      "execution_count": 190,
      "outputs": [
        {
          "output_type": "execute_result",
          "data": {
            "text/plain": [
              "                 ganhoAnual  anosExperiencia  temponaEmpresa  salarioBase  \\\n",
              "ganhoAnual         1.000000         0.422879        0.165802     0.757436   \n",
              "anosExperiencia    0.422879         1.000000        0.522611     0.422867   \n",
              "temponaEmpresa     0.165802         0.522611        1.000000     0.178412   \n",
              "salarioBase        0.757436         0.422867        0.178412     1.000000   \n",
              "SGV                0.770756         0.289631        0.089492     0.461966   \n",
              "bonus              0.489454         0.261051        0.108122     0.371305   \n",
              "cityid            -0.110204        -0.014100        0.002984    -0.137968   \n",
              "dmaid              0.376346         0.030903        0.043946     0.491377   \n",
              "\n",
              "                      SGV     bonus    cityid     dmaid  \n",
              "ganhoAnual       0.770756  0.489454 -0.110204  0.376346  \n",
              "anosExperiencia  0.289631  0.261051 -0.014100  0.030903  \n",
              "temponaEmpresa   0.089492  0.108122  0.002984  0.043946  \n",
              "salarioBase      0.461966  0.371305 -0.137968  0.491377  \n",
              "SGV              1.000000  0.248151 -0.072429  0.227608  \n",
              "bonus            0.248151  1.000000 -0.036119  0.143506  \n",
              "cityid          -0.072429 -0.036119  1.000000 -0.104870  \n",
              "dmaid            0.227608  0.143506 -0.104870  1.000000  "
            ],
            "text/html": [
              "\n",
              "  <div id=\"df-cbbfa522-7c92-4ece-bcc9-5dfc78c0f11a\">\n",
              "    <div class=\"colab-df-container\">\n",
              "      <div>\n",
              "<style scoped>\n",
              "    .dataframe tbody tr th:only-of-type {\n",
              "        vertical-align: middle;\n",
              "    }\n",
              "\n",
              "    .dataframe tbody tr th {\n",
              "        vertical-align: top;\n",
              "    }\n",
              "\n",
              "    .dataframe thead th {\n",
              "        text-align: right;\n",
              "    }\n",
              "</style>\n",
              "<table border=\"1\" class=\"dataframe\">\n",
              "  <thead>\n",
              "    <tr style=\"text-align: right;\">\n",
              "      <th></th>\n",
              "      <th>ganhoAnual</th>\n",
              "      <th>anosExperiencia</th>\n",
              "      <th>temponaEmpresa</th>\n",
              "      <th>salarioBase</th>\n",
              "      <th>SGV</th>\n",
              "      <th>bonus</th>\n",
              "      <th>cityid</th>\n",
              "      <th>dmaid</th>\n",
              "    </tr>\n",
              "  </thead>\n",
              "  <tbody>\n",
              "    <tr>\n",
              "      <th>ganhoAnual</th>\n",
              "      <td>1.000000</td>\n",
              "      <td>0.422879</td>\n",
              "      <td>0.165802</td>\n",
              "      <td>0.757436</td>\n",
              "      <td>0.770756</td>\n",
              "      <td>0.489454</td>\n",
              "      <td>-0.110204</td>\n",
              "      <td>0.376346</td>\n",
              "    </tr>\n",
              "    <tr>\n",
              "      <th>anosExperiencia</th>\n",
              "      <td>0.422879</td>\n",
              "      <td>1.000000</td>\n",
              "      <td>0.522611</td>\n",
              "      <td>0.422867</td>\n",
              "      <td>0.289631</td>\n",
              "      <td>0.261051</td>\n",
              "      <td>-0.014100</td>\n",
              "      <td>0.030903</td>\n",
              "    </tr>\n",
              "    <tr>\n",
              "      <th>temponaEmpresa</th>\n",
              "      <td>0.165802</td>\n",
              "      <td>0.522611</td>\n",
              "      <td>1.000000</td>\n",
              "      <td>0.178412</td>\n",
              "      <td>0.089492</td>\n",
              "      <td>0.108122</td>\n",
              "      <td>0.002984</td>\n",
              "      <td>0.043946</td>\n",
              "    </tr>\n",
              "    <tr>\n",
              "      <th>salarioBase</th>\n",
              "      <td>0.757436</td>\n",
              "      <td>0.422867</td>\n",
              "      <td>0.178412</td>\n",
              "      <td>1.000000</td>\n",
              "      <td>0.461966</td>\n",
              "      <td>0.371305</td>\n",
              "      <td>-0.137968</td>\n",
              "      <td>0.491377</td>\n",
              "    </tr>\n",
              "    <tr>\n",
              "      <th>SGV</th>\n",
              "      <td>0.770756</td>\n",
              "      <td>0.289631</td>\n",
              "      <td>0.089492</td>\n",
              "      <td>0.461966</td>\n",
              "      <td>1.000000</td>\n",
              "      <td>0.248151</td>\n",
              "      <td>-0.072429</td>\n",
              "      <td>0.227608</td>\n",
              "    </tr>\n",
              "    <tr>\n",
              "      <th>bonus</th>\n",
              "      <td>0.489454</td>\n",
              "      <td>0.261051</td>\n",
              "      <td>0.108122</td>\n",
              "      <td>0.371305</td>\n",
              "      <td>0.248151</td>\n",
              "      <td>1.000000</td>\n",
              "      <td>-0.036119</td>\n",
              "      <td>0.143506</td>\n",
              "    </tr>\n",
              "    <tr>\n",
              "      <th>cityid</th>\n",
              "      <td>-0.110204</td>\n",
              "      <td>-0.014100</td>\n",
              "      <td>0.002984</td>\n",
              "      <td>-0.137968</td>\n",
              "      <td>-0.072429</td>\n",
              "      <td>-0.036119</td>\n",
              "      <td>1.000000</td>\n",
              "      <td>-0.104870</td>\n",
              "    </tr>\n",
              "    <tr>\n",
              "      <th>dmaid</th>\n",
              "      <td>0.376346</td>\n",
              "      <td>0.030903</td>\n",
              "      <td>0.043946</td>\n",
              "      <td>0.491377</td>\n",
              "      <td>0.227608</td>\n",
              "      <td>0.143506</td>\n",
              "      <td>-0.104870</td>\n",
              "      <td>1.000000</td>\n",
              "    </tr>\n",
              "  </tbody>\n",
              "</table>\n",
              "</div>\n",
              "      <button class=\"colab-df-convert\" onclick=\"convertToInteractive('df-cbbfa522-7c92-4ece-bcc9-5dfc78c0f11a')\"\n",
              "              title=\"Convert this dataframe to an interactive table.\"\n",
              "              style=\"display:none;\">\n",
              "        \n",
              "  <svg xmlns=\"http://www.w3.org/2000/svg\" height=\"24px\"viewBox=\"0 0 24 24\"\n",
              "       width=\"24px\">\n",
              "    <path d=\"M0 0h24v24H0V0z\" fill=\"none\"/>\n",
              "    <path d=\"M18.56 5.44l.94 2.06.94-2.06 2.06-.94-2.06-.94-.94-2.06-.94 2.06-2.06.94zm-11 1L8.5 8.5l.94-2.06 2.06-.94-2.06-.94L8.5 2.5l-.94 2.06-2.06.94zm10 10l.94 2.06.94-2.06 2.06-.94-2.06-.94-.94-2.06-.94 2.06-2.06.94z\"/><path d=\"M17.41 7.96l-1.37-1.37c-.4-.4-.92-.59-1.43-.59-.52 0-1.04.2-1.43.59L10.3 9.45l-7.72 7.72c-.78.78-.78 2.05 0 2.83L4 21.41c.39.39.9.59 1.41.59.51 0 1.02-.2 1.41-.59l7.78-7.78 2.81-2.81c.8-.78.8-2.07 0-2.86zM5.41 20L4 18.59l7.72-7.72 1.47 1.35L5.41 20z\"/>\n",
              "  </svg>\n",
              "      </button>\n",
              "      \n",
              "  <style>\n",
              "    .colab-df-container {\n",
              "      display:flex;\n",
              "      flex-wrap:wrap;\n",
              "      gap: 12px;\n",
              "    }\n",
              "\n",
              "    .colab-df-convert {\n",
              "      background-color: #E8F0FE;\n",
              "      border: none;\n",
              "      border-radius: 50%;\n",
              "      cursor: pointer;\n",
              "      display: none;\n",
              "      fill: #1967D2;\n",
              "      height: 32px;\n",
              "      padding: 0 0 0 0;\n",
              "      width: 32px;\n",
              "    }\n",
              "\n",
              "    .colab-df-convert:hover {\n",
              "      background-color: #E2EBFA;\n",
              "      box-shadow: 0px 1px 2px rgba(60, 64, 67, 0.3), 0px 1px 3px 1px rgba(60, 64, 67, 0.15);\n",
              "      fill: #174EA6;\n",
              "    }\n",
              "\n",
              "    [theme=dark] .colab-df-convert {\n",
              "      background-color: #3B4455;\n",
              "      fill: #D2E3FC;\n",
              "    }\n",
              "\n",
              "    [theme=dark] .colab-df-convert:hover {\n",
              "      background-color: #434B5C;\n",
              "      box-shadow: 0px 1px 3px 1px rgba(0, 0, 0, 0.15);\n",
              "      filter: drop-shadow(0px 1px 2px rgba(0, 0, 0, 0.3));\n",
              "      fill: #FFFFFF;\n",
              "    }\n",
              "  </style>\n",
              "\n",
              "      <script>\n",
              "        const buttonEl =\n",
              "          document.querySelector('#df-cbbfa522-7c92-4ece-bcc9-5dfc78c0f11a button.colab-df-convert');\n",
              "        buttonEl.style.display =\n",
              "          google.colab.kernel.accessAllowed ? 'block' : 'none';\n",
              "\n",
              "        async function convertToInteractive(key) {\n",
              "          const element = document.querySelector('#df-cbbfa522-7c92-4ece-bcc9-5dfc78c0f11a');\n",
              "          const dataTable =\n",
              "            await google.colab.kernel.invokeFunction('convertToInteractive',\n",
              "                                                     [key], {});\n",
              "          if (!dataTable) return;\n",
              "\n",
              "          const docLinkHtml = 'Like what you see? Visit the ' +\n",
              "            '<a target=\"_blank\" href=https://colab.research.google.com/notebooks/data_table.ipynb>data table notebook</a>'\n",
              "            + ' to learn more about interactive tables.';\n",
              "          element.innerHTML = '';\n",
              "          dataTable['output_type'] = 'display_data';\n",
              "          await google.colab.output.renderOutput(dataTable, element);\n",
              "          const docLink = document.createElement('div');\n",
              "          docLink.innerHTML = docLinkHtml;\n",
              "          element.appendChild(docLink);\n",
              "        }\n",
              "      </script>\n",
              "    </div>\n",
              "  </div>\n",
              "  "
            ]
          },
          "metadata": {},
          "execution_count": 190
        }
      ]
    },
    {
      "cell_type": "markdown",
      "source": [
        "Definido em uma variavel as calunas tempo na empresa e salarioBase para verificarmos qual o compartamento, se quanto mais tempo na empresa maior seriam os salarios, para tal verificação utilizamos a media "
      ],
      "metadata": {
        "id": "62P7GN2b1MH9"
      }
    },
    {
      "cell_type": "code",
      "source": [
        "dg = df_novo.groupby(\"temponaEmpresa\")['salarioBase'].mean()"
      ],
      "metadata": {
        "id": "AbyYqI6FjYLv"
      },
      "execution_count": 191,
      "outputs": []
    },
    {
      "cell_type": "code",
      "source": [
        "dg.plot()"
      ],
      "metadata": {
        "id": "noH2ONJbjYJN",
        "colab": {
          "base_uri": "https://localhost:8080/",
          "height": 297
        },
        "outputId": "0719dffd-e52b-4a9e-9893-827d46ef03f6"
      },
      "execution_count": 192,
      "outputs": [
        {
          "output_type": "execute_result",
          "data": {
            "text/plain": [
              "<matplotlib.axes._subplots.AxesSubplot at 0x7f90e8bc1340>"
            ]
          },
          "metadata": {},
          "execution_count": 192
        },
        {
          "output_type": "display_data",
          "data": {
            "text/plain": [
              "<Figure size 432x288 with 1 Axes>"
            ],
            "image/png": "[encoded data removed]"
          },
          "metadata": {
            "needs_background": "light"
          }
        }
      ]
    },
    {
      "cell_type": "markdown",
      "source": [
        "Podemos verificar que profissionais com ate 10 anos de empresa, acabam tendo muita variação de salario principalmente ao ingressar na empresa, apos 10 anos temos uma \"normalização\" e um pico entre os 20 a 30 anos.\n",
        "\n",
        "Isso se da muito provavelmente pela area em questão pois a area de tecnologia é uma area muito volatil onde trabalhadores acabam traocando de empresa de uma forma muito rapida"
      ],
      "metadata": {
        "id": "x5PGqYtG2EBA"
      }
    },
    {
      "cell_type": "markdown",
      "source": [
        "Filtro feito para pegarmos somente as linhas que foram realmente informadas pelo usario na coluna raca"
      ],
      "metadata": {
        "id": "ema7KetQ2jgT"
      }
    },
    {
      "cell_type": "code",
      "source": [
        "dfiltrado_race = df_novo.loc[df_novo['raca'] != 'Não informado']\n",
        "dfiltrado_race.head()"
      ],
      "metadata": {
        "id": "qVRHnLBljYHM",
        "colab": {
          "base_uri": "https://localhost:8080/",
          "height": 206
        },
        "outputId": "5033fa6c-5fd8-40cf-927f-db367950bbc7"
      },
      "execution_count": 193,
      "outputs": [
        {
          "output_type": "execute_result",
          "data": {
            "text/plain": [
              "       compania                     profissao  ganhoAnual  anosExperiencia  \\\n",
              "6921   FACEBOOK              Product Designer      310000              7.0   \n",
              "8366      INTEL             Hardware Engineer      200000             14.0   \n",
              "10937   COMCAST             Software Engineer      103000              2.0   \n",
              "11997     LATCH  Software Engineering Manager      170000              6.0   \n",
              "14429    INTUIT             Software Engineer      134000              1.0   \n",
              "\n",
              "       temponaEmpresa  salarioBase       SGV    bonus  genero  cityid  dmaid  \\\n",
              "6921              2.0     165000.0  120000.0  25000.0  Female    7300  807.0   \n",
              "8366              3.0     163000.0   10000.0  27000.0  Female    7434  807.0   \n",
              "10937             1.0      96000.0    2000.0   5000.0    Male   10646  504.0   \n",
              "11997             2.0     170000.0       0.0      0.0    Male   10182  501.0   \n",
              "14429             1.0     110000.0   13000.0  11000.0    Male    7322  807.0   \n",
              "\n",
              "        raca       educacao         cidade estado           pais  \n",
              "6921   White  Não informado     Menlo Park     CA  United States  \n",
              "8366   Asian  Não informado    Santa Clara     CA  United States  \n",
              "10937  Black  Não informado   Philadelphia     PA  United States  \n",
              "11997  Asian  Não informado       New York     NY  United States  \n",
              "14429  Asian  Não informado  Mountain View     CA  United States  "
            ],
            "text/html": [
              "\n",
              "  <div id=\"df-de46bf72-16fa-4163-a48d-705f0ba57276\">\n",
              "    <div class=\"colab-df-container\">\n",
              "      <div>\n",
              "<style scoped>\n",
              "    .dataframe tbody tr th:only-of-type {\n",
              "        vertical-align: middle;\n",
              "    }\n",
              "\n",
              "    .dataframe tbody tr th {\n",
              "        vertical-align: top;\n",
              "    }\n",
              "\n",
              "    .dataframe thead th {\n",
              "        text-align: right;\n",
              "    }\n",
              "</style>\n",
              "<table border=\"1\" class=\"dataframe\">\n",
              "  <thead>\n",
              "    <tr style=\"text-align: right;\">\n",
              "      <th></th>\n",
              "      <th>compania</th>\n",
              "      <th>profissao</th>\n",
              "      <th>ganhoAnual</th>\n",
              "      <th>anosExperiencia</th>\n",
              "      <th>temponaEmpresa</th>\n",
              "      <th>salarioBase</th>\n",
              "      <th>SGV</th>\n",
              "      <th>bonus</th>\n",
              "      <th>genero</th>\n",
              "      <th>cityid</th>\n",
              "      <th>dmaid</th>\n",
              "      <th>raca</th>\n",
              "      <th>educacao</th>\n",
              "      <th>cidade</th>\n",
              "      <th>estado</th>\n",
              "      <th>pais</th>\n",
              "    </tr>\n",
              "  </thead>\n",
              "  <tbody>\n",
              "    <tr>\n",
              "      <th>6921</th>\n",
              "      <td>FACEBOOK</td>\n",
              "      <td>Product Designer</td>\n",
              "      <td>310000</td>\n",
              "      <td>7.0</td>\n",
              "      <td>2.0</td>\n",
              "      <td>165000.0</td>\n",
              "      <td>120000.0</td>\n",
              "      <td>25000.0</td>\n",
              "      <td>Female</td>\n",
              "      <td>7300</td>\n",
              "      <td>807.0</td>\n",
              "      <td>White</td>\n",
              "      <td>Não informado</td>\n",
              "      <td>Menlo Park</td>\n",
              "      <td>CA</td>\n",
              "      <td>United States</td>\n",
              "    </tr>\n",
              "    <tr>\n",
              "      <th>8366</th>\n",
              "      <td>INTEL</td>\n",
              "      <td>Hardware Engineer</td>\n",
              "      <td>200000</td>\n",
              "      <td>14.0</td>\n",
              "      <td>3.0</td>\n",
              "      <td>163000.0</td>\n",
              "      <td>10000.0</td>\n",
              "      <td>27000.0</td>\n",
              "      <td>Female</td>\n",
              "      <td>7434</td>\n",
              "      <td>807.0</td>\n",
              "      <td>Asian</td>\n",
              "      <td>Não informado</td>\n",
              "      <td>Santa Clara</td>\n",
              "      <td>CA</td>\n",
              "      <td>United States</td>\n",
              "    </tr>\n",
              "    <tr>\n",
              "      <th>10937</th>\n",
              "      <td>COMCAST</td>\n",
              "      <td>Software Engineer</td>\n",
              "      <td>103000</td>\n",
              "      <td>2.0</td>\n",
              "      <td>1.0</td>\n",
              "      <td>96000.0</td>\n",
              "      <td>2000.0</td>\n",
              "      <td>5000.0</td>\n",
              "      <td>Male</td>\n",
              "      <td>10646</td>\n",
              "      <td>504.0</td>\n",
              "      <td>Black</td>\n",
              "      <td>Não informado</td>\n",
              "      <td>Philadelphia</td>\n",
              "      <td>PA</td>\n",
              "      <td>United States</td>\n",
              "    </tr>\n",
              "    <tr>\n",
              "      <th>11997</th>\n",
              "      <td>LATCH</td>\n",
              "      <td>Software Engineering Manager</td>\n",
              "      <td>170000</td>\n",
              "      <td>6.0</td>\n",
              "      <td>2.0</td>\n",
              "      <td>170000.0</td>\n",
              "      <td>0.0</td>\n",
              "      <td>0.0</td>\n",
              "      <td>Male</td>\n",
              "      <td>10182</td>\n",
              "      <td>501.0</td>\n",
              "      <td>Asian</td>\n",
              "      <td>Não informado</td>\n",
              "      <td>New York</td>\n",
              "      <td>NY</td>\n",
              "      <td>United States</td>\n",
              "    </tr>\n",
              "    <tr>\n",
              "      <th>14429</th>\n",
              "      <td>INTUIT</td>\n",
              "      <td>Software Engineer</td>\n",
              "      <td>134000</td>\n",
              "      <td>1.0</td>\n",
              "      <td>1.0</td>\n",
              "      <td>110000.0</td>\n",
              "      <td>13000.0</td>\n",
              "      <td>11000.0</td>\n",
              "      <td>Male</td>\n",
              "      <td>7322</td>\n",
              "      <td>807.0</td>\n",
              "      <td>Asian</td>\n",
              "      <td>Não informado</td>\n",
              "      <td>Mountain View</td>\n",
              "      <td>CA</td>\n",
              "      <td>United States</td>\n",
              "    </tr>\n",
              "  </tbody>\n",
              "</table>\n",
              "</div>\n",
              "      <button class=\"colab-df-convert\" onclick=\"convertToInteractive('df-de46bf72-16fa-4163-a48d-705f0ba57276')\"\n",
              "              title=\"Convert this dataframe to an interactive table.\"\n",
              "              style=\"display:none;\">\n",
              "        \n",
              "  <svg xmlns=\"http://www.w3.org/2000/svg\" height=\"24px\"viewBox=\"0 0 24 24\"\n",
              "       width=\"24px\">\n",
              "    <path d=\"M0 0h24v24H0V0z\" fill=\"none\"/>\n",
              "    <path d=\"M18.56 5.44l.94 2.06.94-2.06 2.06-.94-2.06-.94-.94-2.06-.94 2.06-2.06.94zm-11 1L8.5 8.5l.94-2.06 2.06-.94-2.06-.94L8.5 2.5l-.94 2.06-2.06.94zm10 10l.94 2.06.94-2.06 2.06-.94-2.06-.94-.94-2.06-.94 2.06-2.06.94z\"/><path d=\"M17.41 7.96l-1.37-1.37c-.4-.4-.92-.59-1.43-.59-.52 0-1.04.2-1.43.59L10.3 9.45l-7.72 7.72c-.78.78-.78 2.05 0 2.83L4 21.41c.39.39.9.59 1.41.59.51 0 1.02-.2 1.41-.59l7.78-7.78 2.81-2.81c.8-.78.8-2.07 0-2.86zM5.41 20L4 18.59l7.72-7.72 1.47 1.35L5.41 20z\"/>\n",
              "  </svg>\n",
              "      </button>\n",
              "      \n",
              "  <style>\n",
              "    .colab-df-container {\n",
              "      display:flex;\n",
              "      flex-wrap:wrap;\n",
              "      gap: 12px;\n",
              "    }\n",
              "\n",
              "    .colab-df-convert {\n",
              "      background-color: #E8F0FE;\n",
              "      border: none;\n",
              "      border-radius: 50%;\n",
              "      cursor: pointer;\n",
              "      display: none;\n",
              "      fill: #1967D2;\n",
              "      height: 32px;\n",
              "      padding: 0 0 0 0;\n",
              "      width: 32px;\n",
              "    }\n",
              "\n",
              "    .colab-df-convert:hover {\n",
              "      background-color: #E2EBFA;\n",
              "      box-shadow: 0px 1px 2px rgba(60, 64, 67, 0.3), 0px 1px 3px 1px rgba(60, 64, 67, 0.15);\n",
              "      fill: #174EA6;\n",
              "    }\n",
              "\n",
              "    [theme=dark] .colab-df-convert {\n",
              "      background-color: #3B4455;\n",
              "      fill: #D2E3FC;\n",
              "    }\n",
              "\n",
              "    [theme=dark] .colab-df-convert:hover {\n",
              "      background-color: #434B5C;\n",
              "      box-shadow: 0px 1px 3px 1px rgba(0, 0, 0, 0.15);\n",
              "      filter: drop-shadow(0px 1px 2px rgba(0, 0, 0, 0.3));\n",
              "      fill: #FFFFFF;\n",
              "    }\n",
              "  </style>\n",
              "\n",
              "      <script>\n",
              "        const buttonEl =\n",
              "          document.querySelector('#df-de46bf72-16fa-4163-a48d-705f0ba57276 button.colab-df-convert');\n",
              "        buttonEl.style.display =\n",
              "          google.colab.kernel.accessAllowed ? 'block' : 'none';\n",
              "\n",
              "        async function convertToInteractive(key) {\n",
              "          const element = document.querySelector('#df-de46bf72-16fa-4163-a48d-705f0ba57276');\n",
              "          const dataTable =\n",
              "            await google.colab.kernel.invokeFunction('convertToInteractive',\n",
              "                                                     [key], {});\n",
              "          if (!dataTable) return;\n",
              "\n",
              "          const docLinkHtml = 'Like what you see? Visit the ' +\n",
              "            '<a target=\"_blank\" href=https://colab.research.google.com/notebooks/data_table.ipynb>data table notebook</a>'\n",
              "            + ' to learn more about interactive tables.';\n",
              "          element.innerHTML = '';\n",
              "          dataTable['output_type'] = 'display_data';\n",
              "          await google.colab.output.renderOutput(dataTable, element);\n",
              "          const docLink = document.createElement('div');\n",
              "          docLink.innerHTML = docLinkHtml;\n",
              "          element.appendChild(docLink);\n",
              "        }\n",
              "      </script>\n",
              "    </div>\n",
              "  </div>\n",
              "  "
            ]
          },
          "metadata": {},
          "execution_count": 193
        }
      ]
    },
    {
      "cell_type": "code",
      "source": [
        "#Os dados de basesalary por raça tem 66% de dados faltantes\n",
        "df_novo.groupby([\"raca\"])['salarioBase'].mean()"
      ],
      "metadata": {
        "id": "puTx2_njjYEy",
        "colab": {
          "base_uri": "https://localhost:8080/"
        },
        "outputId": "6ff7b928-f621-4354-fe1f-58e988bd92ec"
      },
      "execution_count": 194,
      "outputs": [
        {
          "output_type": "execute_result",
          "data": {
            "text/plain": [
              "raca\n",
              "Asian            129829.170914\n",
              "Black            131549.275362\n",
              "Hispanic         132629.760850\n",
              "Não informado    146192.897166\n",
              "Two Or More      137812.189055\n",
              "White            139939.492032\n",
              "Name: salarioBase, dtype: float64"
            ]
          },
          "metadata": {},
          "execution_count": 194
        }
      ]
    },
    {
      "cell_type": "markdown",
      "source": [
        "Plotagem feita com todos os dados inclusive os dados NA, para verificarmos o comportamento da amostra"
      ],
      "metadata": {
        "id": "azbYSAxR3H1U"
      }
    },
    {
      "cell_type": "code",
      "source": [
        "df_novo.groupby([\"raca\"])['salarioBase'].mean().sort_values(ascending = False).plot(kind = \"barh\")"
      ],
      "metadata": {
        "colab": {
          "base_uri": "https://localhost:8080/",
          "height": 283
        },
        "id": "kuF6jruK2seE",
        "outputId": "94dca1f1-e087-4bb9-9bf9-5368168231bf"
      },
      "execution_count": 195,
      "outputs": [
        {
          "output_type": "execute_result",
          "data": {
            "text/plain": [
              "<matplotlib.axes._subplots.AxesSubplot at 0x7f90e89183a0>"
            ]
          },
          "metadata": {},
          "execution_count": 195
        },
        {
          "output_type": "display_data",
          "data": {
            "text/plain": [
              "<Figure size 432x288 with 1 Axes>"
            ],
            "image/png": "[encoded data removed]"
          },
          "metadata": {
            "needs_background": "light"
          }
        }
      ]
    },
    {
      "cell_type": "code",
      "source": [
        "dfiltrado_race.groupby([\"raca\"])['salarioBase'].mean()"
      ],
      "metadata": {
        "id": "ngrTrq0hjYCs",
        "colab": {
          "base_uri": "https://localhost:8080/"
        },
        "outputId": "14675684-1e4d-4bc0-b900-962f612ac547"
      },
      "execution_count": 196,
      "outputs": [
        {
          "output_type": "execute_result",
          "data": {
            "text/plain": [
              "raca\n",
              "Asian          129829.170914\n",
              "Black          131549.275362\n",
              "Hispanic       132629.760850\n",
              "Two Or More    137812.189055\n",
              "White          139939.492032\n",
              "Name: salarioBase, dtype: float64"
            ]
          },
          "metadata": {},
          "execution_count": 196
        }
      ]
    },
    {
      "cell_type": "markdown",
      "source": [
        "Plotagem feita com todos os dados Filtrados, dessa forma temos uma ideia mais real das racas com os salariosBase.\n",
        "\n",
        " Porem os asiaticos acabam sendo um total de 11 mil dos respondentes, isso provavelmente acaba jogando a media para baixo"
      ],
      "metadata": {
        "id": "PV6GDYYj4Hg2"
      }
    },
    {
      "cell_type": "code",
      "source": [
        "dfiltrado_race.groupby([\"raca\"])['salarioBase'].mean().plot()"
      ],
      "metadata": {
        "colab": {
          "base_uri": "https://localhost:8080/",
          "height": 297
        },
        "id": "-wa4lYbi3SHY",
        "outputId": "e1db974b-0781-494a-b328-d6f8fd6f00cd"
      },
      "execution_count": 197,
      "outputs": [
        {
          "output_type": "execute_result",
          "data": {
            "text/plain": [
              "<matplotlib.axes._subplots.AxesSubplot at 0x7f90e8918400>"
            ]
          },
          "metadata": {},
          "execution_count": 197
        },
        {
          "output_type": "display_data",
          "data": {
            "text/plain": [
              "<Figure size 432x288 with 1 Axes>"
            ],
            "image/png": "[encoded data removed]"
          },
          "metadata": {
            "needs_background": "light"
          }
        }
      ]
    },
    {
      "cell_type": "markdown",
      "source": [
        "Verificação das colunas Pais e salario Base\n",
        "\n",
        "Podemos verificar que a uma variação muito grande entre os paises em questão"
      ],
      "metadata": {
        "id": "dVUzHtrT6vVr"
      }
    },
    {
      "cell_type": "code",
      "source": [
        "df_novo.groupby([\"pais\"])['salarioBase'].mean().plot()"
      ],
      "metadata": {
        "id": "EYL6hxxjjqmx",
        "colab": {
          "base_uri": "https://localhost:8080/",
          "height": 297
        },
        "outputId": "a242387d-8495-46d9-c5a6-483b1cf431f5"
      },
      "execution_count": 198,
      "outputs": [
        {
          "output_type": "execute_result",
          "data": {
            "text/plain": [
              "<matplotlib.axes._subplots.AxesSubplot at 0x7f90e9075df0>"
            ]
          },
          "metadata": {},
          "execution_count": 198
        },
        {
          "output_type": "display_data",
          "data": {
            "text/plain": [
              "<Figure size 432x288 with 1 Axes>"
            ],
            "image/png": "[encoded data removed]"
          },
          "metadata": {
            "needs_background": "light"
          }
        }
      ]
    },
    {
      "cell_type": "markdown",
      "source": [
        "Os top 10 paises com maiores salarios "
      ],
      "metadata": {
        "id": "-VFJUxih-OZD"
      }
    },
    {
      "cell_type": "code",
      "source": [
        "top_10_Pais = df_novo.groupby([\"pais\"])['salarioBase'].mean().sort_values(ascending = False).head(10)"
      ],
      "metadata": {
        "id": "HLy--_W84vzt"
      },
      "execution_count": 199,
      "outputs": []
    },
    {
      "cell_type": "markdown",
      "source": [
        "Plotagem com o Kindh para verificarmos visualmente os 10 maiores paises em questão de salario"
      ],
      "metadata": {
        "id": "6YEbpFQi-Zoi"
      }
    },
    {
      "cell_type": "code",
      "source": [
        "top_10_Pais.sort_values(ascending = True).plot(kind = \"barh\")"
      ],
      "metadata": {
        "colab": {
          "base_uri": "https://localhost:8080/",
          "height": 283
        },
        "id": "iU4Yejff4QKN",
        "outputId": "9389c03c-cd4f-4bb8-d2c0-33625c65009f"
      },
      "execution_count": 200,
      "outputs": [
        {
          "output_type": "execute_result",
          "data": {
            "text/plain": [
              "<matplotlib.axes._subplots.AxesSubplot at 0x7f90e8c84f10>"
            ]
          },
          "metadata": {},
          "execution_count": 200
        },
        {
          "output_type": "display_data",
          "data": {
            "text/plain": [
              "<Figure size 432x288 with 1 Axes>"
            ],
            "image/png": "[encoded data removed]"
          },
          "metadata": {
            "needs_background": "light"
          }
        }
      ]
    },
    {
      "cell_type": "markdown",
      "source": [
        "Tabela para verificarmos os salarios bases de todos os paises envolvidos nas pesquisa em questão"
      ],
      "metadata": {
        "id": "WOqZMKSH_a2c"
      }
    },
    {
      "cell_type": "code",
      "source": [
        "df_novo.groupby([\"pais\"])['salarioBase'].mean().sort_values(ascending = False)"
      ],
      "metadata": {
        "id": "dq0gbsgWjqgE",
        "colab": {
          "base_uri": "https://localhost:8080/"
        },
        "outputId": "1bf55a5e-5298-4e60-d3a9-0a927f58ba78"
      },
      "execution_count": 201,
      "outputs": [
        {
          "output_type": "execute_result",
          "data": {
            "text/plain": [
              "pais\n",
              " Switzerland             164094.550747\n",
              "United States            153011.695380\n",
              " Marshall Islands        150000.000000\n",
              " United Arab Emirates    149471.836936\n",
              " Panama                  135000.000000\n",
              " Belgium                 133333.333333\n",
              " Philippines             127615.510808\n",
              " Denmark                 127181.818182\n",
              " Israel                  127037.841731\n",
              " Saudi Arabia            126250.000000\n",
              " Hong Kong (SAR)         117451.612903\n",
              " United States           113000.000000\n",
              " Australia               112334.631949\n",
              " United Kingdom          109282.281691\n",
              " Singapore               103464.402027\n",
              " Canada                  102827.567018\n",
              " New Zealand             102111.111111\n",
              " Netherlands Antilles    100000.000000\n",
              " Morocco                 100000.000000\n",
              " Iraq                    100000.000000\n",
              " Turkey                   99025.851347\n",
              " Netherlands              98690.529455\n",
              " Ireland                  96677.807793\n",
              " Japan                    96577.324324\n",
              " Norway                   95871.836936\n",
              " Luxembourg               95502.040896\n",
              " Germany                  93544.749202\n",
              " South Africa             93434.111003\n",
              " Finland                  92666.666667\n",
              " Austria                  92165.015440\n",
              " Sweden                   86759.694255\n",
              " France                   86745.339298\n",
              " Puerto Rico              85000.000000\n",
              "South Korea               84958.333333\n",
              " Estonia                  81666.666667\n",
              " Vietnam                  81038.777021\n",
              " China                    78676.204323\n",
              " Thailand                 74000.000000\n",
              " Uruguay                  73000.000000\n",
              " Chile                    71400.000000\n",
              " Ghana                    66000.000000\n",
              " Spain                    65901.551081\n",
              " Serbia                   61000.000000\n",
              " Costa Rica               60868.222006\n",
              " Italy                    60285.714286\n",
              " Belarus                  60011.633106\n",
              " Qatar                    60000.000000\n",
              " Bulgaria                 59500.000000\n",
              " Czech Republic           57676.222187\n",
              " Peru                     55666.666667\n",
              " Taiwan                   54964.743590\n",
              " Slovakia                 54200.000000\n",
              " Poland                   53725.969426\n",
              " Kenya                    52800.000000\n",
              " Brazil                   52676.938851\n",
              " Malaysia                 51400.000000\n",
              " Ukraine                  48419.354839\n",
              " Colombia                 48266.666667\n",
              " Lithuania                46000.000000\n",
              " Romania                  45500.000000\n",
              " India                    44146.837508\n",
              " Kazakhstan               42000.000000\n",
              " Hungary                  39615.419669\n",
              " Mexico                   39470.588235\n",
              " Russia                   39093.213720\n",
              " Latvia                   38333.333333\n",
              " Portugal                 37625.000000\n",
              " Argentina                36161.976528\n",
              " Indonesia                30272.213617\n",
              " Trinidad and Tobago      30000.000000\n",
              " Armenia                  30000.000000\n",
              " Moldova                  30000.000000\n",
              " Jordan                   29000.000000\n",
              " Yugoslavia               27000.000000\n",
              " Guatemala                25000.000000\n",
              " Pakistan                 20000.000000\n",
              " Nigeria                  16571.428571\n",
              " Bangladesh               10000.000000\n",
              " Egypt                    10000.000000\n",
              " Burma                    10000.000000\n",
              " Uzbekistan                9000.000000\n",
              "Name: salarioBase, dtype: float64"
            ]
          },
          "metadata": {},
          "execution_count": 201
        }
      ]
    },
    {
      "cell_type": "markdown",
      "source": [
        "Verificação da relação entre anos de experiencia e salario base "
      ],
      "metadata": {
        "id": "IBhoGwoV_kti"
      }
    },
    {
      "cell_type": "code",
      "source": [
        "df_novo.groupby([\"anosExperiencia\"])['salarioBase'].mean().sort_values(ascending = False).head(10)"
      ],
      "metadata": {
        "id": "jwivI-2fjqbV",
        "colab": {
          "base_uri": "https://localhost:8080/"
        },
        "outputId": "3fe15e27-9022-497c-a29d-88785fa959f5"
      },
      "execution_count": 202,
      "outputs": [
        {
          "output_type": "execute_result",
          "data": {
            "text/plain": [
              "anosExperiencia\n",
              "5.5     335000.000000\n",
              "38.0    225750.000000\n",
              "39.0    217000.000000\n",
              "11.5    210000.000000\n",
              "10.5    210000.000000\n",
              "32.0    209636.363636\n",
              "27.0    207593.720720\n",
              "21.0    198108.610782\n",
              "29.0    196863.636364\n",
              "23.0    196264.111070\n",
              "Name: salarioBase, dtype: float64"
            ]
          },
          "metadata": {},
          "execution_count": 202
        }
      ]
    },
    {
      "cell_type": "markdown",
      "source": [
        "Foi verificado que existe um pico muito ascentudo entre 0 e 10 anos se estabilizando logo a seguir, podemos chegar a conclusão que por conta da alta do profissional de tecnologia no mercado e com a possibilidade da home office alguns salarios subiram de forma ascentuada, ou são profissionais que são mais direcionados para linguagens mais utilizados no mercado"
      ],
      "metadata": {
        "id": "y836D71rBkkr"
      }
    },
    {
      "cell_type": "code",
      "source": [
        "df_novo.groupby([\"anosExperiencia\"])['salarioBase'].mean().plot()"
      ],
      "metadata": {
        "colab": {
          "base_uri": "https://localhost:8080/",
          "height": 297
        },
        "id": "ZdYPAuEz-vSv",
        "outputId": "aeb5a628-7a4f-48b9-a440-7519a796b175"
      },
      "execution_count": 203,
      "outputs": [
        {
          "output_type": "execute_result",
          "data": {
            "text/plain": [
              "<matplotlib.axes._subplots.AxesSubplot at 0x7f90e8f7a3d0>"
            ]
          },
          "metadata": {},
          "execution_count": 203
        },
        {
          "output_type": "display_data",
          "data": {
            "text/plain": [
              "<Figure size 432x288 with 1 Axes>"
            ],
            "image/png": "[encoded data removed]"
          },
          "metadata": {
            "needs_background": "light"
          }
        }
      ]
    },
    {
      "cell_type": "markdown",
      "source": [
        "Verificacao de Salario Base em questão do genero, podemos verificar que dado a base em questão não temos uma diferença de salarios em questão de genero"
      ],
      "metadata": {
        "id": "YpAyP-ZcCXXK"
      }
    },
    {
      "cell_type": "code",
      "source": [
        "df_novo.groupby([\"genero\"])['salarioBase'].mean()"
      ],
      "metadata": {
        "id": "6W2FSfRWjqZG",
        "colab": {
          "base_uri": "https://localhost:8080/"
        },
        "outputId": "94a50f0e-3e06-42a6-c510-348f34796196"
      },
      "execution_count": 204,
      "outputs": [
        {
          "output_type": "execute_result",
          "data": {
            "text/plain": [
              "genero\n",
              "Female           136923.088788\n",
              "Male             139458.877769\n",
              "Não informado    147662.749632\n",
              "Other            150090.041013\n",
              "Name: salarioBase, dtype: float64"
            ]
          },
          "metadata": {},
          "execution_count": 204
        }
      ]
    },
    {
      "cell_type": "code",
      "source": [
        "df_genero_plot = df_novo.groupby([\"genero\"])['salarioBase'].mean()\n",
        "\n",
        "df_genero_plot.plot(kind = \"barh\")"
      ],
      "metadata": {
        "colab": {
          "base_uri": "https://localhost:8080/",
          "height": 283
        },
        "id": "SYjAxHpLAas-",
        "outputId": "bdbde7d4-7085-4bb4-97eb-0e2d25b1195c"
      },
      "execution_count": 205,
      "outputs": [
        {
          "output_type": "execute_result",
          "data": {
            "text/plain": [
              "<matplotlib.axes._subplots.AxesSubplot at 0x7f90e9115370>"
            ]
          },
          "metadata": {},
          "execution_count": 205
        },
        {
          "output_type": "display_data",
          "data": {
            "text/plain": [
              "<Figure size 432x288 with 1 Axes>"
            ],
            "image/png": "[encoded data removed]"
          },
          "metadata": {
            "needs_background": "light"
          }
        }
      ]
    },
    {
      "cell_type": "markdown",
      "source": [
        "Verificação de salario Base pela educação, devido a area de tecnologia nãos ser uma area tão rigida como outras, há a possibilidade de haver desenvolvedores sem graduação mais elevadas trabalhando na area, dessa forma verificamos se existe realmente uma variação de salario devido a educação conquistada."
      ],
      "metadata": {
        "id": "RNDxZ7c2FuDR"
      }
    },
    {
      "cell_type": "code",
      "source": [
        "df_novo.groupby([\"educacao\"])['salarioBase'].count().sort_values(ascending = False)"
      ],
      "metadata": {
        "id": "9Ky4mZYhjqSz",
        "colab": {
          "base_uri": "https://localhost:8080/"
        },
        "outputId": "24a85ee1-76ee-4b77-c9b8-951064212ec9"
      },
      "execution_count": 206,
      "outputs": [
        {
          "output_type": "execute_result",
          "data": {
            "text/plain": [
              "educacao\n",
              "Não informado        32272\n",
              "Master's Degree      15391\n",
              "Bachelor's Degree    12601\n",
              "PhD                   1703\n",
              "Some College           355\n",
              "Highschool             320\n",
              "Name: salarioBase, dtype: int64"
            ]
          },
          "metadata": {},
          "execution_count": 206
        }
      ]
    },
    {
      "cell_type": "code",
      "source": [
        "df_novo.groupby([\"educacao\"])['salarioBase'].mean().sort_values(ascending = False)"
      ],
      "metadata": {
        "colab": {
          "base_uri": "https://localhost:8080/"
        },
        "id": "J2HwPrqFD7XL",
        "outputId": "cdd02fb5-4189-4806-bda1-5e2ad7f7bfdc"
      },
      "execution_count": 207,
      "outputs": [
        {
          "output_type": "execute_result",
          "data": {
            "text/plain": [
              "educacao\n",
              "PhD                  173409.864944\n",
              "Master's Degree      145753.042528\n",
              "Não informado        145339.529064\n",
              "Some College         141966.197183\n",
              "Highschool           129378.125000\n",
              "Bachelor's Degree    123958.495358\n",
              "Name: salarioBase, dtype: float64"
            ]
          },
          "metadata": {},
          "execution_count": 207
        }
      ]
    },
    {
      "cell_type": "code",
      "source": [
        "dfiltrado_educacao = df_novo.loc[df_novo['educacao'] != 'Não informado']\n",
        "\n",
        "df_educacao_plot = dfiltrado_educacao.groupby([\"educacao\"])['salarioBase'].mean().sort_values(ascending = False)\n",
        "\n",
        "df_educacao_plot.plot(kind = \"bar\")"
      ],
      "metadata": {
        "colab": {
          "base_uri": "https://localhost:8080/",
          "height": 379
        },
        "id": "7c7izzezA4mF",
        "outputId": "9308b208-1d3b-457f-d1ad-4418146d277b"
      },
      "execution_count": 208,
      "outputs": [
        {
          "output_type": "execute_result",
          "data": {
            "text/plain": [
              "<matplotlib.axes._subplots.AxesSubplot at 0x7f90e85a9b50>"
            ]
          },
          "metadata": {},
          "execution_count": 208
        },
        {
          "output_type": "display_data",
          "data": {
            "text/plain": [
              "<Figure size 432x288 with 1 Axes>"
            ],
            "image/png": "[encoded data removed]"
          },
          "metadata": {
            "needs_background": "light"
          }
        }
      ]
    },
    {
      "cell_type": "markdown",
      "source": [
        "Verificação de colunas Tempo na Empresa e ganhoAnual, verificamos se quanto mais tempo na empresa mais temos ganhos devido a experiencia"
      ],
      "metadata": {
        "id": "nCKC68NUGp9u"
      }
    },
    {
      "cell_type": "code",
      "source": [
        "df_novo.groupby([\"temponaEmpresa\"])['ganhoAnual'].mean().sort_values(ascending = False).head(10)"
      ],
      "metadata": {
        "id": "a2OU1hTGj-bh",
        "colab": {
          "base_uri": "https://localhost:8080/"
        },
        "outputId": "3002d782-1249-446b-cde2-7cb33318ae9a"
      },
      "execution_count": 209,
      "outputs": [
        {
          "output_type": "execute_result",
          "data": {
            "text/plain": [
              "temponaEmpresa\n",
              "28.00    680000.000000\n",
              "27.00    603800.000000\n",
              "30.00    440000.000000\n",
              "2.40     431000.000000\n",
              "2.30     402000.000000\n",
              "4.80     393000.000000\n",
              "26.00    332833.333333\n",
              "23.00    325950.000000\n",
              "4.75     325000.000000\n",
              "3.70     322500.000000\n",
              "Name: ganhoAnual, dtype: float64"
            ]
          },
          "metadata": {},
          "execution_count": 209
        }
      ]
    },
    {
      "cell_type": "code",
      "source": [
        "df_novo.groupby([\"temponaEmpresa\"])['ganhoAnual'].mean().plot()"
      ],
      "metadata": {
        "colab": {
          "base_uri": "https://localhost:8080/",
          "height": 298
        },
        "id": "UpP3ibjTHOYH",
        "outputId": "37fcf0c1-a777-400d-8fd2-3b5b01ac535d"
      },
      "execution_count": 210,
      "outputs": [
        {
          "output_type": "execute_result",
          "data": {
            "text/plain": [
              "<matplotlib.axes._subplots.AxesSubplot at 0x7f90e9424d60>"
            ]
          },
          "metadata": {},
          "execution_count": 210
        },
        {
          "output_type": "display_data",
          "data": {
            "text/plain": [
              "<Figure size 432x288 with 1 Axes>"
            ],
            "image/png": "[encoded data removed]"
          },
          "metadata": {
            "needs_background": "light"
          }
        }
      ]
    },
    {
      "cell_type": "markdown",
      "source": [
        "Verificação de colunas Compania e ganhoAnual, verificamos se quais empresas tem os maiores salarios anuais medios."
      ],
      "metadata": {
        "id": "pwOH-hcMHZ7B"
      }
    },
    {
      "cell_type": "code",
      "source": [
        "df_filtrado_compania = df_novo.groupby([\"compania\"])['ganhoAnual'].mean().sort_values(ascending = False).head(10)"
      ],
      "metadata": {
        "id": "1FgRBZRvj-XE"
      },
      "execution_count": 211,
      "outputs": []
    },
    {
      "cell_type": "code",
      "source": [
        "df_filtrado_compania.plot(kind = \"barh\")"
      ],
      "metadata": {
        "colab": {
          "base_uri": "https://localhost:8080/",
          "height": 283
        },
        "id": "Gy5PrvKQHtn2",
        "outputId": "65291486-fcf9-407f-f7ad-4091e7c55b33"
      },
      "execution_count": 212,
      "outputs": [
        {
          "output_type": "execute_result",
          "data": {
            "text/plain": [
              "<matplotlib.axes._subplots.AxesSubplot at 0x7f90e938e100>"
            ]
          },
          "metadata": {},
          "execution_count": 212
        },
        {
          "output_type": "display_data",
          "data": {
            "text/plain": [
              "<Figure size 432x288 with 1 Axes>"
            ],
            "image/png": "[encoded data removed]"
          },
          "metadata": {
            "needs_background": "light"
          }
        }
      ]
    },
    {
      "cell_type": "markdown",
      "source": [
        "Verificando as colunas genero por ganho atual, podemos ver claramente que as pessoas do genero feminino tem um menor ganho atual, sendo mais ou menos 5% comparado aos homens e comparado a outros é uma diferença de mais de 10%"
      ],
      "metadata": {
        "id": "b-FMSneyIG9X"
      }
    },
    {
      "cell_type": "code",
      "source": [
        "df_novo.groupby([\"genero\"])['ganhoAnual'].mean().sort_values(ascending = False)"
      ],
      "metadata": {
        "id": "ht8zX1Bbj-S0",
        "colab": {
          "base_uri": "https://localhost:8080/"
        },
        "outputId": "e5968774-3416-468d-dd8e-25277a486f08"
      },
      "execution_count": 213,
      "outputs": [
        {
          "output_type": "execute_result",
          "data": {
            "text/plain": [
              "genero\n",
              "Other            232347.500000\n",
              "Não informado    230598.485236\n",
              "Male             212446.977928\n",
              "Female           195119.588513\n",
              "Name: ganhoAnual, dtype: float64"
            ]
          },
          "metadata": {},
          "execution_count": 213
        }
      ]
    },
    {
      "cell_type": "code",
      "source": [
        "df_novo.groupby([\"genero\"])['ganhoAnual'].mean().plot()"
      ],
      "metadata": {
        "colab": {
          "base_uri": "https://localhost:8080/",
          "height": 297
        },
        "id": "yyVFmfL1H6tt",
        "outputId": "d1dec1fb-3a68-4a3c-97b4-07af6c2a5414"
      },
      "execution_count": 214,
      "outputs": [
        {
          "output_type": "execute_result",
          "data": {
            "text/plain": [
              "<matplotlib.axes._subplots.AxesSubplot at 0x7f90e931fb20>"
            ]
          },
          "metadata": {},
          "execution_count": 214
        },
        {
          "output_type": "display_data",
          "data": {
            "text/plain": [
              "<Figure size 432x288 with 1 Axes>"
            ],
            "image/png": "[encoded data removed]"
          },
          "metadata": {
            "needs_background": "light"
          }
        }
      ]
    },
    {
      "cell_type": "markdown",
      "source": [
        "Apesar de os Asiaticos estarem em ultimo lugar na verificação por salario base, na questão de salario Anual as cosias mudam onde as pessoas da colocaração negra acabam ficando em ultimo lugar"
      ],
      "metadata": {
        "id": "sA5fJHuKI_lj"
      }
    },
    {
      "cell_type": "code",
      "source": [
        "df_novo.groupby([\"raca\"])['ganhoAnual'].mean().sort_values(ascending = False)"
      ],
      "metadata": {
        "id": "miwMHSNaj-Qg",
        "colab": {
          "base_uri": "https://localhost:8080/"
        },
        "outputId": "d32d9b7e-687c-4bf5-e975-77c0df753731"
      },
      "execution_count": 215,
      "outputs": [
        {
          "output_type": "execute_result",
          "data": {
            "text/plain": [
              "raca\n",
              "Não informado    226604.277160\n",
              "White            206293.700199\n",
              "Two Or More      204651.741294\n",
              "Asian            193324.753653\n",
              "Hispanic         189701.505757\n",
              "Black            181324.637681\n",
              "Name: ganhoAnual, dtype: float64"
            ]
          },
          "metadata": {},
          "execution_count": 215
        }
      ]
    },
    {
      "cell_type": "code",
      "source": [
        "dfiltrado_race.groupby([\"raca\"])['ganhoAnual'].mean().plot()"
      ],
      "metadata": {
        "colab": {
          "base_uri": "https://localhost:8080/",
          "height": 297
        },
        "id": "yYko3r0VIw2J",
        "outputId": "67b4281e-412a-47c9-f66d-552929a1c97f"
      },
      "execution_count": 216,
      "outputs": [
        {
          "output_type": "execute_result",
          "data": {
            "text/plain": [
              "<matplotlib.axes._subplots.AxesSubplot at 0x7f90e92e21c0>"
            ]
          },
          "metadata": {},
          "execution_count": 216
        },
        {
          "output_type": "display_data",
          "data": {
            "text/plain": [
              "<Figure size 432x288 with 1 Axes>"
            ],
            "image/png": "[encoded data removed]"
          },
          "metadata": {
            "needs_background": "light"
          }
        }
      ]
    },
    {
      "cell_type": "markdown",
      "source": [
        "Fizemos as verificação para chegarmos a uma conclusão quais eram os maiores graus de escolaridade se era homens, mulheres, outros."
      ],
      "metadata": {
        "id": "D1QAve59KFHT"
      }
    },
    {
      "cell_type": "code",
      "source": [
        "# verificar a educação por gênero\n",
        "Tabela_Cruzada = pd.crosstab(df_novo.genero, df_novo.educacao)\n",
        "\n",
        "\n",
        "Tabela_Cruzada.rename(columns ={\"Bachelor's Degree\": \"Bacharelado\",\n",
        "                          \"Highschool\": \"Ensino médio\",\n",
        "                          \"Master's Degree\":\"Mestrado\",\n",
        "                          \"PhD\":\"Doutorado\",\n",
        "                          \"Some College\":\"Outros\",\n",
        "                          },\n",
        "                inplace=True )\n",
        "\n",
        "\n",
        "Tabela_Cruzada.loc['Total']= Tabela_Cruzada.sum(numeric_only=True, axis=0,)\n",
        "\n",
        "Tabela_Cruzada.loc[:,'Total'] = Tabela_Cruzada.sum(numeric_only=True, axis=1)\n",
        "\n",
        "Tabela_Cruzada"
      ],
      "metadata": {
        "id": "49w6aBRQkGrj",
        "colab": {
          "base_uri": "https://localhost:8080/",
          "height": 237
        },
        "outputId": "c11d5364-cd99-4f0e-a56a-d3b22e1f7fbb"
      },
      "execution_count": 217,
      "outputs": [
        {
          "output_type": "execute_result",
          "data": {
            "text/plain": [
              "educacao       Bacharelado  Ensino médio  Mestrado  Não informado  Doutorado  \\\n",
              "genero                                                                         \n",
              "Female                2186            13      2470           2089        200   \n",
              "Male                  9620           289     11236          13023       1229   \n",
              "Não informado          726            10      1596          16937        265   \n",
              "Other                   69             8        89            223          9   \n",
              "Total                12601           320     15391          32272       1703   \n",
              "\n",
              "educacao       Outros  Total  \n",
              "genero                        \n",
              "Female             41   6999  \n",
              "Male              305  35702  \n",
              "Não informado       7  19541  \n",
              "Other               2    400  \n",
              "Total             355  62642  "
            ],
            "text/html": [
              "\n",
              "  <div id=\"df-88c4c591-6cd7-4ea4-a01b-a12715bead78\">\n",
              "    <div class=\"colab-df-container\">\n",
              "      <div>\n",
              "<style scoped>\n",
              "    .dataframe tbody tr th:only-of-type {\n",
              "        vertical-align: middle;\n",
              "    }\n",
              "\n",
              "    .dataframe tbody tr th {\n",
              "        vertical-align: top;\n",
              "    }\n",
              "\n",
              "    .dataframe thead th {\n",
              "        text-align: right;\n",
              "    }\n",
              "</style>\n",
              "<table border=\"1\" class=\"dataframe\">\n",
              "  <thead>\n",
              "    <tr style=\"text-align: right;\">\n",
              "      <th>educacao</th>\n",
              "      <th>Bacharelado</th>\n",
              "      <th>Ensino médio</th>\n",
              "      <th>Mestrado</th>\n",
              "      <th>Não informado</th>\n",
              "      <th>Doutorado</th>\n",
              "      <th>Outros</th>\n",
              "      <th>Total</th>\n",
              "    </tr>\n",
              "    <tr>\n",
              "      <th>genero</th>\n",
              "      <th></th>\n",
              "      <th></th>\n",
              "      <th></th>\n",
              "      <th></th>\n",
              "      <th></th>\n",
              "      <th></th>\n",
              "      <th></th>\n",
              "    </tr>\n",
              "  </thead>\n",
              "  <tbody>\n",
              "    <tr>\n",
              "      <th>Female</th>\n",
              "      <td>2186</td>\n",
              "      <td>13</td>\n",
              "      <td>2470</td>\n",
              "      <td>2089</td>\n",
              "      <td>200</td>\n",
              "      <td>41</td>\n",
              "      <td>6999</td>\n",
              "    </tr>\n",
              "    <tr>\n",
              "      <th>Male</th>\n",
              "      <td>9620</td>\n",
              "      <td>289</td>\n",
              "      <td>11236</td>\n",
              "      <td>13023</td>\n",
              "      <td>1229</td>\n",
              "      <td>305</td>\n",
              "      <td>35702</td>\n",
              "    </tr>\n",
              "    <tr>\n",
              "      <th>Não informado</th>\n",
              "      <td>726</td>\n",
              "      <td>10</td>\n",
              "      <td>1596</td>\n",
              "      <td>16937</td>\n",
              "      <td>265</td>\n",
              "      <td>7</td>\n",
              "      <td>19541</td>\n",
              "    </tr>\n",
              "    <tr>\n",
              "      <th>Other</th>\n",
              "      <td>69</td>\n",
              "      <td>8</td>\n",
              "      <td>89</td>\n",
              "      <td>223</td>\n",
              "      <td>9</td>\n",
              "      <td>2</td>\n",
              "      <td>400</td>\n",
              "    </tr>\n",
              "    <tr>\n",
              "      <th>Total</th>\n",
              "      <td>12601</td>\n",
              "      <td>320</td>\n",
              "      <td>15391</td>\n",
              "      <td>32272</td>\n",
              "      <td>1703</td>\n",
              "      <td>355</td>\n",
              "      <td>62642</td>\n",
              "    </tr>\n",
              "  </tbody>\n",
              "</table>\n",
              "</div>\n",
              "      <button class=\"colab-df-convert\" onclick=\"convertToInteractive('df-88c4c591-6cd7-4ea4-a01b-a12715bead78')\"\n",
              "              title=\"Convert this dataframe to an interactive table.\"\n",
              "              style=\"display:none;\">\n",
              "        \n",
              "  <svg xmlns=\"http://www.w3.org/2000/svg\" height=\"24px\"viewBox=\"0 0 24 24\"\n",
              "       width=\"24px\">\n",
              "    <path d=\"M0 0h24v24H0V0z\" fill=\"none\"/>\n",
              "    <path d=\"M18.56 5.44l.94 2.06.94-2.06 2.06-.94-2.06-.94-.94-2.06-.94 2.06-2.06.94zm-11 1L8.5 8.5l.94-2.06 2.06-.94-2.06-.94L8.5 2.5l-.94 2.06-2.06.94zm10 10l.94 2.06.94-2.06 2.06-.94-2.06-.94-.94-2.06-.94 2.06-2.06.94z\"/><path d=\"M17.41 7.96l-1.37-1.37c-.4-.4-.92-.59-1.43-.59-.52 0-1.04.2-1.43.59L10.3 9.45l-7.72 7.72c-.78.78-.78 2.05 0 2.83L4 21.41c.39.39.9.59 1.41.59.51 0 1.02-.2 1.41-.59l7.78-7.78 2.81-2.81c.8-.78.8-2.07 0-2.86zM5.41 20L4 18.59l7.72-7.72 1.47 1.35L5.41 20z\"/>\n",
              "  </svg>\n",
              "      </button>\n",
              "      \n",
              "  <style>\n",
              "    .colab-df-container {\n",
              "      display:flex;\n",
              "      flex-wrap:wrap;\n",
              "      gap: 12px;\n",
              "    }\n",
              "\n",
              "    .colab-df-convert {\n",
              "      background-color: #E8F0FE;\n",
              "      border: none;\n",
              "      border-radius: 50%;\n",
              "      cursor: pointer;\n",
              "      display: none;\n",
              "      fill: #1967D2;\n",
              "      height: 32px;\n",
              "      padding: 0 0 0 0;\n",
              "      width: 32px;\n",
              "    }\n",
              "\n",
              "    .colab-df-convert:hover {\n",
              "      background-color: #E2EBFA;\n",
              "      box-shadow: 0px 1px 2px rgba(60, 64, 67, 0.3), 0px 1px 3px 1px rgba(60, 64, 67, 0.15);\n",
              "      fill: #174EA6;\n",
              "    }\n",
              "\n",
              "    [theme=dark] .colab-df-convert {\n",
              "      background-color: #3B4455;\n",
              "      fill: #D2E3FC;\n",
              "    }\n",
              "\n",
              "    [theme=dark] .colab-df-convert:hover {\n",
              "      background-color: #434B5C;\n",
              "      box-shadow: 0px 1px 3px 1px rgba(0, 0, 0, 0.15);\n",
              "      filter: drop-shadow(0px 1px 2px rgba(0, 0, 0, 0.3));\n",
              "      fill: #FFFFFF;\n",
              "    }\n",
              "  </style>\n",
              "\n",
              "      <script>\n",
              "        const buttonEl =\n",
              "          document.querySelector('#df-88c4c591-6cd7-4ea4-a01b-a12715bead78 button.colab-df-convert');\n",
              "        buttonEl.style.display =\n",
              "          google.colab.kernel.accessAllowed ? 'block' : 'none';\n",
              "\n",
              "        async function convertToInteractive(key) {\n",
              "          const element = document.querySelector('#df-88c4c591-6cd7-4ea4-a01b-a12715bead78');\n",
              "          const dataTable =\n",
              "            await google.colab.kernel.invokeFunction('convertToInteractive',\n",
              "                                                     [key], {});\n",
              "          if (!dataTable) return;\n",
              "\n",
              "          const docLinkHtml = 'Like what you see? Visit the ' +\n",
              "            '<a target=\"_blank\" href=https://colab.research.google.com/notebooks/data_table.ipynb>data table notebook</a>'\n",
              "            + ' to learn more about interactive tables.';\n",
              "          element.innerHTML = '';\n",
              "          dataTable['output_type'] = 'display_data';\n",
              "          await google.colab.output.renderOutput(dataTable, element);\n",
              "          const docLink = document.createElement('div');\n",
              "          docLink.innerHTML = docLinkHtml;\n",
              "          element.appendChild(docLink);\n",
              "        }\n",
              "      </script>\n",
              "    </div>\n",
              "  </div>\n",
              "  "
            ]
          },
          "metadata": {},
          "execution_count": 217
        }
      ]
    },
    {
      "cell_type": "code",
      "source": [
        "df_novo['profissao'].value_counts()"
      ],
      "metadata": {
        "colab": {
          "base_uri": "https://localhost:8080/"
        },
        "id": "E20DsZlk2WYt",
        "outputId": "4c5fdaad-f6f2-45df-b3a6-86ae078e3be8"
      },
      "execution_count": 218,
      "outputs": [
        {
          "output_type": "execute_result",
          "data": {
            "text/plain": [
              "Software Engineer               41231\n",
              "Product Manager                  4673\n",
              "Software Engineering Manager     3569\n",
              "Data Scientist                   2578\n",
              "Hardware Engineer                2200\n",
              "Product Designer                 1516\n",
              "Technical Program Manager        1381\n",
              "Solution Architect               1157\n",
              "Management Consultant             976\n",
              "Business Analyst                  885\n",
              "Marketing                         710\n",
              "Mechanical Engineer               490\n",
              "Sales                             461\n",
              "Recruiter                         451\n",
              "Human Resources                   364\n",
              "Name: profissao, dtype: int64"
            ]
          },
          "metadata": {},
          "execution_count": 218
        }
      ]
    },
    {
      "cell_type": "code",
      "source": [
        "dfiltrado_gender = df_novo.loc[df_novo['genero'] != 'Não informado']"
      ],
      "metadata": {
        "id": "xCeBnbFbyXNS"
      },
      "execution_count": 219,
      "outputs": []
    },
    {
      "cell_type": "markdown",
      "source": [
        "Empresas que pagam mais valores de ações por funcionario"
      ],
      "metadata": {
        "id": "wQ7tfFPqK9Ru"
      }
    },
    {
      "cell_type": "code",
      "source": [
        "df_novo.groupby([\"compania\"])['SGV'].mean().sort_values(ascending = False).head(10).plot(kind = \"barh\")"
      ],
      "metadata": {
        "id": "aywrU9jEqNsN",
        "colab": {
          "base_uri": "https://localhost:8080/",
          "height": 283
        },
        "outputId": "9424ba59-bf90-4192-f1e9-84c20bd39129"
      },
      "execution_count": 220,
      "outputs": [
        {
          "output_type": "execute_result",
          "data": {
            "text/plain": [
              "<matplotlib.axes._subplots.AxesSubplot at 0x7f90e9255d60>"
            ]
          },
          "metadata": {},
          "execution_count": 220
        },
        {
          "output_type": "display_data",
          "data": {
            "text/plain": [
              "<Figure size 432x288 with 1 Axes>"
            ],
            "image/png": "[encoded data removed]"
          },
          "metadata": {
            "needs_background": "light"
          }
        }
      ]
    },
    {
      "cell_type": "markdown",
      "source": [
        "Verificação de quais são as empresas com mais respondentes a pesquisa"
      ],
      "metadata": {
        "id": "_NpZD-aSKsDv"
      }
    },
    {
      "cell_type": "code",
      "source": [
        "dfiltrado_gender.groupby([\"compania\"])['genero'].count().sort_values(ascending = False).head(10)"
      ],
      "metadata": {
        "id": "3LsCfU7psZQl",
        "colab": {
          "base_uri": "https://localhost:8080/"
        },
        "outputId": "8b2f9167-6b33-4c4c-da6e-ecbc66827ad9"
      },
      "execution_count": 221,
      "outputs": [
        {
          "output_type": "execute_result",
          "data": {
            "text/plain": [
              "compania\n",
              "AMAZON        5565\n",
              "MICROSOFT     3658\n",
              "GOOGLE        2996\n",
              "FACEBOOK      2124\n",
              "APPLE         1392\n",
              "ORACLE         811\n",
              "INTEL          702\n",
              "SALESFORCE     697\n",
              "IBM            686\n",
              "CISCO          655\n",
              "Name: genero, dtype: int64"
            ]
          },
          "metadata": {},
          "execution_count": 221
        }
      ]
    },
    {
      "cell_type": "markdown",
      "source": [
        "Verificação das companias que pagam os melhores salarios base em media"
      ],
      "metadata": {
        "id": "z0FtJ8BLLJZL"
      }
    },
    {
      "cell_type": "code",
      "source": [
        "df_compania = df_novo.groupby([\"compania\"])['salarioBase'].mean().sort_values(ascending = False).head(10)"
      ],
      "metadata": {
        "id": "QKD9gjyMsqDi"
      },
      "execution_count": 222,
      "outputs": []
    },
    {
      "cell_type": "code",
      "source": [
        "df_compania.plot(kind = 'barh')"
      ],
      "metadata": {
        "colab": {
          "base_uri": "https://localhost:8080/",
          "height": 283
        },
        "id": "I9VvhQB6LUIc",
        "outputId": "6894afff-648d-4b25-d393-98ded6361544"
      },
      "execution_count": 129,
      "outputs": [
        {
          "output_type": "execute_result",
          "data": {
            "text/plain": [
              "<matplotlib.axes._subplots.AxesSubplot at 0x7f90e97ffb80>"
            ]
          },
          "metadata": {},
          "execution_count": 129
        },
        {
          "output_type": "display_data",
          "data": {
            "text/plain": [
              "<Figure size 432x288 with 1 Axes>"
            ],
            "image/png": "[encoded data removed]"
          },
          "metadata": {
            "needs_background": "light"
          }
        }
      ]
    },
    {
      "cell_type": "markdown",
      "source": [
        "Verificação dos salarios base por profissão, verificamos que apesar de possuirmos 41 mil engenheiro de softwares o mesmo ficou dentro da media"
      ],
      "metadata": {
        "id": "gpDSzqXyMBXL"
      }
    },
    {
      "cell_type": "code",
      "source": [
        "df_novo[\"profissao\"].value_counts()"
      ],
      "metadata": {
        "colab": {
          "base_uri": "https://localhost:8080/"
        },
        "id": "vM8G4ceKMWNb",
        "outputId": "030cec65-bf29-4303-bcf0-742e0774cd91"
      },
      "execution_count": 223,
      "outputs": [
        {
          "output_type": "execute_result",
          "data": {
            "text/plain": [
              "Software Engineer               41231\n",
              "Product Manager                  4673\n",
              "Software Engineering Manager     3569\n",
              "Data Scientist                   2578\n",
              "Hardware Engineer                2200\n",
              "Product Designer                 1516\n",
              "Technical Program Manager        1381\n",
              "Solution Architect               1157\n",
              "Management Consultant             976\n",
              "Business Analyst                  885\n",
              "Marketing                         710\n",
              "Mechanical Engineer               490\n",
              "Sales                             461\n",
              "Recruiter                         451\n",
              "Human Resources                   364\n",
              "Name: profissao, dtype: int64"
            ]
          },
          "metadata": {},
          "execution_count": 223
        }
      ]
    },
    {
      "cell_type": "code",
      "source": [
        "df_novo.groupby([\"profissao\"])['salarioBase'].mean().sort_values(ascending = False)"
      ],
      "metadata": {
        "colab": {
          "base_uri": "https://localhost:8080/"
        },
        "id": "gPHVyKzC1GVO",
        "outputId": "07ee4b93-f4bb-4631-8176-8ed8d5ca5a22"
      },
      "execution_count": 224,
      "outputs": [
        {
          "output_type": "execute_result",
          "data": {
            "text/plain": [
              "profissao\n",
              "Software Engineering Manager    183167.158148\n",
              "Technical Program Manager       156656.158659\n",
              "Product Manager                 156639.762569\n",
              "Solution Architect              146905.006937\n",
              "Data Scientist                  143341.582737\n",
              "Hardware Engineer               142536.167039\n",
              "Product Designer                142117.538205\n",
              "Marketing                       141349.514237\n",
              "Software Engineer               137595.752516\n",
              "Management Consultant           136195.696721\n",
              "Human Resources                 128972.740533\n",
              "Sales                           119677.462508\n",
              "Mechanical Engineer             118738.933784\n",
              "Recruiter                       118421.801912\n",
              "Business Analyst                103976.534081\n",
              "Name: salarioBase, dtype: float64"
            ]
          },
          "metadata": {},
          "execution_count": 224
        }
      ]
    },
    {
      "cell_type": "code",
      "source": [
        "df_novo.groupby([\"profissao\"])['salarioBase'].mean().plot(kind = \"bar\")"
      ],
      "metadata": {
        "colab": {
          "base_uri": "https://localhost:8080/",
          "height": 442
        },
        "id": "1t1D6jQiLl8J",
        "outputId": "69edd835-092d-4a8a-e891-dfb0c136e317"
      },
      "execution_count": 225,
      "outputs": [
        {
          "output_type": "execute_result",
          "data": {
            "text/plain": [
              "<matplotlib.axes._subplots.AxesSubplot at 0x7f90e92298b0>"
            ]
          },
          "metadata": {},
          "execution_count": 225
        },
        {
          "output_type": "display_data",
          "data": {
            "text/plain": [
              "<Figure size 432x288 with 1 Axes>"
            ],
            "image/png": "[encoded data removed]"
          },
          "metadata": {
            "needs_background": "light"
          }
        }
      ]
    },
    {
      "cell_type": "markdown",
      "source": [
        "verificamos para sermos mais precisos os anos de Experencia por salario base, tanto abaixo de 5 anos quanto acima de 10 anos."
      ],
      "metadata": {
        "id": "FB9NjOd-NhDj"
      }
    },
    {
      "cell_type": "code",
      "source": [
        "df_anosExperiencia_5 = df_novo.where(df_novo['anosExperiencia'] <= 5.0).groupby(['anosExperiencia'])['salarioBase'].mean()"
      ],
      "metadata": {
        "id": "TiLhD2ff4uxJ"
      },
      "execution_count": 226,
      "outputs": []
    },
    {
      "cell_type": "code",
      "source": [
        "df_anosExperiencia_5.plot()"
      ],
      "metadata": {
        "id": "La1XfLgEMbS0",
        "colab": {
          "base_uri": "https://localhost:8080/",
          "height": 297
        },
        "outputId": "f0fd2a77-00fe-42a2-ee50-9963dd4498db"
      },
      "execution_count": 227,
      "outputs": [
        {
          "output_type": "execute_result",
          "data": {
            "text/plain": [
              "<matplotlib.axes._subplots.AxesSubplot at 0x7f90e8418cd0>"
            ]
          },
          "metadata": {},
          "execution_count": 227
        },
        {
          "output_type": "display_data",
          "data": {
            "text/plain": [
              "<Figure size 432x288 with 1 Axes>"
            ],
            "image/png": "[encoded data removed]"
          },
          "metadata": {
            "needs_background": "light"
          }
        }
      ]
    },
    {
      "cell_type": "code",
      "source": [
        "df_anosExperiencia_5.plot(kind = \"bar\")"
      ],
      "metadata": {
        "colab": {
          "base_uri": "https://localhost:8080/",
          "height": 313
        },
        "id": "70XjRG_QMk8X",
        "outputId": "d3481292-2a88-41ee-ed01-455ad4096113"
      },
      "execution_count": 228,
      "outputs": [
        {
          "output_type": "execute_result",
          "data": {
            "text/plain": [
              "<matplotlib.axes._subplots.AxesSubplot at 0x7f90e83d6610>"
            ]
          },
          "metadata": {},
          "execution_count": 228
        },
        {
          "output_type": "display_data",
          "data": {
            "text/plain": [
              "<Figure size 432x288 with 1 Axes>"
            ],
            "image/png": "[encoded data removed]"
          },
          "metadata": {
            "needs_background": "light"
          }
        }
      ]
    },
    {
      "cell_type": "code",
      "source": [
        "df_novo.where(df_novo['anosExperiencia'] >= 10.0).groupby(['anosExperiencia'])['salarioBase'].mean().sort_values(ascending = False)"
      ],
      "metadata": {
        "colab": {
          "base_uri": "https://localhost:8080/"
        },
        "id": "LjXcJulp84Wt",
        "outputId": "bed7ce4c-ab57-41a8-cea1-c944ca308dbd"
      },
      "execution_count": 229,
      "outputs": [
        {
          "output_type": "execute_result",
          "data": {
            "text/plain": [
              "anosExperiencia\n",
              "38.0    225750.000000\n",
              "39.0    217000.000000\n",
              "11.5    210000.000000\n",
              "10.5    210000.000000\n",
              "32.0    209636.363636\n",
              "27.0    207593.720720\n",
              "21.0    198108.610782\n",
              "29.0    196863.636364\n",
              "23.0    196264.111070\n",
              "24.0    195459.570829\n",
              "35.0    195374.422071\n",
              "28.0    194624.587193\n",
              "22.0    192607.120046\n",
              "33.0    191333.333333\n",
              "25.0    191258.116717\n",
              "37.0    191215.510808\n",
              "30.0    191134.795175\n",
              "26.0    188693.799116\n",
              "20.0    187697.489175\n",
              "19.0    185718.312844\n",
              "18.0    185468.318535\n",
              "40.0    177416.666667\n",
              "16.0    176475.620307\n",
              "15.0    176453.769412\n",
              "17.0    175767.138950\n",
              "31.0    172571.428571\n",
              "13.0    167447.723349\n",
              "14.0    167321.142726\n",
              "34.0    166250.000000\n",
              "12.0    165476.295543\n",
              "10.0    160130.180975\n",
              "42.0    160000.000000\n",
              "11.0    159189.443819\n",
              "45.0    155000.000000\n",
              "41.0    146000.000000\n",
              "36.0    145333.333333\n",
              "69.0    100000.000000\n",
              "Name: salarioBase, dtype: float64"
            ]
          },
          "metadata": {},
          "execution_count": 229
        }
      ]
    },
    {
      "cell_type": "markdown",
      "source": [
        "Por fim verificamos para sermos mais precisos os tempo na empresa com o  salario base, tanto abaixo de 1 anos quanto acima de 10 anos."
      ],
      "metadata": {
        "id": "k0R2Tl3lOBaD"
      }
    },
    {
      "cell_type": "code",
      "source": [
        "df_empresa_tempo = df_novo.where(df_novo['temponaEmpresa'] >= 10.0).groupby(['temponaEmpresa'])['salarioBase'].mean()"
      ],
      "metadata": {
        "id": "RxIg1ewG-iSU"
      },
      "execution_count": 230,
      "outputs": []
    },
    {
      "cell_type": "code",
      "source": [
        "df_novo.where(df_novo['temponaEmpresa'] >= 10.0).groupby(['temponaEmpresa'])['salarioBase'].mean()"
      ],
      "metadata": {
        "id": "xztFYni-N6ZY",
        "colab": {
          "base_uri": "https://localhost:8080/"
        },
        "outputId": "cd7c34e4-e8d8-4002-d63c-f3c7889a7350"
      },
      "execution_count": 231,
      "outputs": [
        {
          "output_type": "execute_result",
          "data": {
            "text/plain": [
              "temponaEmpresa\n",
              "10.0    165394.588487\n",
              "11.0    167373.894474\n",
              "12.0    172591.076360\n",
              "13.0    177346.497377\n",
              "14.0    171166.594266\n",
              "15.0    175827.008379\n",
              "15.5    189000.000000\n",
              "16.0    180667.222145\n",
              "17.0    178242.176927\n",
              "18.0    181885.918468\n",
              "19.0    179095.802906\n",
              "20.0    175925.850466\n",
              "21.0    185266.666667\n",
              "22.0    200240.000000\n",
              "23.0    194303.877702\n",
              "24.0    172423.129503\n",
              "25.0    184003.371915\n",
              "26.0    209833.333333\n",
              "27.0    235600.000000\n",
              "28.0    255000.000000\n",
              "30.0    154538.777021\n",
              "32.0    181000.000000\n",
              "33.0    171000.000000\n",
              "34.0    158000.000000\n",
              "40.0    158000.000000\n",
              "69.0    100000.000000\n",
              "Name: salarioBase, dtype: float64"
            ]
          },
          "metadata": {},
          "execution_count": 231
        }
      ]
    },
    {
      "cell_type": "code",
      "source": [
        "df_empresa_tempo.plot(kind = \"barh\")"
      ],
      "metadata": {
        "colab": {
          "base_uri": "https://localhost:8080/",
          "height": 283
        },
        "id": "KxKs6UMNNdUd",
        "outputId": "436d4a2a-2514-40e5-ee43-17aa4976175b"
      },
      "execution_count": 232,
      "outputs": [
        {
          "output_type": "execute_result",
          "data": {
            "text/plain": [
              "<matplotlib.axes._subplots.AxesSubplot at 0x7f90e830c760>"
            ]
          },
          "metadata": {},
          "execution_count": 232
        },
        {
          "output_type": "display_data",
          "data": {
            "text/plain": [
              "<Figure size 432x288 with 1 Axes>"
            ],
            "image/png": "[encoded data removed]"
          },
          "metadata": {
            "needs_background": "light"
          }
        }
      ]
    },
    {
      "cell_type": "code",
      "source": [
        "df_novo.where(df_novo['temponaEmpresa'] <= 1.0).groupby(['temponaEmpresa'])['salarioBase'].mean()"
      ],
      "metadata": {
        "colab": {
          "base_uri": "https://localhost:8080/"
        },
        "id": "FGErJxhqOQpl",
        "outputId": "7b8e7945-9162-401b-df80-492f1e37e8d8"
      },
      "execution_count": 233,
      "outputs": [
        {
          "output_type": "execute_result",
          "data": {
            "text/plain": [
              "temponaEmpresa\n",
              "0.00    136084.055208\n",
              "0.10    147928.571429\n",
              "0.20    127900.000000\n",
              "0.25    132669.539039\n",
              "0.30    128348.844142\n",
              "0.33    115000.000000\n",
              "0.40    134538.777021\n",
              "0.50    135362.574468\n",
              "0.58    128000.000000\n",
              "0.60    114923.076923\n",
              "0.70    145500.000000\n",
              "0.75     80000.000000\n",
              "0.80    129072.789787\n",
              "0.85    139077.554041\n",
              "1.00    133513.844961\n",
              "Name: salarioBase, dtype: float64"
            ]
          },
          "metadata": {},
          "execution_count": 233
        }
      ]
    },
    {
      "cell_type": "code",
      "source": [
        "df_empresa_1 = df_novo.where(df_novo['temponaEmpresa'] <= 1.0).groupby(['temponaEmpresa'])['salarioBase'].mean()"
      ],
      "metadata": {
        "id": "96XT0lKD-wrd"
      },
      "execution_count": 234,
      "outputs": []
    },
    {
      "cell_type": "markdown",
      "source": [
        "Verificamos que há uma queda brusca nos dados que remetem a 0.75 anos de empresa, provavelmente devido a variaçãod e dados referente a localização, pode haver um ruido em questão de paises com crises economicas, onde preferese diminuir o salario a demissão."
      ],
      "metadata": {
        "id": "NqLZLvXwOqLL"
      }
    },
    {
      "cell_type": "code",
      "source": [
        "df_empresa_1.plot(kind = 'bar')"
      ],
      "metadata": {
        "colab": {
          "base_uri": "https://localhost:8080/",
          "height": 310
        },
        "id": "f7ynXIakOWcA",
        "outputId": "caa8afb5-bd16-4d6a-c126-87dfe48588b2"
      },
      "execution_count": 235,
      "outputs": [
        {
          "output_type": "execute_result",
          "data": {
            "text/plain": [
              "<matplotlib.axes._subplots.AxesSubplot at 0x7f90e825b070>"
            ]
          },
          "metadata": {},
          "execution_count": 235
        },
        {
          "output_type": "display_data",
          "data": {
            "text/plain": [
              "<Figure size 432x288 with 1 Axes>"
            ],
            "image/png": "[encoded data removed]"
          },
          "metadata": {
            "needs_background": "light"
          }
        }
      ]
    }
  ]
}
